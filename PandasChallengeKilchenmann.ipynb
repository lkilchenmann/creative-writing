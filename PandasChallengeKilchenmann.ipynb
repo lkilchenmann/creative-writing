{
 "cells": [
  {
   "cell_type": "code",
   "execution_count": 1,
   "id": "38665d81",
   "metadata": {},
   "outputs": [],
   "source": [
    "import pandas as pd\n",
    "import matplotlib as plt"
   ]
  },
  {
   "cell_type": "code",
   "execution_count": 2,
   "id": "dc7bc594",
   "metadata": {},
   "outputs": [],
   "source": [
    "my_data = {\"Animal\": [\"Cat\", \"Dog\", \"Wolf\"],\n",
    "          \"Eats\": [\"Cat food\", \"Everything\", \"Grandma\"],\n",
    "          \"Pet or Threat?\": [\"Pet\", \"Pet\", \"Threat\"]}\n",
    "my_df = pd.DataFrame(my_data)"
   ]
  },
  {
   "cell_type": "code",
   "execution_count": 3,
   "id": "2b983ec1",
   "metadata": {},
   "outputs": [
    {
     "data": {
      "text/html": [
       "<div>\n",
       "<style scoped>\n",
       "    .dataframe tbody tr th:only-of-type {\n",
       "        vertical-align: middle;\n",
       "    }\n",
       "\n",
       "    .dataframe tbody tr th {\n",
       "        vertical-align: top;\n",
       "    }\n",
       "\n",
       "    .dataframe thead th {\n",
       "        text-align: right;\n",
       "    }\n",
       "</style>\n",
       "<table border=\"1\" class=\"dataframe\">\n",
       "  <thead>\n",
       "    <tr style=\"text-align: right;\">\n",
       "      <th></th>\n",
       "      <th>Animal</th>\n",
       "      <th>Eats</th>\n",
       "      <th>Pet or Threat?</th>\n",
       "    </tr>\n",
       "  </thead>\n",
       "  <tbody>\n",
       "    <tr>\n",
       "      <th>0</th>\n",
       "      <td>Cat</td>\n",
       "      <td>Cat food</td>\n",
       "      <td>Pet</td>\n",
       "    </tr>\n",
       "    <tr>\n",
       "      <th>1</th>\n",
       "      <td>Dog</td>\n",
       "      <td>Everything</td>\n",
       "      <td>Pet</td>\n",
       "    </tr>\n",
       "    <tr>\n",
       "      <th>2</th>\n",
       "      <td>Wolf</td>\n",
       "      <td>Grandma</td>\n",
       "      <td>Threat</td>\n",
       "    </tr>\n",
       "  </tbody>\n",
       "</table>\n",
       "</div>"
      ],
      "text/plain": [
       "  Animal        Eats Pet or Threat?\n",
       "0    Cat    Cat food            Pet\n",
       "1    Dog  Everything            Pet\n",
       "2   Wolf     Grandma         Threat"
      ]
     },
     "execution_count": 3,
     "metadata": {},
     "output_type": "execute_result"
    }
   ],
   "source": [
    "my_df"
   ]
  },
  {
   "cell_type": "code",
   "execution_count": 5,
   "id": "f37a89c4",
   "metadata": {},
   "outputs": [
    {
     "data": {
      "text/html": [
       "<div>\n",
       "<style scoped>\n",
       "    .dataframe tbody tr th:only-of-type {\n",
       "        vertical-align: middle;\n",
       "    }\n",
       "\n",
       "    .dataframe tbody tr th {\n",
       "        vertical-align: top;\n",
       "    }\n",
       "\n",
       "    .dataframe thead th {\n",
       "        text-align: right;\n",
       "    }\n",
       "</style>\n",
       "<table border=\"1\" class=\"dataframe\">\n",
       "  <thead>\n",
       "    <tr style=\"text-align: right;\">\n",
       "      <th></th>\n",
       "      <th>Animal</th>\n",
       "      <th>Eats</th>\n",
       "      <th>Pet or Threat?</th>\n",
       "    </tr>\n",
       "  </thead>\n",
       "  <tbody>\n",
       "    <tr>\n",
       "      <th>0</th>\n",
       "      <td>Cat</td>\n",
       "      <td>Cat food</td>\n",
       "      <td>Pet</td>\n",
       "    </tr>\n",
       "    <tr>\n",
       "      <th>1</th>\n",
       "      <td>Dog</td>\n",
       "      <td>Everything</td>\n",
       "      <td>Pet</td>\n",
       "    </tr>\n",
       "    <tr>\n",
       "      <th>2</th>\n",
       "      <td>Wolf</td>\n",
       "      <td>Grandma</td>\n",
       "      <td>Threat</td>\n",
       "    </tr>\n",
       "  </tbody>\n",
       "</table>\n",
       "</div>"
      ],
      "text/plain": [
       "  Animal        Eats Pet or Threat?\n",
       "0    Cat    Cat food            Pet\n",
       "1    Dog  Everything            Pet\n",
       "2   Wolf     Grandma         Threat"
      ]
     },
     "execution_count": 5,
     "metadata": {},
     "output_type": "execute_result"
    }
   ],
   "source": [
    "my_df.head()"
   ]
  },
  {
   "cell_type": "code",
   "execution_count": 7,
   "id": "cc9d33fd",
   "metadata": {},
   "outputs": [
    {
     "data": {
      "text/plain": [
       "RangeIndex(start=0, stop=3, step=1)"
      ]
     },
     "execution_count": 7,
     "metadata": {},
     "output_type": "execute_result"
    }
   ],
   "source": [
    "my_df.index"
   ]
  },
  {
   "cell_type": "code",
   "execution_count": 10,
   "id": "96a318c2",
   "metadata": {},
   "outputs": [
    {
     "data": {
      "text/plain": [
       "0     Cat\n",
       "1     Dog\n",
       "2    Wolf\n",
       "Name: Animal, dtype: object"
      ]
     },
     "execution_count": 10,
     "metadata": {},
     "output_type": "execute_result"
    }
   ],
   "source": [
    "my_df[\"Animal\"]"
   ]
  },
  {
   "cell_type": "markdown",
   "id": "b9b0cb34",
   "metadata": {},
   "source": [
    "my_df.head(1)"
   ]
  },
  {
   "cell_type": "code",
   "execution_count": 11,
   "id": "c74119e1",
   "metadata": {},
   "outputs": [
    {
     "data": {
      "text/html": [
       "<div>\n",
       "<style scoped>\n",
       "    .dataframe tbody tr th:only-of-type {\n",
       "        vertical-align: middle;\n",
       "    }\n",
       "\n",
       "    .dataframe tbody tr th {\n",
       "        vertical-align: top;\n",
       "    }\n",
       "\n",
       "    .dataframe thead th {\n",
       "        text-align: right;\n",
       "    }\n",
       "</style>\n",
       "<table border=\"1\" class=\"dataframe\">\n",
       "  <thead>\n",
       "    <tr style=\"text-align: right;\">\n",
       "      <th></th>\n",
       "      <th>Animal</th>\n",
       "      <th>Eats</th>\n",
       "      <th>Pet or Threat?</th>\n",
       "    </tr>\n",
       "  </thead>\n",
       "  <tbody>\n",
       "    <tr>\n",
       "      <th>0</th>\n",
       "      <td>Cat</td>\n",
       "      <td>Cat food</td>\n",
       "      <td>Pet</td>\n",
       "    </tr>\n",
       "  </tbody>\n",
       "</table>\n",
       "</div>"
      ],
      "text/plain": [
       "  Animal      Eats Pet or Threat?\n",
       "0    Cat  Cat food            Pet"
      ]
     },
     "execution_count": 11,
     "metadata": {},
     "output_type": "execute_result"
    }
   ],
   "source": [
    "my_df.head(1)"
   ]
  },
  {
   "cell_type": "code",
   "execution_count": 21,
   "id": "7ae4b535",
   "metadata": {},
   "outputs": [],
   "source": [
    "my_data2 = [{\"Animal\": \"Cat\", \"Eats\": \"Cat food\", \"Pet or Threat?\": \"Pet\"}, \n",
    "            {\"Animal\": \"Dog\", \"Eats\": \"Everything\", \"Pet or Threat?\": \"Pet\"}, \n",
    "            {\"Animal\":\"Wolf\", \"Eats\": \"Grandma\", \"Pet or Threat?\": \"Threat\"}]"
   ]
  },
  {
   "cell_type": "code",
   "execution_count": 22,
   "id": "f67fce19",
   "metadata": {},
   "outputs": [],
   "source": [
    "my_df2 = pd.DataFrame(my_data2)"
   ]
  },
  {
   "cell_type": "code",
   "execution_count": 23,
   "id": "45f3ba3f",
   "metadata": {},
   "outputs": [
    {
     "data": {
      "text/html": [
       "<div>\n",
       "<style scoped>\n",
       "    .dataframe tbody tr th:only-of-type {\n",
       "        vertical-align: middle;\n",
       "    }\n",
       "\n",
       "    .dataframe tbody tr th {\n",
       "        vertical-align: top;\n",
       "    }\n",
       "\n",
       "    .dataframe thead th {\n",
       "        text-align: right;\n",
       "    }\n",
       "</style>\n",
       "<table border=\"1\" class=\"dataframe\">\n",
       "  <thead>\n",
       "    <tr style=\"text-align: right;\">\n",
       "      <th></th>\n",
       "      <th>Animal</th>\n",
       "      <th>Eats</th>\n",
       "      <th>Pet or Threat?</th>\n",
       "    </tr>\n",
       "  </thead>\n",
       "  <tbody>\n",
       "    <tr>\n",
       "      <th>0</th>\n",
       "      <td>Cat</td>\n",
       "      <td>Cat food</td>\n",
       "      <td>Pet</td>\n",
       "    </tr>\n",
       "    <tr>\n",
       "      <th>1</th>\n",
       "      <td>Dog</td>\n",
       "      <td>Everything</td>\n",
       "      <td>Pet</td>\n",
       "    </tr>\n",
       "    <tr>\n",
       "      <th>2</th>\n",
       "      <td>Wolf</td>\n",
       "      <td>Grandma</td>\n",
       "      <td>Threat</td>\n",
       "    </tr>\n",
       "  </tbody>\n",
       "</table>\n",
       "</div>"
      ],
      "text/plain": [
       "  Animal        Eats Pet or Threat?\n",
       "0    Cat    Cat food            Pet\n",
       "1    Dog  Everything            Pet\n",
       "2   Wolf     Grandma         Threat"
      ]
     },
     "execution_count": 23,
     "metadata": {},
     "output_type": "execute_result"
    }
   ],
   "source": [
    "my_df2"
   ]
  },
  {
   "cell_type": "code",
   "execution_count": 25,
   "id": "0a4375ef",
   "metadata": {},
   "outputs": [],
   "source": [
    "my_df2.to_csv(\"pandasChallengeKilchenmann.csv\")"
   ]
  },
  {
   "cell_type": "markdown",
   "id": "488f3d94",
   "metadata": {},
   "source": [
    "What does the \"write/render/evaluate\" loop provide for creators of interactive data visualizations? --> It helps refining the design and is very important. It helps creators make quick adjustments, test hypotheses, and  produce more engaging data visualizations."
   ]
  },
  {
   "cell_type": "markdown",
   "id": "315fb8aa",
   "metadata": {},
   "source": [
    "Why are dynamic, interactive data visualizations useful when communicating data? --> It is useful because it allows the audience to look at different perspectives and explore different aspects (as well as manipulate the data). "
   ]
  },
  {
   "cell_type": "markdown",
   "id": "3a7a4e82",
   "metadata": {},
   "source": [
    "Do you agree with Murray's claim that open-source tools that avoid proprietary software are best for publishing data visualization? --> I agree because I think data should be available for everybody and open-source makes that easier."
   ]
  },
  {
   "cell_type": "code",
   "execution_count": null,
   "id": "27418420",
   "metadata": {},
   "outputs": [],
   "source": []
  }
 ],
 "metadata": {
  "kernelspec": {
   "display_name": "Python 3 (ipykernel)",
   "language": "python",
   "name": "python3"
  },
  "language_info": {
   "codemirror_mode": {
    "name": "ipython",
    "version": 3
   },
   "file_extension": ".py",
   "mimetype": "text/x-python",
   "name": "python",
   "nbconvert_exporter": "python",
   "pygments_lexer": "ipython3",
   "version": "3.9.7"
  }
 },
 "nbformat": 4,
 "nbformat_minor": 5
}
