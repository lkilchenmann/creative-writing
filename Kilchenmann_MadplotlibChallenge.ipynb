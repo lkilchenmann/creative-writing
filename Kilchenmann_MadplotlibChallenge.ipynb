{
 "cells": [
  {
   "cell_type": "code",
   "execution_count": 7,
   "id": "9c1073ae-a0b6-472d-89db-2f0bcfcca49c",
   "metadata": {},
   "outputs": [
    {
     "name": "stdout",
     "output_type": "stream",
     "text": [
      "Intel MKL WARNING: Support of Intel(R) Streaming SIMD Extensions 4.2 (Intel(R) SSE4.2) enabled only processors has been deprecated. Intel oneAPI Math Kernel Library 2025.0 will require Intel(R) Advanced Vector Extensions (Intel(R) AVX) instructions.\n",
      "Intel MKL WARNING: Support of Intel(R) Streaming SIMD Extensions 4.2 (Intel(R) SSE4.2) enabled only processors has been deprecated. Intel oneAPI Math Kernel Library 2025.0 will require Intel(R) Advanced Vector Extensions (Intel(R) AVX) instructions.\n"
     ]
    }
   ],
   "source": [
    "import pandas as pd\n",
    "from matplotlib import pyplot as plt"
   ]
  },
  {
   "cell_type": "markdown",
   "id": "86ed4f9c-403d-4bfe-9447-697030aa5c43",
   "metadata": {},
   "source": [
    "I looked through the document and I would like to learn how to do a map (bubble map). I want to work in digital marketing, so for example, it would be interesting to display which state has the most buyers of a product, or stores of a certain kind. Like, if someone was looking into expanding it could be nice to see where there are already a lot of \"healthy alternative food stores\" or something like that.\n"
   ]
  },
  {
   "cell_type": "code",
   "execution_count": 8,
   "id": "c2eec4a2-e1a3-48f8-ad62-9e3ad7fb5c29",
   "metadata": {},
   "outputs": [],
   "source": [
    "cces = pd.read_csv(\"cces_example_data.csv\")"
   ]
  },
  {
   "cell_type": "code",
   "execution_count": 9,
   "id": "9f874b8c-20be-4ca6-a3cb-824114da6332",
   "metadata": {},
   "outputs": [
    {
     "data": {
      "text/html": [
       "<div>\n",
       "<style scoped>\n",
       "    .dataframe tbody tr th:only-of-type {\n",
       "        vertical-align: middle;\n",
       "    }\n",
       "\n",
       "    .dataframe tbody tr th {\n",
       "        vertical-align: top;\n",
       "    }\n",
       "\n",
       "    .dataframe thead th {\n",
       "        text-align: right;\n",
       "    }\n",
       "</style>\n",
       "<table border=\"1\" class=\"dataframe\">\n",
       "  <thead>\n",
       "    <tr style=\"text-align: right;\">\n",
       "      <th></th>\n",
       "      <th>pew_religimp</th>\n",
       "      <th>pew_churatd</th>\n",
       "      <th>sex</th>\n",
       "      <th>educ</th>\n",
       "      <th>nonwhite</th>\n",
       "      <th>age</th>\n",
       "      <th>faminc_new</th>\n",
       "      <th>pid3</th>\n",
       "      <th>ideo5</th>\n",
       "      <th>QueerPhobia</th>\n",
       "      <th>...</th>\n",
       "      <th>InterGBiasParty</th>\n",
       "      <th>InterGBiasCand</th>\n",
       "      <th>InterGBiasSup</th>\n",
       "      <th>LibMediaUse</th>\n",
       "      <th>ConMediaUse</th>\n",
       "      <th>Real_Threat</th>\n",
       "      <th>Symb_Threat</th>\n",
       "      <th>Evaluation</th>\n",
       "      <th>teamweight</th>\n",
       "      <th>caseid</th>\n",
       "    </tr>\n",
       "  </thead>\n",
       "  <tbody>\n",
       "    <tr>\n",
       "      <th>0</th>\n",
       "      <td>2</td>\n",
       "      <td>6</td>\n",
       "      <td>2</td>\n",
       "      <td>2</td>\n",
       "      <td>1</td>\n",
       "      <td>56</td>\n",
       "      <td>6</td>\n",
       "      <td>1</td>\n",
       "      <td>1</td>\n",
       "      <td>1.000000</td>\n",
       "      <td>...</td>\n",
       "      <td>-99</td>\n",
       "      <td>-99</td>\n",
       "      <td>-96</td>\n",
       "      <td>2.666667</td>\n",
       "      <td>1.000000</td>\n",
       "      <td>5.00</td>\n",
       "      <td>4.857143</td>\n",
       "      <td>0</td>\n",
       "      <td>0.505028</td>\n",
       "      <td>1231308943</td>\n",
       "    </tr>\n",
       "    <tr>\n",
       "      <th>1</th>\n",
       "      <td>2</td>\n",
       "      <td>4</td>\n",
       "      <td>2</td>\n",
       "      <td>5</td>\n",
       "      <td>1</td>\n",
       "      <td>53</td>\n",
       "      <td>13</td>\n",
       "      <td>1</td>\n",
       "      <td>2</td>\n",
       "      <td>3.000000</td>\n",
       "      <td>...</td>\n",
       "      <td>-100</td>\n",
       "      <td>-100</td>\n",
       "      <td>-100</td>\n",
       "      <td>2.000000</td>\n",
       "      <td>2.000000</td>\n",
       "      <td>5.00</td>\n",
       "      <td>5.000000</td>\n",
       "      <td>0</td>\n",
       "      <td>0.852381</td>\n",
       "      <td>1232300315</td>\n",
       "    </tr>\n",
       "    <tr>\n",
       "      <th>2</th>\n",
       "      <td>1</td>\n",
       "      <td>2</td>\n",
       "      <td>1</td>\n",
       "      <td>2</td>\n",
       "      <td>1</td>\n",
       "      <td>69</td>\n",
       "      <td>10</td>\n",
       "      <td>2</td>\n",
       "      <td>5</td>\n",
       "      <td>4.333333</td>\n",
       "      <td>...</td>\n",
       "      <td>99</td>\n",
       "      <td>99</td>\n",
       "      <td>96</td>\n",
       "      <td>1.000000</td>\n",
       "      <td>1.000000</td>\n",
       "      <td>5.00</td>\n",
       "      <td>5.000000</td>\n",
       "      <td>2</td>\n",
       "      <td>1.320189</td>\n",
       "      <td>1232358697</td>\n",
       "    </tr>\n",
       "    <tr>\n",
       "      <th>3</th>\n",
       "      <td>2</td>\n",
       "      <td>3</td>\n",
       "      <td>1</td>\n",
       "      <td>6</td>\n",
       "      <td>1</td>\n",
       "      <td>76</td>\n",
       "      <td>97</td>\n",
       "      <td>1</td>\n",
       "      <td>3</td>\n",
       "      <td>1.000000</td>\n",
       "      <td>...</td>\n",
       "      <td>-86</td>\n",
       "      <td>-91</td>\n",
       "      <td>-89</td>\n",
       "      <td>4.666667</td>\n",
       "      <td>1.333333</td>\n",
       "      <td>4.25</td>\n",
       "      <td>4.428571</td>\n",
       "      <td>0</td>\n",
       "      <td>0.519198</td>\n",
       "      <td>1232540961</td>\n",
       "    </tr>\n",
       "    <tr>\n",
       "      <th>4</th>\n",
       "      <td>4</td>\n",
       "      <td>5</td>\n",
       "      <td>2</td>\n",
       "      <td>6</td>\n",
       "      <td>1</td>\n",
       "      <td>83</td>\n",
       "      <td>4</td>\n",
       "      <td>1</td>\n",
       "      <td>2</td>\n",
       "      <td>1.000000</td>\n",
       "      <td>...</td>\n",
       "      <td>-80</td>\n",
       "      <td>-88</td>\n",
       "      <td>-87</td>\n",
       "      <td>4.666667</td>\n",
       "      <td>3.666667</td>\n",
       "      <td>4.25</td>\n",
       "      <td>5.000000</td>\n",
       "      <td>0</td>\n",
       "      <td>1.154005</td>\n",
       "      <td>1232580601</td>\n",
       "    </tr>\n",
       "    <tr>\n",
       "      <th>...</th>\n",
       "      <td>...</td>\n",
       "      <td>...</td>\n",
       "      <td>...</td>\n",
       "      <td>...</td>\n",
       "      <td>...</td>\n",
       "      <td>...</td>\n",
       "      <td>...</td>\n",
       "      <td>...</td>\n",
       "      <td>...</td>\n",
       "      <td>...</td>\n",
       "      <td>...</td>\n",
       "      <td>...</td>\n",
       "      <td>...</td>\n",
       "      <td>...</td>\n",
       "      <td>...</td>\n",
       "      <td>...</td>\n",
       "      <td>...</td>\n",
       "      <td>...</td>\n",
       "      <td>...</td>\n",
       "      <td>...</td>\n",
       "      <td>...</td>\n",
       "    </tr>\n",
       "    <tr>\n",
       "      <th>654</th>\n",
       "      <td>1</td>\n",
       "      <td>5</td>\n",
       "      <td>2</td>\n",
       "      <td>2</td>\n",
       "      <td>2</td>\n",
       "      <td>30</td>\n",
       "      <td>4</td>\n",
       "      <td>1</td>\n",
       "      <td>1</td>\n",
       "      <td>2.666667</td>\n",
       "      <td>...</td>\n",
       "      <td>-79</td>\n",
       "      <td>-90</td>\n",
       "      <td>-67</td>\n",
       "      <td>1.666667</td>\n",
       "      <td>1.666667</td>\n",
       "      <td>3.00</td>\n",
       "      <td>3.000000</td>\n",
       "      <td>3</td>\n",
       "      <td>1.182346</td>\n",
       "      <td>1259989749</td>\n",
       "    </tr>\n",
       "    <tr>\n",
       "      <th>655</th>\n",
       "      <td>2</td>\n",
       "      <td>2</td>\n",
       "      <td>1</td>\n",
       "      <td>4</td>\n",
       "      <td>1</td>\n",
       "      <td>19</td>\n",
       "      <td>97</td>\n",
       "      <td>1</td>\n",
       "      <td>1</td>\n",
       "      <td>1.000000</td>\n",
       "      <td>...</td>\n",
       "      <td>-49</td>\n",
       "      <td>-25</td>\n",
       "      <td>-7</td>\n",
       "      <td>2.666667</td>\n",
       "      <td>1.000000</td>\n",
       "      <td>3.75</td>\n",
       "      <td>4.714286</td>\n",
       "      <td>0</td>\n",
       "      <td>0.660217</td>\n",
       "      <td>1260782541</td>\n",
       "    </tr>\n",
       "    <tr>\n",
       "      <th>656</th>\n",
       "      <td>4</td>\n",
       "      <td>6</td>\n",
       "      <td>1</td>\n",
       "      <td>3</td>\n",
       "      <td>1</td>\n",
       "      <td>20</td>\n",
       "      <td>7</td>\n",
       "      <td>1</td>\n",
       "      <td>1</td>\n",
       "      <td>1.000000</td>\n",
       "      <td>...</td>\n",
       "      <td>-47</td>\n",
       "      <td>-47</td>\n",
       "      <td>-41</td>\n",
       "      <td>4.666667</td>\n",
       "      <td>4.666667</td>\n",
       "      <td>5.00</td>\n",
       "      <td>4.285714</td>\n",
       "      <td>0</td>\n",
       "      <td>1.027184</td>\n",
       "      <td>1260840787</td>\n",
       "    </tr>\n",
       "    <tr>\n",
       "      <th>657</th>\n",
       "      <td>2</td>\n",
       "      <td>2</td>\n",
       "      <td>1</td>\n",
       "      <td>3</td>\n",
       "      <td>1</td>\n",
       "      <td>23</td>\n",
       "      <td>5</td>\n",
       "      <td>2</td>\n",
       "      <td>4</td>\n",
       "      <td>3.666667</td>\n",
       "      <td>...</td>\n",
       "      <td>40</td>\n",
       "      <td>99</td>\n",
       "      <td>94</td>\n",
       "      <td>2.000000</td>\n",
       "      <td>2.333333</td>\n",
       "      <td>2.50</td>\n",
       "      <td>3.000000</td>\n",
       "      <td>2</td>\n",
       "      <td>1.433068</td>\n",
       "      <td>1261039231</td>\n",
       "    </tr>\n",
       "    <tr>\n",
       "      <th>658</th>\n",
       "      <td>2</td>\n",
       "      <td>2</td>\n",
       "      <td>1</td>\n",
       "      <td>3</td>\n",
       "      <td>1</td>\n",
       "      <td>23</td>\n",
       "      <td>5</td>\n",
       "      <td>2</td>\n",
       "      <td>4</td>\n",
       "      <td>3.666667</td>\n",
       "      <td>...</td>\n",
       "      <td>40</td>\n",
       "      <td>99</td>\n",
       "      <td>94</td>\n",
       "      <td>2.000000</td>\n",
       "      <td>2.333333</td>\n",
       "      <td>2.50</td>\n",
       "      <td>3.000000</td>\n",
       "      <td>2</td>\n",
       "      <td>1.433068</td>\n",
       "      <td>1261039231</td>\n",
       "    </tr>\n",
       "  </tbody>\n",
       "</table>\n",
       "<p>659 rows × 21 columns</p>\n",
       "</div>"
      ],
      "text/plain": [
       "     pew_religimp  pew_churatd  sex  educ  nonwhite  age  faminc_new  pid3  \\\n",
       "0               2            6    2     2         1   56           6     1   \n",
       "1               2            4    2     5         1   53          13     1   \n",
       "2               1            2    1     2         1   69          10     2   \n",
       "3               2            3    1     6         1   76          97     1   \n",
       "4               4            5    2     6         1   83           4     1   \n",
       "..            ...          ...  ...   ...       ...  ...         ...   ...   \n",
       "654             1            5    2     2         2   30           4     1   \n",
       "655             2            2    1     4         1   19          97     1   \n",
       "656             4            6    1     3         1   20           7     1   \n",
       "657             2            2    1     3         1   23           5     2   \n",
       "658             2            2    1     3         1   23           5     2   \n",
       "\n",
       "     ideo5  QueerPhobia  ...  InterGBiasParty  InterGBiasCand  InterGBiasSup  \\\n",
       "0        1     1.000000  ...              -99             -99            -96   \n",
       "1        2     3.000000  ...             -100            -100           -100   \n",
       "2        5     4.333333  ...               99              99             96   \n",
       "3        3     1.000000  ...              -86             -91            -89   \n",
       "4        2     1.000000  ...              -80             -88            -87   \n",
       "..     ...          ...  ...              ...             ...            ...   \n",
       "654      1     2.666667  ...              -79             -90            -67   \n",
       "655      1     1.000000  ...              -49             -25             -7   \n",
       "656      1     1.000000  ...              -47             -47            -41   \n",
       "657      4     3.666667  ...               40              99             94   \n",
       "658      4     3.666667  ...               40              99             94   \n",
       "\n",
       "     LibMediaUse  ConMediaUse  Real_Threat  Symb_Threat  Evaluation  \\\n",
       "0       2.666667     1.000000         5.00     4.857143           0   \n",
       "1       2.000000     2.000000         5.00     5.000000           0   \n",
       "2       1.000000     1.000000         5.00     5.000000           2   \n",
       "3       4.666667     1.333333         4.25     4.428571           0   \n",
       "4       4.666667     3.666667         4.25     5.000000           0   \n",
       "..           ...          ...          ...          ...         ...   \n",
       "654     1.666667     1.666667         3.00     3.000000           3   \n",
       "655     2.666667     1.000000         3.75     4.714286           0   \n",
       "656     4.666667     4.666667         5.00     4.285714           0   \n",
       "657     2.000000     2.333333         2.50     3.000000           2   \n",
       "658     2.000000     2.333333         2.50     3.000000           2   \n",
       "\n",
       "     teamweight      caseid  \n",
       "0      0.505028  1231308943  \n",
       "1      0.852381  1232300315  \n",
       "2      1.320189  1232358697  \n",
       "3      0.519198  1232540961  \n",
       "4      1.154005  1232580601  \n",
       "..          ...         ...  \n",
       "654    1.182346  1259989749  \n",
       "655    0.660217  1260782541  \n",
       "656    1.027184  1260840787  \n",
       "657    1.433068  1261039231  \n",
       "658    1.433068  1261039231  \n",
       "\n",
       "[659 rows x 21 columns]"
      ]
     },
     "execution_count": 9,
     "metadata": {},
     "output_type": "execute_result"
    }
   ],
   "source": [
    "cces"
   ]
  },
  {
   "cell_type": "code",
   "execution_count": 12,
   "id": "8f29710a-fd80-4e37-8f6b-ad4acd31dde2",
   "metadata": {},
   "outputs": [
    {
     "data": {
      "text/html": [
       "<div>\n",
       "<style scoped>\n",
       "    .dataframe tbody tr th:only-of-type {\n",
       "        vertical-align: middle;\n",
       "    }\n",
       "\n",
       "    .dataframe tbody tr th {\n",
       "        vertical-align: top;\n",
       "    }\n",
       "\n",
       "    .dataframe thead th {\n",
       "        text-align: right;\n",
       "    }\n",
       "</style>\n",
       "<table border=\"1\" class=\"dataframe\">\n",
       "  <thead>\n",
       "    <tr style=\"text-align: right;\">\n",
       "      <th></th>\n",
       "      <th>pew_religimp</th>\n",
       "      <th>pew_churatd</th>\n",
       "      <th>sex</th>\n",
       "      <th>educ</th>\n",
       "      <th>nonwhite</th>\n",
       "      <th>age</th>\n",
       "      <th>faminc_new</th>\n",
       "      <th>pid3</th>\n",
       "      <th>ideo5</th>\n",
       "      <th>QueerPhobia</th>\n",
       "      <th>...</th>\n",
       "      <th>InterGBiasParty</th>\n",
       "      <th>InterGBiasCand</th>\n",
       "      <th>InterGBiasSup</th>\n",
       "      <th>LibMediaUse</th>\n",
       "      <th>ConMediaUse</th>\n",
       "      <th>Real_Threat</th>\n",
       "      <th>Symb_Threat</th>\n",
       "      <th>Evaluation</th>\n",
       "      <th>teamweight</th>\n",
       "      <th>caseid</th>\n",
       "    </tr>\n",
       "  </thead>\n",
       "  <tbody>\n",
       "    <tr>\n",
       "      <th>0</th>\n",
       "      <td>2</td>\n",
       "      <td>6</td>\n",
       "      <td>2</td>\n",
       "      <td>2</td>\n",
       "      <td>1</td>\n",
       "      <td>56</td>\n",
       "      <td>6</td>\n",
       "      <td>1</td>\n",
       "      <td>1</td>\n",
       "      <td>1.000000</td>\n",
       "      <td>...</td>\n",
       "      <td>-99</td>\n",
       "      <td>-99</td>\n",
       "      <td>-96</td>\n",
       "      <td>2.666667</td>\n",
       "      <td>1.000000</td>\n",
       "      <td>5.00</td>\n",
       "      <td>4.857143</td>\n",
       "      <td>0</td>\n",
       "      <td>0.505028</td>\n",
       "      <td>1231308943</td>\n",
       "    </tr>\n",
       "    <tr>\n",
       "      <th>1</th>\n",
       "      <td>2</td>\n",
       "      <td>4</td>\n",
       "      <td>2</td>\n",
       "      <td>5</td>\n",
       "      <td>1</td>\n",
       "      <td>53</td>\n",
       "      <td>13</td>\n",
       "      <td>1</td>\n",
       "      <td>2</td>\n",
       "      <td>3.000000</td>\n",
       "      <td>...</td>\n",
       "      <td>-100</td>\n",
       "      <td>-100</td>\n",
       "      <td>-100</td>\n",
       "      <td>2.000000</td>\n",
       "      <td>2.000000</td>\n",
       "      <td>5.00</td>\n",
       "      <td>5.000000</td>\n",
       "      <td>0</td>\n",
       "      <td>0.852381</td>\n",
       "      <td>1232300315</td>\n",
       "    </tr>\n",
       "    <tr>\n",
       "      <th>2</th>\n",
       "      <td>1</td>\n",
       "      <td>2</td>\n",
       "      <td>1</td>\n",
       "      <td>2</td>\n",
       "      <td>1</td>\n",
       "      <td>69</td>\n",
       "      <td>10</td>\n",
       "      <td>2</td>\n",
       "      <td>5</td>\n",
       "      <td>4.333333</td>\n",
       "      <td>...</td>\n",
       "      <td>99</td>\n",
       "      <td>99</td>\n",
       "      <td>96</td>\n",
       "      <td>1.000000</td>\n",
       "      <td>1.000000</td>\n",
       "      <td>5.00</td>\n",
       "      <td>5.000000</td>\n",
       "      <td>2</td>\n",
       "      <td>1.320189</td>\n",
       "      <td>1232358697</td>\n",
       "    </tr>\n",
       "    <tr>\n",
       "      <th>3</th>\n",
       "      <td>2</td>\n",
       "      <td>3</td>\n",
       "      <td>1</td>\n",
       "      <td>6</td>\n",
       "      <td>1</td>\n",
       "      <td>76</td>\n",
       "      <td>97</td>\n",
       "      <td>1</td>\n",
       "      <td>3</td>\n",
       "      <td>1.000000</td>\n",
       "      <td>...</td>\n",
       "      <td>-86</td>\n",
       "      <td>-91</td>\n",
       "      <td>-89</td>\n",
       "      <td>4.666667</td>\n",
       "      <td>1.333333</td>\n",
       "      <td>4.25</td>\n",
       "      <td>4.428571</td>\n",
       "      <td>0</td>\n",
       "      <td>0.519198</td>\n",
       "      <td>1232540961</td>\n",
       "    </tr>\n",
       "    <tr>\n",
       "      <th>4</th>\n",
       "      <td>4</td>\n",
       "      <td>5</td>\n",
       "      <td>2</td>\n",
       "      <td>6</td>\n",
       "      <td>1</td>\n",
       "      <td>83</td>\n",
       "      <td>4</td>\n",
       "      <td>1</td>\n",
       "      <td>2</td>\n",
       "      <td>1.000000</td>\n",
       "      <td>...</td>\n",
       "      <td>-80</td>\n",
       "      <td>-88</td>\n",
       "      <td>-87</td>\n",
       "      <td>4.666667</td>\n",
       "      <td>3.666667</td>\n",
       "      <td>4.25</td>\n",
       "      <td>5.000000</td>\n",
       "      <td>0</td>\n",
       "      <td>1.154005</td>\n",
       "      <td>1232580601</td>\n",
       "    </tr>\n",
       "  </tbody>\n",
       "</table>\n",
       "<p>5 rows × 21 columns</p>\n",
       "</div>"
      ],
      "text/plain": [
       "   pew_religimp  pew_churatd  sex  educ  nonwhite  age  faminc_new  pid3  \\\n",
       "0             2            6    2     2         1   56           6     1   \n",
       "1             2            4    2     5         1   53          13     1   \n",
       "2             1            2    1     2         1   69          10     2   \n",
       "3             2            3    1     6         1   76          97     1   \n",
       "4             4            5    2     6         1   83           4     1   \n",
       "\n",
       "   ideo5  QueerPhobia  ...  InterGBiasParty  InterGBiasCand  InterGBiasSup  \\\n",
       "0      1     1.000000  ...              -99             -99            -96   \n",
       "1      2     3.000000  ...             -100            -100           -100   \n",
       "2      5     4.333333  ...               99              99             96   \n",
       "3      3     1.000000  ...              -86             -91            -89   \n",
       "4      2     1.000000  ...              -80             -88            -87   \n",
       "\n",
       "   LibMediaUse  ConMediaUse  Real_Threat  Symb_Threat  Evaluation  teamweight  \\\n",
       "0     2.666667     1.000000         5.00     4.857143           0    0.505028   \n",
       "1     2.000000     2.000000         5.00     5.000000           0    0.852381   \n",
       "2     1.000000     1.000000         5.00     5.000000           2    1.320189   \n",
       "3     4.666667     1.333333         4.25     4.428571           0    0.519198   \n",
       "4     4.666667     3.666667         4.25     5.000000           0    1.154005   \n",
       "\n",
       "       caseid  \n",
       "0  1231308943  \n",
       "1  1232300315  \n",
       "2  1232358697  \n",
       "3  1232540961  \n",
       "4  1232580601  \n",
       "\n",
       "[5 rows x 21 columns]"
      ]
     },
     "execution_count": 12,
     "metadata": {},
     "output_type": "execute_result"
    }
   ],
   "source": [
    "cces.head()"
   ]
  },
  {
   "cell_type": "code",
   "execution_count": 11,
   "id": "4457bc17-2480-4c73-9481-53f9ad9adc0c",
   "metadata": {},
   "outputs": [
    {
     "data": {
      "image/png": "[encoded data removed]",
      "text/plain": [
       "<Figure size 640x480 with 2 Axes>"
      ]
     },
     "metadata": {},
     "output_type": "display_data"
    }
   ],
   "source": [
    "fig1, ax1 = plt.subplots(1, 2)\n",
    "\n",
    "plt.show()"
   ]
  },
  {
   "cell_type": "markdown",
   "id": "8d24c9db-70a1-4b8b-930c-3ab05c308f78",
   "metadata": {},
   "source": [
    "I believe these are two axes? I only used ax1 though. I am confused about the sentence \"Create and show in your notebook an empty figure that contains two axes stored as a matrix using the methods and syntax demonstrated in class\". An empty figure means 1 figure. So 1 figure with two axes? But as a matrix. I believe what i did counts but if it's wrong, that's the reason why I did it like that."
   ]
  },
  {
   "cell_type": "code",
   "execution_count": 28,
   "id": "68fdfc8d-cb83-4b02-8b73-bd6fb407fac6",
   "metadata": {},
   "outputs": [
    {
     "data": {
      "image/png": "[encoded data removed]",
      "text/plain": [
       "<Figure size 640x480 with 2 Axes>"
      ]
     },
     "metadata": {},
     "output_type": "display_data"
    }
   ],
   "source": [
    "fig2, ax2 = plt.subplots(1, 2)\n",
    "\n",
    "ax2[0].set_title(\"Age Histogram\")\n",
    "ax2[1].set_title(\"Political Identity\")\n",
    "\n",
    "plt.show()"
   ]
  },
  {
   "cell_type": "markdown",
   "id": "6e899470-c38c-429c-ab7b-8f22f814e72b",
   "metadata": {},
   "source": [
    "For the next step, I first want to sum my data."
   ]
  },
  {
   "cell_type": "code",
   "execution_count": 13,
   "id": "4475e5eb-b541-4298-a149-590aff557eda",
   "metadata": {},
   "outputs": [
    {
     "name": "stdout",
     "output_type": "stream",
     "text": [
      "<class 'pandas.core.frame.DataFrame'>\n",
      "RangeIndex: 659 entries, 0 to 658\n",
      "Data columns (total 21 columns):\n",
      " #   Column           Non-Null Count  Dtype  \n",
      "---  ------           --------------  -----  \n",
      " 0   pew_religimp     659 non-null    int64  \n",
      " 1   pew_churatd      659 non-null    int64  \n",
      " 2   sex              659 non-null    int64  \n",
      " 3   educ             659 non-null    int64  \n",
      " 4   nonwhite         659 non-null    int64  \n",
      " 5   age              659 non-null    int64  \n",
      " 6   faminc_new       659 non-null    int64  \n",
      " 7   pid3             659 non-null    int64  \n",
      " 8   ideo5            659 non-null    int64  \n",
      " 9   QueerPhobia      659 non-null    float64\n",
      " 10  ImmiPhobia       659 non-null    float64\n",
      " 11  InterGBiasParty  659 non-null    int64  \n",
      " 12  InterGBiasCand   659 non-null    int64  \n",
      " 13  InterGBiasSup    659 non-null    int64  \n",
      " 14  LibMediaUse      659 non-null    float64\n",
      " 15  ConMediaUse      659 non-null    float64\n",
      " 16  Real_Threat      659 non-null    float64\n",
      " 17  Symb_Threat      659 non-null    float64\n",
      " 18  Evaluation       659 non-null    int64  \n",
      " 19  teamweight       659 non-null    float64\n",
      " 20  caseid           659 non-null    int64  \n",
      "dtypes: float64(7), int64(14)\n",
      "memory usage: 108.2 KB\n"
     ]
    }
   ],
   "source": [
    "cces.info()"
   ]
  },
  {
   "cell_type": "code",
   "execution_count": 14,
   "id": "663b8a04-6943-4edc-8bd4-ec6b7d6a9270",
   "metadata": {},
   "outputs": [
    {
     "data": {
      "text/plain": [
       "count    659.000000\n",
       "mean       0.886191\n",
       "std        1.056507\n",
       "min        0.000000\n",
       "25%        0.000000\n",
       "50%        0.000000\n",
       "75%        2.000000\n",
       "max        3.000000\n",
       "Name: Evaluation, dtype: float64"
      ]
     },
     "execution_count": 14,
     "metadata": {},
     "output_type": "execute_result"
    }
   ],
   "source": [
    "cces[\"Evaluation\"].describe()"
   ]
  },
  {
   "cell_type": "code",
   "execution_count": 20,
   "id": "e13c9ece-3561-4463-b7c9-31e5d1aab01f",
   "metadata": {},
   "outputs": [
    {
     "data": {
      "text/plain": [
       "659"
      ]
     },
     "execution_count": 20,
     "metadata": {},
     "output_type": "execute_result"
    }
   ],
   "source": [
    "cces[\"Evaluation\"].count()"
   ]
  },
  {
   "cell_type": "code",
   "execution_count": 33,
   "id": "c05dfecf-f3db-4c1f-9355-73aad4064b68",
   "metadata": {},
   "outputs": [
    {
     "data": {
      "text/plain": [
       "Index([0, 1, 2, 3], dtype='int64', name='Evaluation')"
      ]
     },
     "execution_count": 33,
     "metadata": {},
     "output_type": "execute_result"
    }
   ],
   "source": [
    "eval_freq = cces.groupby(\"Evaluation\")[\"caseid\"].count()\n",
    "eval_freq.index"
   ]
  },
  {
   "cell_type": "code",
   "execution_count": 34,
   "id": "fa4f2495-b0b4-4ce4-96f8-9b2c5afbe055",
   "metadata": {},
   "outputs": [
    {
     "data": {
      "text/plain": [
       "Evaluation\n",
       "0    365\n",
       "1     48\n",
       "2    202\n",
       "3     44\n",
       "Name: caseid, dtype: int64"
      ]
     },
     "execution_count": 34,
     "metadata": {},
     "output_type": "execute_result"
    }
   ],
   "source": [
    "eval_freq"
   ]
  },
  {
   "cell_type": "code",
   "execution_count": 35,
   "id": "31430c2f-1c6e-42a5-9fcb-0505c30c5792",
   "metadata": {},
   "outputs": [
    {
     "data": {
      "image/png": "[encoded data removed]",
      "text/plain": [
       "<Figure size 640x480 with 1 Axes>"
      ]
     },
     "metadata": {},
     "output_type": "display_data"
    }
   ],
   "source": [
    "fig3, ax3 = plt.subplots()\n",
    "ax3.bar(x = eval_freq.index, height = eval_freq)\n",
    "\n",
    "plt.show()"
   ]
  },
  {
   "cell_type": "markdown",
   "id": "60ef58d7-5ebc-45ae-9327-7bbd25490cae",
   "metadata": {},
   "source": [
    "I am not sure if this is right because it seemed like there were more caseids but I'm not sure."
   ]
  },
  {
   "cell_type": "code",
   "execution_count": 66,
   "id": "be6d943f-dad9-4e09-bd7e-1c96a0f0e0b4",
   "metadata": {},
   "outputs": [
    {
     "data": {
      "image/png": "[encoded data removed]",
      "text/plain": [
       "<Figure size 640x480 with 1 Axes>"
      ]
     },
     "metadata": {},
     "output_type": "display_data"
    }
   ],
   "source": [
    "fig4, ax4 = plt.subplots()\n",
    "ax4.scatter(x = cces[\"caseid\"], y = cces[\"ConMediaUse\"], marker = \"<\")\n",
    "ax4.scatter(x = cces[\"caseid\"], y = cces[\"ImmiPhobia\"], marker = \"o\")\n",
    "ax4.set_title('Scatter Plot of ConMediaUse vs ImmiPhobia')\n",
    "ax4.set_xlabel(\"Caseid\")\n",
    "ax4.set_ylabel(\"Amount\")\n",
    "plt.show()"
   ]
  },
  {
   "cell_type": "markdown",
   "id": "8f5e9cc6-5cf6-4c4a-9e85-aefd36c81e82",
   "metadata": {},
   "source": [
    "I think I am on the right track but I am not sure what this plot is showing."
   ]
  },
  {
   "cell_type": "code",
   "execution_count": 68,
   "id": "dccf7dd2-664e-47ca-b2db-2340a300fd9f",
   "metadata": {},
   "outputs": [
    {
     "data": {
      "image/png": "[encoded data removed]",
      "text/plain": [
       "<Figure size 640x480 with 1 Axes>"
      ]
     },
     "metadata": {},
     "output_type": "display_data"
    }
   ],
   "source": [
    "fig5, ax5 = plt.subplots()\n",
    "ax5.scatter(x = cces[\"Evaluation\"], y = cces[\"ConMediaUse\"], marker = \"<\")\n",
    "ax5.scatter(x = cces[\"Evaluation\"], y = cces[\"ImmiPhobia\"], marker = \"o\")\n",
    "ax5.set_title('Scatter Plot of ConMediaUse vs ImmiPhobia')\n",
    "plt.show()"
   ]
  },
  {
   "cell_type": "markdown",
   "id": "b0cad3de-baed-452d-b5aa-ea450d99f9f0",
   "metadata": {},
   "source": [
    "I'd like to change the top line and far right line. I think it would look better without them there, and I think it is possible because in CHapter 2.1 there are mentions of different line types (so no line at all should also work). I also would like different colors but when I tried green or g it did not work (also chapter 2.1). I am fairly certain that both of my plots are wrong so it is kind of hard to answer this question. I am sure there are other plot types that would work well. Maybe a histogram or density plot (Chapter 5.2)."
   ]
  },
  {
   "cell_type": "code",
   "execution_count": null,
   "id": "9255a4d2-dcc6-4ddd-87e1-02fa4f539040",
   "metadata": {},
   "outputs": [],
   "source": []
  }
 ],
 "metadata": {
  "kernelspec": {
   "display_name": "Python 3 (ipykernel)",
   "language": "python",
   "name": "python3"
  },
  "language_info": {
   "codemirror_mode": {
    "name": "ipython",
    "version": 3
   },
   "file_extension": ".py",
   "mimetype": "text/x-python",
   "name": "python",
   "nbconvert_exporter": "python",
   "pygments_lexer": "ipython3",
   "version": "3.12.4"
  }
 },
 "nbformat": 4,
 "nbformat_minor": 5
}
