{
 "cells": [
  {
   "cell_type": "markdown",
   "source": [
    "# Systems Check Assignment 1 \n",
    "## Lara Kilchenmann\n",
    "### 8/20/2024"
   ],
   "metadata": {}
  },
  {
   "cell_type": "markdown",
   "source": [
    "### What do I hope to get out of this class?"
   ],
   "metadata": {}
  },
  {
   "cell_type": "markdown",
   "source": [
    "As a person with no **previous Python** experience, I want to be able to use Python."
   ],
   "metadata": {}
  },
  {
   "cell_type": "markdown",
   "source": [
    "~~That's all folks~~"
   ],
   "metadata": {}
  },
  {
   "cell_type": "markdown",
   "source": [
    "Well, wait... The assignment requires me to do more than *just that*."
   ],
   "metadata": {}
  },
  {
   "cell_type": "markdown",
   "source": [
    "Let's see... Can I make a list of what I want to get out of this class? **This** specific **one**? Not *any* other class?"
   ],
   "metadata": {}
  },
  {
   "cell_type": "markdown",
   "source": [
    "Alright, now, let's see about this list"
   ],
   "metadata": {}
  },
  {
   "cell_type": "markdown",
   "source": [
    "1. I want to understand Python better\n",
    "2. I believe it is a good investment of my time\n",
    "3. I hope it will help me when I start looking for jobs"
   ],
   "metadata": {}
  },
  {
   "cell_type": "code",
   "execution_count": 30,
   "source": [
    "first_submission = 90"
   ],
   "outputs": [],
   "metadata": {}
  },
  {
   "cell_type": "code",
   "execution_count": 25,
   "source": [
    "print(first_submission)"
   ],
   "outputs": [
    {
     "output_type": "stream",
     "name": "stdout",
     "text": [
      "90\n"
     ]
    }
   ],
   "metadata": {}
  },
  {
   "cell_type": "code",
   "execution_count": 26,
   "source": [
    "def display_submission(x):\n",
    "    print(x)\n"
   ],
   "outputs": [],
   "metadata": {}
  },
  {
   "cell_type": "code",
   "execution_count": 27,
   "source": [
    "display_submission(first_submission)"
   ],
   "outputs": [
    {
     "output_type": "stream",
     "name": "stdout",
     "text": [
      "90\n"
     ]
    }
   ],
   "metadata": {}
  },
  {
   "cell_type": "code",
   "execution_count": 28,
   "source": [
    "def change_submission(x):\n",
    "    new_submission = x + 10\n",
    "    return new_submission"
   ],
   "outputs": [],
   "metadata": {
    "tags": []
   }
  },
  {
   "cell_type": "code",
   "execution_count": 29,
   "source": [
    "changed_submission = change_submission(90)\n",
    "changed_submission"
   ],
   "outputs": [
    {
     "output_type": "execute_result",
     "data": {
      "text/plain": [
       "100"
      ]
     },
     "metadata": {},
     "execution_count": 29
    }
   ],
   "metadata": {
    "tags": []
   }
  },
  {
   "cell_type": "markdown",
   "source": [
    "Guess what time it is... **THE END!**"
   ],
   "metadata": {}
  },
  {
   "cell_type": "markdown",
   "source": [
    "![](https://upload.wikimedia.org/wikipedia/commons/0/0c/Time%27s_Up_logo.png)"
   ],
   "metadata": {}
  },
  {
   "cell_type": "code",
   "execution_count": null,
   "source": [],
   "outputs": [],
   "metadata": {}
  },
  {
   "cell_type": "code",
   "execution_count": null,
   "source": [],
   "outputs": [],
   "metadata": {}
  },
  {
   "cell_type": "code",
   "execution_count": null,
   "source": [],
   "outputs": [],
   "metadata": {}
  }
 ],
 "metadata": {
  "kernelspec": {
   "display_name": "Python 3 (ipykernel)",
   "language": "python",
   "name": "python3"
  },
  "language_info": {
   "codemirror_mode": {
    "name": "ipython",
    "version": 3
   },
   "file_extension": ".py",
   "mimetype": "text/x-python",
   "name": "python",
   "nbconvert_exporter": "python",
   "pygments_lexer": "ipython3",
   "version": "3.9.7"
  }
 },
 "nbformat": 4,
 "nbformat_minor": 5
}