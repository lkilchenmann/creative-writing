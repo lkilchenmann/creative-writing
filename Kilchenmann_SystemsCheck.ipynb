{
 "cells": [
  {
   "cell_type": "markdown",
   "id": "f9770a94-57c3-4955-8451-1a2d38904144",
   "metadata": {},
   "source": [
    "# Systems Check Assignment 1 \n",
    "## Lara Kilchenmann\n",
    "### 8/20/2024"
   ]
  },
  {
   "cell_type": "markdown",
   "id": "ee4efa34-ae22-42c3-9358-863b4bdf6dd4",
   "metadata": {},
   "source": [
    "### What do I hope to get out of this class?"
   ]
  },
  {
   "cell_type": "markdown",
   "id": "19f4b6da-d43a-48ac-9474-f08ef6dbd537",
   "metadata": {},
   "source": [
    "As a person with no **previous Python** experience, I want to be able to use Python."
   ]
  },
  {
   "cell_type": "markdown",
   "id": "b899d6dc-b76c-4083-8286-18c6659f0749",
   "metadata": {},
   "source": [
    "~~That's all folks~~"
   ]
  },
  {
   "cell_type": "markdown",
   "id": "4c9f9334-c378-44fd-b0b6-bc32e6f976cf",
   "metadata": {},
   "source": [
    "Well, wait... The assignment requires me to do more than *just that*."
   ]
  },
  {
   "cell_type": "markdown",
   "id": "389b9fb1-46c2-45d4-be4d-4b9e867bd6bf",
   "metadata": {},
   "source": [
    "Let's see... Can I make a list of what I want to get out of this class? **This** specific **one**? Not *any* other class?"
   ]
  },
  {
   "cell_type": "markdown",
   "id": "cfefe1db-4d7b-4515-a57c-ffbe1a372c90",
   "metadata": {},
   "source": [
    "Alright, now, let's see about this list"
   ]
  },
  {
   "cell_type": "markdown",
   "id": "915eb046-76e2-4411-942f-bef413c03b5d",
   "metadata": {},
   "source": [
    "1. I want to understand Python better\n",
    "2. I believe it is a good investment of my time\n",
    "3. I hope it will help me when I start looking for jobs"
   ]
  },
  {
   "cell_type": "markdown",
   "id": "a410670c-7003-4a56-a998-d52862bdae38",
   "metadata": {},
   "source": [
    "Guess what time it is... **THE END!**"
   ]
  },
  {
   "cell_type": "markdown",
   "id": "c9b17e6c-8245-4ecb-90c0-4e6958b3f2a9",
   "metadata": {},
   "source": [
    "![](https://upload.wikimedia.org/wikipedia/commons/0/0c/Time%27s_Up_logo.png)"
   ]
  }
 ],
 "metadata": {
  "kernelspec": {
   "display_name": "Python 3 (ipykernel)",
   "language": "python",
   "name": "python3"
  },
  "language_info": {
   "codemirror_mode": {
    "name": "ipython",
    "version": 3
   },
   "file_extension": ".py",
   "mimetype": "text/x-python",
   "name": "python",
   "nbconvert_exporter": "python",
   "pygments_lexer": "ipython3",
   "version": "3.12.4"
  }
 },
 "nbformat": 4,
 "nbformat_minor": 5
}
