{
 "cells": [
  {
   "cell_type": "markdown",
   "id": "7ca28c0e-5d72-408a-b2a8-20ecbd47eb34",
   "metadata": {},
   "source": [
    "<b>Name</b>: Lara Kilchenmann;\n",
    "<b>Course</b>: Interactive Data;\n",
    "<b>Supervisor</b>: Dr. Silva;\n",
    "<b>University</b>: Kent State;\n",
    "<b>Type</b>: Final Project;\n",
    "<b>Date</b>: 12/09/2024"
   ]
  },
  {
   "cell_type": "markdown",
   "id": "1a34e7f6-b24b-46c3-b335-36c204ce9866",
   "metadata": {},
   "source": [
    "# Connecting Hashtags to PCOS: Exploring Public Sentiment and Monthly Trends"
   ]
  },
  {
   "cell_type": "markdown",
   "id": "2e473268-cdc0-47d0-95cc-463870575f52",
   "metadata": {},
   "source": [
    "## Overview"
   ]
  },
  {
   "cell_type": "markdown",
   "id": "e20391e8-5ef7-4095-8cb3-ea0f41e10e93",
   "metadata": {},
   "source": [
    "The questions this project aimed to address are:\n",
    "1. What are the key hashtags associated with PCOS on Twitter, and how have they evolved over time?\n",
    "2. How does public sentiment (positive, neutral, negative) fluctuate in relation to PCOS-related tweets?\n",
    "3. What monthly trends can be identified in the frequency of tweets and sentiment surrounding PCOS?\n",
    "4. How can these insights be leveraged to optimize digital marketing strategies for campaigns related to PCOS?"
   ]
  },
  {
   "cell_type": "markdown",
   "id": "48081594-c785-4b7f-816c-f63c2af62ff8",
   "metadata": {},
   "source": [
    "These questions are crucial for digital marketers because understanding the key hashtags and sentiment around PCOS on Twitter enables them to tailor their marketing campaigns more effectively. In the world of healthcare marketing, understanding what drives conversations and engagement on social media is critical. BBy identifying the keywords and hashtags that drive the most traffic and analyzing the sentiment around them, the goal is to discover how public perception shapes discussions and what keywords are most effective in driving engagement. Additionally, recognizing monthly trends in tweet frequency helps marketers time their campaigns for maximum impact. In a broader sense, these insights are valuable for improving the visibility and reach of PCOS-related content, building brand awareness, and aligning messaging with the evolving conversations around PCOS, ultimately enhancing campaign success and audience connection."
   ]
  },
  {
   "cell_type": "markdown",
   "id": "c2309040-71e0-43d2-b8d6-430422e5a2b8",
   "metadata": {},
   "source": [
    "## Data Sources"
   ]
  },
  {
   "cell_type": "markdown",
   "id": "8f4eb147-a82d-4a7c-8813-19d04d4b53c0",
   "metadata": {},
   "source": [
    "The data for this project was provided by my teacher, Prof. Dr. Silva, through Brandwatch, covering the period from August to October 2024. The dataset includes tweets from Twitter using hashtags related to PCOS, such as #PCOSAwareness, #PCOSAwarenessMonth, #PCOS, #PrioritizePCOS, #PCOSWeightLoss, #PolycysticOvarySyndrome, #PCOSCommunity, #PCOSSupport, as well as hashtags connected to fertility, diabetes, and women's health, including #Fertility, #Infertility, #FertilityJourney, #FertilityAwareness, #WomensHealth, #Type2Diabetes, #InsulinResistance, and #DiabetesManagement. For analyzing and visualizing the data, I used Jupyter Lab and employed libraries like Plotly. Additionally, I sought help from coding forums like GitHub, Stack Overflow, and Quora to resolve common coding issues, and I also referred to the Plotly library website for guidance on using its features effectively. For sentiment analysis, I used the VADER (Valence Aware Dictionary and sEntiment Reasoner) tool, which is specifically designed to handle sentiments expressed in social media content. "
   ]
  },
  {
   "cell_type": "markdown",
   "id": "94f0dc77-beaa-4760-bc49-64d53a208260",
   "metadata": {},
   "source": [
    "## Limitations"
   ]
  },
  {
   "cell_type": "markdown",
   "id": "e1af73ee-81a7-4967-ba7a-b0aabdf7cf81",
   "metadata": {},
   "source": [
    "One key limitation of this project is the relatively short time frame of the data used. The analysis is based on tweets collected over only three months (August to October 2024), which may not fully capture long-term trends or seasonal variations in public sentiment and tweet frequency regarding PCOS. Additionally, the dataset is limited to specific hashtags related to PCOS, fertility, and related health issues, which may not represent the full spectrum of conversations on these topics across all social media platforms. Furthermore, while the dataset provides valuable insights into sentiment trends, it may not account for external factors influencing public opinion during this period, such as major health campaigns or news events. Finally, the scope of the analysis is focused on Twitter, and thus does not encompass other platforms where public discussions about PCOS might be taking place.\n"
   ]
  },
  {
   "cell_type": "markdown",
   "id": "edf4936a-ffd4-44dc-b204-b050307d0601",
   "metadata": {},
   "source": [
    "## Visualization and Libraries"
   ]
  },
  {
   "cell_type": "markdown",
   "id": "2e7b5d21-7aec-4114-bf2e-9dde4fdc1198",
   "metadata": {},
   "source": [
    "For this project, I utilized several Python libraries, including numpy, pandas, plotly.express, plotly.graph_objects, matplotlib.pyplot, and nltk. I started by exploring the dataset in Jupyter Lab, where I analyzed and cleaned the data. Then, I experimented with various graphs to refine my approach and determine the best way to visualize the data.\n",
    "\n",
    "I performed sentiment analysis using VADER (Valence Aware Dictionary and sEntiment Reasoner) from the nltk library. This method proved to be more accurate than the automatic sentiment analysis provided by Brandwatch in the dataset. VADER showed a distribution of 18.6% neutral, 54.9% positive, and 26.6% negative sentiment across the tweets.\n",
    "\n",
    "The biggest challenge I faced was refining the final visualizations, addressing small cosmetic issues to ensure clarity and readability. Ultimately, I used Plotly for creating interactive graphs, which allowed me to effectively display trends in sentiment and tweet frequency for PCOS-related topics across the months of August, September, and October 2024."
   ]
  },
  {
   "cell_type": "markdown",
   "id": "f07e4692-b090-4452-8f8a-80e5a4fe317a",
   "metadata": {},
   "source": [
    "## Analysis"
   ]
  },
  {
   "cell_type": "markdown",
   "id": "4687c649-08f4-40e2-9e8e-c529fc8d032d",
   "metadata": {},
   "source": [
    "Over the span of three months (August, September, and October 2024), sentiment analysis and trending hashtag analysis of PCOS-related tweets revealed key trends and insights, especially during PCOS Awareness Month in September. These trends hold valuable lessons for digital marketers focusing on health-related topics and audience engagement."
   ]
  },
  {
   "cell_type": "markdown",
   "id": "976019ea-ee7b-4c1b-92e6-e265a336e0df",
   "metadata": {},
   "source": [
    "### Sentiment Analysis:"
   ]
  },
  {
   "cell_type": "markdown",
   "id": "32aa6b29-5341-4107-9e3c-cccd89789004",
   "metadata": {},
   "source": [
    "1. <b>Positive Sentiment</b>: The <b>positive sentiment</b> experienced a significant <b>spike in September</b>, coinciding with PCOS Awareness Month. The increase in positivity can be attributed to the elevated engagement around the awareness campaign, as individuals shared stories of hope, support, and empowerment. Positive sentiment dominated discussions during this time, accounting for <b>54.9%</b> of the tweets. This suggests that public engagement and social media campaigns have a substantial impact on shaping the tone of online conversations, particularly when awareness is heightened."
   ]
  },
  {
   "cell_type": "markdown",
   "id": "32266d0d-3bad-4d71-860e-7ffc1e1c1a47",
   "metadata": {},
   "source": [
    "2. <b>Negative Sentiment</b>: <b>Negative sentiment</b> showed a <b>consistent decline</b> over the three months, with the percentage of negative tweets decreasing from August to October. This reduction could be attributed to a shift in the narrative around PCOS, where increasing awareness led to more supportive, informative, and solution-oriented conversations. Negative sentiment comprised <b>26.6%</b> of the total tweets, which is a notable proportion but still smaller than the positive sentiment."
   ]
  },
  {
   "cell_type": "markdown",
   "id": "9d6a7e07-e507-4d18-b912-49efb5cde86a",
   "metadata": {},
   "source": [
    "3. <b>Neutral Sentiment</b>: The <b>neutral sentiment</b> showed <b>fluctuations with a marked spike</b> in September, paralleling the rise in positive sentiment. This spike likely reflects an influx of informational content about PCOS, as people shared resources, statistics, and facts about the condition without expressing strong opinions. Neutral sentiment made up <b>18.6%</b> of the tweets, indicating a considerable amount of content was informational rather than emotionally charged."
   ]
  },
  {
   "cell_type": "markdown",
   "id": "27a635f6-1b79-43df-8935-06f111eb573f",
   "metadata": {},
   "source": [
    "### Hashtag Trends:"
   ]
  },
  {
   "cell_type": "markdown",
   "id": "46860883-8f61-4a01-980b-3897546d0b69",
   "metadata": {},
   "source": [
    "The top 10 trending hashtags across the three months were:"
   ]
  },
  {
   "cell_type": "markdown",
   "id": "b253479a-e87c-4dce-a392-d193e343694b",
   "metadata": {},
   "source": [
    "1. <b> #PCOSAwareness\n",
    "2. <b>#PCOSAwarenessMonth\n",
    "3. <b>#PCOSWarrior\n",
    "4. <b>#WomensHealth\n",
    "5. <b>#pcosawareness\n",
    "6. <b>#pcosawarenessmonth\n",
    "7. <b>#Fertility\n",
    "8. <b>#Infertility\n",
    "9. <b>#Endometriosis\n",
    "10. <b>#WorldPCOSDay</b>"
   ]
  },
  {
   "cell_type": "markdown",
   "id": "523be252-9094-4c0e-b1ce-8cff69341697",
   "metadata": {},
   "source": [
    "### Key observations about these hashtags:\n",
    "\n",
    "<b>#PCOSAwareness</b> and <b>#PCOSAwarenessMonth</b> dominated the conversations, especially in September. This surge is reflective of the concentrated efforts around raising awareness of PCOS during its designated awareness month. The prominent use of these hashtags shows a direct link between public discussions and targeted campaigns, further cementing the effectiveness of using awareness campaigns to drive engagement.\n",
    "\n",
    "<b>#PCOSWarrior</b>, <b>#WomensHealth</b>, and <b>#PCOSCommunity</b> highlight the strong sense of solidarity within the PCOS community. These hashtags were frequently used to empower individuals, connect them to others facing similar challenges, and advocate for better healthcare and awareness for those affected by the condition.\n",
    "\n",
    "<b>#Endometriosis</b> and <b>#WorldPCOSDay</b> were also among the top hashtags, reflecting the growing conversation about the connections between PCOS and other women’s health issues like endometriosis, as well as the global recognition of <b>World PCOS Day</b>. These hashtags suggest a broader public interest in not only raising awareness of PCOS but also acknowledging the interconnectedness of various reproductive health conditions that affect women."
   ]
  },
  {
   "cell_type": "markdown",
   "id": "74330bb1-5c9a-4a07-be65-6b6140db2aaa",
   "metadata": {},
   "source": [
    "### Observations:\n",
    "\n",
    "The <b>increase in positive sentiment</b> in September is strongly tied to <b>PCOS Awareness Month</b>, demonstrating the effectiveness of awareness campaigns in creating a more optimistic and supportive conversation around health issues. The rise in neutral sentiment further supports this, as informational and educational content increased alongside the awareness campaign.\n",
    "\n",
    "The decline in <b>negative sentiment</b> may indicate that as more people became educated about PCOS and more resources were shared, the conversation shifted away from focusing solely on the struggles of those affected and towards solutions, advocacy, and support.\n",
    "\n",
    "The hashtags such as <b>#PCOSAwareness</b>, <b>#PCOSWarrior</b>, and <b>#WomensHealth</b> illustrate a robust and engaged community, with many tweets sharing positive messages, personal stories, and support. The inclusion of <b>#Endometriosis</b> and <b>#WorldPCOSDay</b> signals a broader conversation that goes beyond just PCOS, addressing issues that intersect with women’s reproductive health more generally."
   ]
  },
  {
   "cell_type": "markdown",
   "id": "03850b75-b20a-4b12-bab3-b90250ebbfd3",
   "metadata": {},
   "source": [
    "### Conclusion:\n",
    "\n",
    "The trends observed in sentiment and hashtag usage over the three-month period demonstrate the significant influence that <b>PCOS Awareness Month</b> had on the tone of conversations surrounding PCOS. The <b>spike in positive and neutral sentiment</b> in September indicates a shift towards more optimistic, educational, and solution-driven discussions. Hashtags like <b>#PCOSAwareness</b>, <b>#PCOSWarrior</b>, and <b>#WorldPCOSDay</b> were central to the conversation, highlighting the effectiveness of awareness campaigns in amplifying messages of support, advocacy, and empowerment.\n",
    "\n",
    "For <b>digital marketers</b> targeting PCOS-related topics, these trends provide valuable insights into how awareness campaigns can shape public sentiment, guide engagement strategies, and build supportive communities. Understanding when and how sentiment changes—and which hashtags drive the conversation—can help marketers create more targeted, effective campaigns."
   ]
  },
  {
   "cell_type": "markdown",
   "id": "64293ff6-8bc4-4b14-952d-6c2ca9d17e2a",
   "metadata": {},
   "source": [
    "## Code"
   ]
  },
  {
   "cell_type": "markdown",
   "id": "cb0a4b0b-be5b-46b5-8192-ba0f475d5fbb",
   "metadata": {},
   "source": [
    "The following cells contain the code used for the analysis and visualization of PCOS-related tweets. "
   ]
  },
  {
   "cell_type": "code",
   "execution_count": 202,
   "id": "df750d9e-3f22-4be0-8ee8-905356057b55",
   "metadata": {},
   "outputs": [
    {
     "name": "stderr",
     "output_type": "stream",
     "text": [
      "[nltk_data] Downloading package vader_lexicon to\n",
      "[nltk_data]     /Users/Lara/nltk_data...\n",
      "[nltk_data]   Package vader_lexicon is already up-to-date!\n"
     ]
    },
    {
     "data": {
      "text/plain": [
       "True"
      ]
     },
     "execution_count": 202,
     "metadata": {},
     "output_type": "execute_result"
    }
   ],
   "source": [
    "import numpy as np\n",
    "import pandas as pd\n",
    "import plotly.express as px\n",
    "import plotly.graph_objects as go\n",
    "import numpy as np\n",
    "import matplotlib.pyplot as plt\n",
    "import re\n",
    "import nltk\n",
    "from nltk.sentiment.vader import SentimentIntensityAnalyzer\n",
    "nltk.download(\"vader_lexicon\")"
   ]
  },
  {
   "cell_type": "markdown",
   "id": "c3b68d12-d3c6-4ad2-98fb-724e22363b0b",
   "metadata": {},
   "source": [
    "#### Clean-Up, Dataframe Preparation, and Sentiment Analysis:"
   ]
  },
  {
   "cell_type": "code",
   "execution_count": 203,
   "id": "db60a865-fc66-43ff-9099-4d197f44ea53",
   "metadata": {},
   "outputs": [],
   "source": [
    "#Clean-Up and Preparations for later\n",
    "pcos = pd.read_csv(\"PCOS.csv\")\n",
    "pcos.isnull().sum() \n",
    "pcos.dropna() \n",
    "pcos['Date'] = pd.to_datetime(pcos['Date'], errors='coerce')\n",
    "column_names = pcos.columns\n",
    "column_names_list = list(pcos.columns)\n",
    "pcos_related = pcos[pcos['Title'].str.contains(r'\\bPCOS\\b', case=False, na=False)].copy()\n",
    "pcos_related['Hashtags'] = pcos_related['Title'].apply(lambda x: re.findall(r'(#\\w+)', x))\n",
    "pcos_related['Hashtags'] = pcos_related['Hashtags'].apply(\n",
    "    lambda tags: [tag for tag in tags if tag.lower() != '#pcos']\n",
    ")\n",
    "pcos_related = pcos_related[pcos_related['Hashtags'].map(len) > 0]\n",
    "pcos['YearMonth'] = pcos['Date'].dt.to_period('M')\n",
    "pcos_related['YearMonth'] = pd.to_datetime(pcos_related['Date']).dt.to_period('M')\n",
    "hashtags_exploded = pcos_related['Title'].str.extractall(r'(#\\w+)').reset_index()\n",
    "hashtags_exploded.columns = ['OriginalIndex', 'Match', 'Hashtags']  \n",
    "hashtags_exploded['YearMonth'] = pcos_related['YearMonth'][hashtags_exploded['OriginalIndex']].values\n",
    "hashtags_monthly_counts = hashtags_exploded.groupby(['YearMonth', 'Hashtags']).size().unstack(fill_value=0)\n",
    "months_to_check = min(6, len(hashtags_monthly_counts.index))\n",
    "recent_hashtags = hashtags_monthly_counts.iloc[-months_to_check:].sum(axis=0)\n",
    "sentiment_monthly = pcos_related.groupby(['YearMonth', 'Sentiment']).size().unstack(fill_value=0)\n",
    "top_hashtags_monthly = hashtags_exploded.groupby(['YearMonth', 'Hashtags']).size().unstack(fill_value=0)\n",
    "\n",
    "#Sentiment Analysis with VADER\n",
    "model = SentimentIntensityAnalyzer()\n",
    "def get_vader_sentiment(text):\n",
    "    scores = model.polarity_scores(text)\n",
    "    if scores['compound'] >= 0.05:\n",
    "        return 'Positive'\n",
    "    elif scores['compound'] <= -0.05:\n",
    "        return 'Negative'\n",
    "    else:\n",
    "        return 'Neutral'\n",
    "pcos_related['Sentiment'] = pcos_related['Title'].apply(get_vader_sentiment)\n",
    "pcos_related['YearMonth'] = pd.to_datetime(pcos_related['Date']).dt.to_period('M')\n",
    "sentiment_monthly = pcos_related.groupby(['YearMonth', 'Sentiment']).size().unstack(fill_value=0)\n",
    "columns_order = [col for col in pcos_related.columns if col != 'Sentiment'] + ['Sentiment']\n",
    "pcos_related = pcos_related[columns_order]"
   ]
  },
  {
   "cell_type": "markdown",
   "id": "178b2ad6-a7be-4cce-8380-1d3d83cead58",
   "metadata": {},
   "source": [
    "#### Main Graph:"
   ]
  },
  {
   "cell_type": "code",
   "execution_count": 204,
   "id": "88150b36-bf9a-4be8-bcdd-6a425c65f70b",
   "metadata": {},
   "outputs": [
    {
     "data": {
      "application/vnd.plotly.v1+json": {
       "config": {
        "plotlyServerURL": "https://plot.ly"
       },
       "data": [
        {
         "hoverinfo": "text",
         "hoverlabel": {
          "align": "left"
         },
         "marker": {
          "color": "lightcoral"
         },
         "name": "Negative",
         "text": [
          "Negative: 914",
          "Negative: 466",
          "Negative: 148"
         ],
         "textposition": "none",
         "type": "bar",
         "x": [
          "2024-08",
          "2024-09",
          "2024-10"
         ],
         "y": [
          914,
          466,
          148
         ]
        },
        {
         "hoverinfo": "text",
         "hoverlabel": {
          "align": "left"
         },
         "marker": {
          "color": "lightblue"
         },
         "name": "Neutral",
         "text": [
          "Neutral: 223",
          "Neutral: 615",
          "Neutral: 228"
         ],
         "textposition": "none",
         "type": "bar",
         "x": [
          "2024-08",
          "2024-09",
          "2024-10"
         ],
         "y": [
          223,
          615,
          228
         ]
        },
        {
         "hoverinfo": "text",
         "hoverlabel": {
          "align": "left"
         },
         "marker": {
          "color": "lightgreen"
         },
         "name": "Positive",
         "text": [
          "Positive: 416",
          "Positive: 2132",
          "Positive: 604"
         ],
         "textposition": "none",
         "type": "bar",
         "x": [
          "2024-08",
          "2024-09",
          "2024-10"
         ],
         "y": [
          416,
          2132,
          604
         ]
        },
        {
         "hoverinfo": "text",
         "hoverlabel": {
          "align": "left"
         },
         "line": {
          "color": "black",
          "width": 2
         },
         "mode": "lines+markers",
         "name": "Total Tweets",
         "text": [
          "Total Tweets: 1553<br>Top 5 hashtags:<br>#PCOSAwareness<br>#PCOSWarrior<br>#WomensHealth<br>#health<br>#infertility",
          "Total Tweets: 3213<br>Top 5 hashtags:<br>#PCOSAwarenessMonth<br>#PCOSAwareness<br>#pcosawarenessmonth<br>#pcosawareness<br>#WomensHealth",
          "Total Tweets: 980<br>Top 5 hashtags:<br>#WomensHealth<br>#doctors<br>#misinformation<br>#PCOSAwareness<br>#fertility"
         ],
         "type": "scatter",
         "x": [
          "2024-08",
          "2024-09",
          "2024-10"
         ],
         "y": [
          1553,
          3213,
          980
         ]
        }
       ],
       "layout": {
        "annotations": [
         {
          "arrowcolor": "orange",
          "arrowhead": 7,
          "arrowwidth": 2,
          "ax": 220,
          "ay": 30,
          "hoverlabel": {
           "bgcolor": "orange",
           "bordercolor": "black",
           "font": {
            "color": "black"
           }
          },
          "hovertext": "PCOS-Awareness Month is a<br> global healthcare event<br> observed annually<br> throughout September.",
          "showarrow": true,
          "text": "<b>September is PCOS<br> Awareness Month</b>",
          "x": "2024-09",
          "y": 3213
         }
        ],
        "autosize": true,
        "barmode": "stack",
        "hovermode": "x unified",
        "legend": {
         "title": {
          "text": "Sentiment"
         }
        },
        "template": {
         "data": {
          "bar": [
           {
            "error_x": {
             "color": "#2a3f5f"
            },
            "error_y": {
             "color": "#2a3f5f"
            },
            "marker": {
             "line": {
              "color": "#E5ECF6",
              "width": 0.5
             },
             "pattern": {
              "fillmode": "overlay",
              "size": 10,
              "solidity": 0.2
             }
            },
            "type": "bar"
           }
          ],
          "barpolar": [
           {
            "marker": {
             "line": {
              "color": "#E5ECF6",
              "width": 0.5
             },
             "pattern": {
              "fillmode": "overlay",
              "size": 10,
              "solidity": 0.2
             }
            },
            "type": "barpolar"
           }
          ],
          "carpet": [
           {
            "aaxis": {
             "endlinecolor": "#2a3f5f",
             "gridcolor": "white",
             "linecolor": "white",
             "minorgridcolor": "white",
             "startlinecolor": "#2a3f5f"
            },
            "baxis": {
             "endlinecolor": "#2a3f5f",
             "gridcolor": "white",
             "linecolor": "white",
             "minorgridcolor": "white",
             "startlinecolor": "#2a3f5f"
            },
            "type": "carpet"
           }
          ],
          "choropleth": [
           {
            "colorbar": {
             "outlinewidth": 0,
             "ticks": ""
            },
            "type": "choropleth"
           }
          ],
          "contour": [
           {
            "colorbar": {
             "outlinewidth": 0,
             "ticks": ""
            },
            "colorscale": [
             [
              0,
              "#0d0887"
             ],
             [
              0.1111111111111111,
              "#46039f"
             ],
             [
              0.2222222222222222,
              "#7201a8"
             ],
             [
              0.3333333333333333,
              "#9c179e"
             ],
             [
              0.4444444444444444,
              "#bd3786"
             ],
             [
              0.5555555555555556,
              "#d8576b"
             ],
             [
              0.6666666666666666,
              "#ed7953"
             ],
             [
              0.7777777777777778,
              "#fb9f3a"
             ],
             [
              0.8888888888888888,
              "#fdca26"
             ],
             [
              1,
              "#f0f921"
             ]
            ],
            "type": "contour"
           }
          ],
          "contourcarpet": [
           {
            "colorbar": {
             "outlinewidth": 0,
             "ticks": ""
            },
            "type": "contourcarpet"
           }
          ],
          "heatmap": [
           {
            "colorbar": {
             "outlinewidth": 0,
             "ticks": ""
            },
            "colorscale": [
             [
              0,
              "#0d0887"
             ],
             [
              0.1111111111111111,
              "#46039f"
             ],
             [
              0.2222222222222222,
              "#7201a8"
             ],
             [
              0.3333333333333333,
              "#9c179e"
             ],
             [
              0.4444444444444444,
              "#bd3786"
             ],
             [
              0.5555555555555556,
              "#d8576b"
             ],
             [
              0.6666666666666666,
              "#ed7953"
             ],
             [
              0.7777777777777778,
              "#fb9f3a"
             ],
             [
              0.8888888888888888,
              "#fdca26"
             ],
             [
              1,
              "#f0f921"
             ]
            ],
            "type": "heatmap"
           }
          ],
          "heatmapgl": [
           {
            "colorbar": {
             "outlinewidth": 0,
             "ticks": ""
            },
            "colorscale": [
             [
              0,
              "#0d0887"
             ],
             [
              0.1111111111111111,
              "#46039f"
             ],
             [
              0.2222222222222222,
              "#7201a8"
             ],
             [
              0.3333333333333333,
              "#9c179e"
             ],
             [
              0.4444444444444444,
              "#bd3786"
             ],
             [
              0.5555555555555556,
              "#d8576b"
             ],
             [
              0.6666666666666666,
              "#ed7953"
             ],
             [
              0.7777777777777778,
              "#fb9f3a"
             ],
             [
              0.8888888888888888,
              "#fdca26"
             ],
             [
              1,
              "#f0f921"
             ]
            ],
            "type": "heatmapgl"
           }
          ],
          "histogram": [
           {
            "marker": {
             "pattern": {
              "fillmode": "overlay",
              "size": 10,
              "solidity": 0.2
             }
            },
            "type": "histogram"
           }
          ],
          "histogram2d": [
           {
            "colorbar": {
             "outlinewidth": 0,
             "ticks": ""
            },
            "colorscale": [
             [
              0,
              "#0d0887"
             ],
             [
              0.1111111111111111,
              "#46039f"
             ],
             [
              0.2222222222222222,
              "#7201a8"
             ],
             [
              0.3333333333333333,
              "#9c179e"
             ],
             [
              0.4444444444444444,
              "#bd3786"
             ],
             [
              0.5555555555555556,
              "#d8576b"
             ],
             [
              0.6666666666666666,
              "#ed7953"
             ],
             [
              0.7777777777777778,
              "#fb9f3a"
             ],
             [
              0.8888888888888888,
              "#fdca26"
             ],
             [
              1,
              "#f0f921"
             ]
            ],
            "type": "histogram2d"
           }
          ],
          "histogram2dcontour": [
           {
            "colorbar": {
             "outlinewidth": 0,
             "ticks": ""
            },
            "colorscale": [
             [
              0,
              "#0d0887"
             ],
             [
              0.1111111111111111,
              "#46039f"
             ],
             [
              0.2222222222222222,
              "#7201a8"
             ],
             [
              0.3333333333333333,
              "#9c179e"
             ],
             [
              0.4444444444444444,
              "#bd3786"
             ],
             [
              0.5555555555555556,
              "#d8576b"
             ],
             [
              0.6666666666666666,
              "#ed7953"
             ],
             [
              0.7777777777777778,
              "#fb9f3a"
             ],
             [
              0.8888888888888888,
              "#fdca26"
             ],
             [
              1,
              "#f0f921"
             ]
            ],
            "type": "histogram2dcontour"
           }
          ],
          "mesh3d": [
           {
            "colorbar": {
             "outlinewidth": 0,
             "ticks": ""
            },
            "type": "mesh3d"
           }
          ],
          "parcoords": [
           {
            "line": {
             "colorbar": {
              "outlinewidth": 0,
              "ticks": ""
             }
            },
            "type": "parcoords"
           }
          ],
          "pie": [
           {
            "automargin": true,
            "type": "pie"
           }
          ],
          "scatter": [
           {
            "fillpattern": {
             "fillmode": "overlay",
             "size": 10,
             "solidity": 0.2
            },
            "type": "scatter"
           }
          ],
          "scatter3d": [
           {
            "line": {
             "colorbar": {
              "outlinewidth": 0,
              "ticks": ""
             }
            },
            "marker": {
             "colorbar": {
              "outlinewidth": 0,
              "ticks": ""
             }
            },
            "type": "scatter3d"
           }
          ],
          "scattercarpet": [
           {
            "marker": {
             "colorbar": {
              "outlinewidth": 0,
              "ticks": ""
             }
            },
            "type": "scattercarpet"
           }
          ],
          "scattergeo": [
           {
            "marker": {
             "colorbar": {
              "outlinewidth": 0,
              "ticks": ""
             }
            },
            "type": "scattergeo"
           }
          ],
          "scattergl": [
           {
            "marker": {
             "colorbar": {
              "outlinewidth": 0,
              "ticks": ""
             }
            },
            "type": "scattergl"
           }
          ],
          "scattermapbox": [
           {
            "marker": {
             "colorbar": {
              "outlinewidth": 0,
              "ticks": ""
             }
            },
            "type": "scattermapbox"
           }
          ],
          "scatterpolar": [
           {
            "marker": {
             "colorbar": {
              "outlinewidth": 0,
              "ticks": ""
             }
            },
            "type": "scatterpolar"
           }
          ],
          "scatterpolargl": [
           {
            "marker": {
             "colorbar": {
              "outlinewidth": 0,
              "ticks": ""
             }
            },
            "type": "scatterpolargl"
           }
          ],
          "scatterternary": [
           {
            "marker": {
             "colorbar": {
              "outlinewidth": 0,
              "ticks": ""
             }
            },
            "type": "scatterternary"
           }
          ],
          "surface": [
           {
            "colorbar": {
             "outlinewidth": 0,
             "ticks": ""
            },
            "colorscale": [
             [
              0,
              "#0d0887"
             ],
             [
              0.1111111111111111,
              "#46039f"
             ],
             [
              0.2222222222222222,
              "#7201a8"
             ],
             [
              0.3333333333333333,
              "#9c179e"
             ],
             [
              0.4444444444444444,
              "#bd3786"
             ],
             [
              0.5555555555555556,
              "#d8576b"
             ],
             [
              0.6666666666666666,
              "#ed7953"
             ],
             [
              0.7777777777777778,
              "#fb9f3a"
             ],
             [
              0.8888888888888888,
              "#fdca26"
             ],
             [
              1,
              "#f0f921"
             ]
            ],
            "type": "surface"
           }
          ],
          "table": [
           {
            "cells": {
             "fill": {
              "color": "#EBF0F8"
             },
             "line": {
              "color": "white"
             }
            },
            "header": {
             "fill": {
              "color": "#C8D4E3"
             },
             "line": {
              "color": "white"
             }
            },
            "type": "table"
           }
          ]
         },
         "layout": {
          "annotationdefaults": {
           "arrowcolor": "#2a3f5f",
           "arrowhead": 0,
           "arrowwidth": 1
          },
          "autotypenumbers": "strict",
          "coloraxis": {
           "colorbar": {
            "outlinewidth": 0,
            "ticks": ""
           }
          },
          "colorscale": {
           "diverging": [
            [
             0,
             "#8e0152"
            ],
            [
             0.1,
             "#c51b7d"
            ],
            [
             0.2,
             "#de77ae"
            ],
            [
             0.3,
             "#f1b6da"
            ],
            [
             0.4,
             "#fde0ef"
            ],
            [
             0.5,
             "#f7f7f7"
            ],
            [
             0.6,
             "#e6f5d0"
            ],
            [
             0.7,
             "#b8e186"
            ],
            [
             0.8,
             "#7fbc41"
            ],
            [
             0.9,
             "#4d9221"
            ],
            [
             1,
             "#276419"
            ]
           ],
           "sequential": [
            [
             0,
             "#0d0887"
            ],
            [
             0.1111111111111111,
             "#46039f"
            ],
            [
             0.2222222222222222,
             "#7201a8"
            ],
            [
             0.3333333333333333,
             "#9c179e"
            ],
            [
             0.4444444444444444,
             "#bd3786"
            ],
            [
             0.5555555555555556,
             "#d8576b"
            ],
            [
             0.6666666666666666,
             "#ed7953"
            ],
            [
             0.7777777777777778,
             "#fb9f3a"
            ],
            [
             0.8888888888888888,
             "#fdca26"
            ],
            [
             1,
             "#f0f921"
            ]
           ],
           "sequentialminus": [
            [
             0,
             "#0d0887"
            ],
            [
             0.1111111111111111,
             "#46039f"
            ],
            [
             0.2222222222222222,
             "#7201a8"
            ],
            [
             0.3333333333333333,
             "#9c179e"
            ],
            [
             0.4444444444444444,
             "#bd3786"
            ],
            [
             0.5555555555555556,
             "#d8576b"
            ],
            [
             0.6666666666666666,
             "#ed7953"
            ],
            [
             0.7777777777777778,
             "#fb9f3a"
            ],
            [
             0.8888888888888888,
             "#fdca26"
            ],
            [
             1,
             "#f0f921"
            ]
           ]
          },
          "colorway": [
           "#636efa",
           "#EF553B",
           "#00cc96",
           "#ab63fa",
           "#FFA15A",
           "#19d3f3",
           "#FF6692",
           "#B6E880",
           "#FF97FF",
           "#FECB52"
          ],
          "font": {
           "color": "#2a3f5f"
          },
          "geo": {
           "bgcolor": "white",
           "lakecolor": "white",
           "landcolor": "#E5ECF6",
           "showlakes": true,
           "showland": true,
           "subunitcolor": "white"
          },
          "hoverlabel": {
           "align": "left"
          },
          "hovermode": "closest",
          "mapbox": {
           "style": "light"
          },
          "paper_bgcolor": "white",
          "plot_bgcolor": "#E5ECF6",
          "polar": {
           "angularaxis": {
            "gridcolor": "white",
            "linecolor": "white",
            "ticks": ""
           },
           "bgcolor": "#E5ECF6",
           "radialaxis": {
            "gridcolor": "white",
            "linecolor": "white",
            "ticks": ""
           }
          },
          "scene": {
           "xaxis": {
            "backgroundcolor": "#E5ECF6",
            "gridcolor": "white",
            "gridwidth": 2,
            "linecolor": "white",
            "showbackground": true,
            "ticks": "",
            "zerolinecolor": "white"
           },
           "yaxis": {
            "backgroundcolor": "#E5ECF6",
            "gridcolor": "white",
            "gridwidth": 2,
            "linecolor": "white",
            "showbackground": true,
            "ticks": "",
            "zerolinecolor": "white"
           },
           "zaxis": {
            "backgroundcolor": "#E5ECF6",
            "gridcolor": "white",
            "gridwidth": 2,
            "linecolor": "white",
            "showbackground": true,
            "ticks": "",
            "zerolinecolor": "white"
           }
          },
          "shapedefaults": {
           "line": {
            "color": "#2a3f5f"
           }
          },
          "ternary": {
           "aaxis": {
            "gridcolor": "white",
            "linecolor": "white",
            "ticks": ""
           },
           "baxis": {
            "gridcolor": "white",
            "linecolor": "white",
            "ticks": ""
           },
           "bgcolor": "#E5ECF6",
           "caxis": {
            "gridcolor": "white",
            "linecolor": "white",
            "ticks": ""
           }
          },
          "title": {
           "x": 0.05
          },
          "xaxis": {
           "automargin": true,
           "gridcolor": "white",
           "linecolor": "white",
           "ticks": "",
           "title": {
            "standoff": 15
           },
           "zerolinecolor": "white",
           "zerolinewidth": 2
          },
          "yaxis": {
           "automargin": true,
           "gridcolor": "white",
           "linecolor": "white",
           "ticks": "",
           "title": {
            "standoff": 15
           },
           "zerolinecolor": "white",
           "zerolinewidth": 2
          }
         }
        },
        "title": {
         "text": "Monthly Sentiment Trends and Tweet Activity for PCOS-Related Tweets"
        },
        "xaxis": {
         "autorange": true,
         "range": [
          "2024-07-17",
          "2024-11-10 20:16:41.0695"
         ],
         "tickmode": "array",
         "ticktext": [
          "August",
          "September",
          "October"
         ],
         "tickvals": [
          "2024-08",
          "2024-09",
          "2024-10"
         ],
         "title": {
          "text": "Month"
         },
         "type": "date"
        },
        "yaxis": {
         "autorange": true,
         "range": [
          0,
          3457.9372197309417
         ],
         "title": {
          "text": "Number of Tweets"
         },
         "type": "linear"
        }
       }
      },
      "text/html": [
       "<div>                            <div id=\"60610627-2ce2-40d8-805f-c4e7fc2adca4\" class=\"plotly-graph-div\" style=\"height:525px; width:100%;\"></div>            <script type=\"text/javascript\">                require([\"plotly\"], function(Plotly) {                    window.PLOTLYENV=window.PLOTLYENV || {};                                    if (document.getElementById(\"60610627-2ce2-40d8-805f-c4e7fc2adca4\")) {                    Plotly.newPlot(                        \"60610627-2ce2-40d8-805f-c4e7fc2adca4\",                        [{\"hoverinfo\":\"text\",\"marker\":{\"color\":\"lightcoral\"},\"name\":\"Negative\",\"text\":[\"Negative: 914\",\"Negative: 466\",\"Negative: 148\"],\"textposition\":\"none\",\"x\":[\"2024-08\",\"2024-09\",\"2024-10\"],\"y\":[914,466,148],\"type\":\"bar\",\"hoverlabel\":{\"align\":\"left\"}},{\"hoverinfo\":\"text\",\"marker\":{\"color\":\"lightblue\"},\"name\":\"Neutral\",\"text\":[\"Neutral: 223\",\"Neutral: 615\",\"Neutral: 228\"],\"textposition\":\"none\",\"x\":[\"2024-08\",\"2024-09\",\"2024-10\"],\"y\":[223,615,228],\"type\":\"bar\",\"hoverlabel\":{\"align\":\"left\"}},{\"hoverinfo\":\"text\",\"marker\":{\"color\":\"lightgreen\"},\"name\":\"Positive\",\"text\":[\"Positive: 416\",\"Positive: 2132\",\"Positive: 604\"],\"textposition\":\"none\",\"x\":[\"2024-08\",\"2024-09\",\"2024-10\"],\"y\":[416,2132,604],\"type\":\"bar\",\"hoverlabel\":{\"align\":\"left\"}},{\"hoverinfo\":\"text\",\"line\":{\"color\":\"black\",\"width\":2},\"mode\":\"lines+markers\",\"name\":\"Total Tweets\",\"text\":[\"Total Tweets: 1553\\u003cbr\\u003eTop 5 hashtags:\\u003cbr\\u003e#PCOSAwareness\\u003cbr\\u003e#PCOSWarrior\\u003cbr\\u003e#WomensHealth\\u003cbr\\u003e#health\\u003cbr\\u003e#infertility\",\"Total Tweets: 3213\\u003cbr\\u003eTop 5 hashtags:\\u003cbr\\u003e#PCOSAwarenessMonth\\u003cbr\\u003e#PCOSAwareness\\u003cbr\\u003e#pcosawarenessmonth\\u003cbr\\u003e#pcosawareness\\u003cbr\\u003e#WomensHealth\",\"Total Tweets: 980\\u003cbr\\u003eTop 5 hashtags:\\u003cbr\\u003e#WomensHealth\\u003cbr\\u003e#doctors\\u003cbr\\u003e#misinformation\\u003cbr\\u003e#PCOSAwareness\\u003cbr\\u003e#fertility\"],\"x\":[\"2024-08\",\"2024-09\",\"2024-10\"],\"y\":[1553,3213,980],\"type\":\"scatter\",\"hoverlabel\":{\"align\":\"left\"}}],                        {\"template\":{\"data\":{\"histogram2dcontour\":[{\"type\":\"histogram2dcontour\",\"colorbar\":{\"outlinewidth\":0,\"ticks\":\"\"},\"colorscale\":[[0.0,\"#0d0887\"],[0.1111111111111111,\"#46039f\"],[0.2222222222222222,\"#7201a8\"],[0.3333333333333333,\"#9c179e\"],[0.4444444444444444,\"#bd3786\"],[0.5555555555555556,\"#d8576b\"],[0.6666666666666666,\"#ed7953\"],[0.7777777777777778,\"#fb9f3a\"],[0.8888888888888888,\"#fdca26\"],[1.0,\"#f0f921\"]]}],\"choropleth\":[{\"type\":\"choropleth\",\"colorbar\":{\"outlinewidth\":0,\"ticks\":\"\"}}],\"histogram2d\":[{\"type\":\"histogram2d\",\"colorbar\":{\"outlinewidth\":0,\"ticks\":\"\"},\"colorscale\":[[0.0,\"#0d0887\"],[0.1111111111111111,\"#46039f\"],[0.2222222222222222,\"#7201a8\"],[0.3333333333333333,\"#9c179e\"],[0.4444444444444444,\"#bd3786\"],[0.5555555555555556,\"#d8576b\"],[0.6666666666666666,\"#ed7953\"],[0.7777777777777778,\"#fb9f3a\"],[0.8888888888888888,\"#fdca26\"],[1.0,\"#f0f921\"]]}],\"heatmap\":[{\"type\":\"heatmap\",\"colorbar\":{\"outlinewidth\":0,\"ticks\":\"\"},\"colorscale\":[[0.0,\"#0d0887\"],[0.1111111111111111,\"#46039f\"],[0.2222222222222222,\"#7201a8\"],[0.3333333333333333,\"#9c179e\"],[0.4444444444444444,\"#bd3786\"],[0.5555555555555556,\"#d8576b\"],[0.6666666666666666,\"#ed7953\"],[0.7777777777777778,\"#fb9f3a\"],[0.8888888888888888,\"#fdca26\"],[1.0,\"#f0f921\"]]}],\"heatmapgl\":[{\"type\":\"heatmapgl\",\"colorbar\":{\"outlinewidth\":0,\"ticks\":\"\"},\"colorscale\":[[0.0,\"#0d0887\"],[0.1111111111111111,\"#46039f\"],[0.2222222222222222,\"#7201a8\"],[0.3333333333333333,\"#9c179e\"],[0.4444444444444444,\"#bd3786\"],[0.5555555555555556,\"#d8576b\"],[0.6666666666666666,\"#ed7953\"],[0.7777777777777778,\"#fb9f3a\"],[0.8888888888888888,\"#fdca26\"],[1.0,\"#f0f921\"]]}],\"contourcarpet\":[{\"type\":\"contourcarpet\",\"colorbar\":{\"outlinewidth\":0,\"ticks\":\"\"}}],\"contour\":[{\"type\":\"contour\",\"colorbar\":{\"outlinewidth\":0,\"ticks\":\"\"},\"colorscale\":[[0.0,\"#0d0887\"],[0.1111111111111111,\"#46039f\"],[0.2222222222222222,\"#7201a8\"],[0.3333333333333333,\"#9c179e\"],[0.4444444444444444,\"#bd3786\"],[0.5555555555555556,\"#d8576b\"],[0.6666666666666666,\"#ed7953\"],[0.7777777777777778,\"#fb9f3a\"],[0.8888888888888888,\"#fdca26\"],[1.0,\"#f0f921\"]]}],\"surface\":[{\"type\":\"surface\",\"colorbar\":{\"outlinewidth\":0,\"ticks\":\"\"},\"colorscale\":[[0.0,\"#0d0887\"],[0.1111111111111111,\"#46039f\"],[0.2222222222222222,\"#7201a8\"],[0.3333333333333333,\"#9c179e\"],[0.4444444444444444,\"#bd3786\"],[0.5555555555555556,\"#d8576b\"],[0.6666666666666666,\"#ed7953\"],[0.7777777777777778,\"#fb9f3a\"],[0.8888888888888888,\"#fdca26\"],[1.0,\"#f0f921\"]]}],\"mesh3d\":[{\"type\":\"mesh3d\",\"colorbar\":{\"outlinewidth\":0,\"ticks\":\"\"}}],\"scatter\":[{\"fillpattern\":{\"fillmode\":\"overlay\",\"size\":10,\"solidity\":0.2},\"type\":\"scatter\"}],\"parcoords\":[{\"type\":\"parcoords\",\"line\":{\"colorbar\":{\"outlinewidth\":0,\"ticks\":\"\"}}}],\"scatterpolargl\":[{\"type\":\"scatterpolargl\",\"marker\":{\"colorbar\":{\"outlinewidth\":0,\"ticks\":\"\"}}}],\"bar\":[{\"error_x\":{\"color\":\"#2a3f5f\"},\"error_y\":{\"color\":\"#2a3f5f\"},\"marker\":{\"line\":{\"color\":\"#E5ECF6\",\"width\":0.5},\"pattern\":{\"fillmode\":\"overlay\",\"size\":10,\"solidity\":0.2}},\"type\":\"bar\"}],\"scattergeo\":[{\"type\":\"scattergeo\",\"marker\":{\"colorbar\":{\"outlinewidth\":0,\"ticks\":\"\"}}}],\"scatterpolar\":[{\"type\":\"scatterpolar\",\"marker\":{\"colorbar\":{\"outlinewidth\":0,\"ticks\":\"\"}}}],\"histogram\":[{\"marker\":{\"pattern\":{\"fillmode\":\"overlay\",\"size\":10,\"solidity\":0.2}},\"type\":\"histogram\"}],\"scattergl\":[{\"type\":\"scattergl\",\"marker\":{\"colorbar\":{\"outlinewidth\":0,\"ticks\":\"\"}}}],\"scatter3d\":[{\"type\":\"scatter3d\",\"line\":{\"colorbar\":{\"outlinewidth\":0,\"ticks\":\"\"}},\"marker\":{\"colorbar\":{\"outlinewidth\":0,\"ticks\":\"\"}}}],\"scattermapbox\":[{\"type\":\"scattermapbox\",\"marker\":{\"colorbar\":{\"outlinewidth\":0,\"ticks\":\"\"}}}],\"scatterternary\":[{\"type\":\"scatterternary\",\"marker\":{\"colorbar\":{\"outlinewidth\":0,\"ticks\":\"\"}}}],\"scattercarpet\":[{\"type\":\"scattercarpet\",\"marker\":{\"colorbar\":{\"outlinewidth\":0,\"ticks\":\"\"}}}],\"carpet\":[{\"aaxis\":{\"endlinecolor\":\"#2a3f5f\",\"gridcolor\":\"white\",\"linecolor\":\"white\",\"minorgridcolor\":\"white\",\"startlinecolor\":\"#2a3f5f\"},\"baxis\":{\"endlinecolor\":\"#2a3f5f\",\"gridcolor\":\"white\",\"linecolor\":\"white\",\"minorgridcolor\":\"white\",\"startlinecolor\":\"#2a3f5f\"},\"type\":\"carpet\"}],\"table\":[{\"cells\":{\"fill\":{\"color\":\"#EBF0F8\"},\"line\":{\"color\":\"white\"}},\"header\":{\"fill\":{\"color\":\"#C8D4E3\"},\"line\":{\"color\":\"white\"}},\"type\":\"table\"}],\"barpolar\":[{\"marker\":{\"line\":{\"color\":\"#E5ECF6\",\"width\":0.5},\"pattern\":{\"fillmode\":\"overlay\",\"size\":10,\"solidity\":0.2}},\"type\":\"barpolar\"}],\"pie\":[{\"automargin\":true,\"type\":\"pie\"}]},\"layout\":{\"autotypenumbers\":\"strict\",\"colorway\":[\"#636efa\",\"#EF553B\",\"#00cc96\",\"#ab63fa\",\"#FFA15A\",\"#19d3f3\",\"#FF6692\",\"#B6E880\",\"#FF97FF\",\"#FECB52\"],\"font\":{\"color\":\"#2a3f5f\"},\"hovermode\":\"closest\",\"hoverlabel\":{\"align\":\"left\"},\"paper_bgcolor\":\"white\",\"plot_bgcolor\":\"#E5ECF6\",\"polar\":{\"bgcolor\":\"#E5ECF6\",\"angularaxis\":{\"gridcolor\":\"white\",\"linecolor\":\"white\",\"ticks\":\"\"},\"radialaxis\":{\"gridcolor\":\"white\",\"linecolor\":\"white\",\"ticks\":\"\"}},\"ternary\":{\"bgcolor\":\"#E5ECF6\",\"aaxis\":{\"gridcolor\":\"white\",\"linecolor\":\"white\",\"ticks\":\"\"},\"baxis\":{\"gridcolor\":\"white\",\"linecolor\":\"white\",\"ticks\":\"\"},\"caxis\":{\"gridcolor\":\"white\",\"linecolor\":\"white\",\"ticks\":\"\"}},\"coloraxis\":{\"colorbar\":{\"outlinewidth\":0,\"ticks\":\"\"}},\"colorscale\":{\"sequential\":[[0.0,\"#0d0887\"],[0.1111111111111111,\"#46039f\"],[0.2222222222222222,\"#7201a8\"],[0.3333333333333333,\"#9c179e\"],[0.4444444444444444,\"#bd3786\"],[0.5555555555555556,\"#d8576b\"],[0.6666666666666666,\"#ed7953\"],[0.7777777777777778,\"#fb9f3a\"],[0.8888888888888888,\"#fdca26\"],[1.0,\"#f0f921\"]],\"sequentialminus\":[[0.0,\"#0d0887\"],[0.1111111111111111,\"#46039f\"],[0.2222222222222222,\"#7201a8\"],[0.3333333333333333,\"#9c179e\"],[0.4444444444444444,\"#bd3786\"],[0.5555555555555556,\"#d8576b\"],[0.6666666666666666,\"#ed7953\"],[0.7777777777777778,\"#fb9f3a\"],[0.8888888888888888,\"#fdca26\"],[1.0,\"#f0f921\"]],\"diverging\":[[0,\"#8e0152\"],[0.1,\"#c51b7d\"],[0.2,\"#de77ae\"],[0.3,\"#f1b6da\"],[0.4,\"#fde0ef\"],[0.5,\"#f7f7f7\"],[0.6,\"#e6f5d0\"],[0.7,\"#b8e186\"],[0.8,\"#7fbc41\"],[0.9,\"#4d9221\"],[1,\"#276419\"]]},\"xaxis\":{\"gridcolor\":\"white\",\"linecolor\":\"white\",\"ticks\":\"\",\"title\":{\"standoff\":15},\"zerolinecolor\":\"white\",\"automargin\":true,\"zerolinewidth\":2},\"yaxis\":{\"gridcolor\":\"white\",\"linecolor\":\"white\",\"ticks\":\"\",\"title\":{\"standoff\":15},\"zerolinecolor\":\"white\",\"automargin\":true,\"zerolinewidth\":2},\"scene\":{\"xaxis\":{\"backgroundcolor\":\"#E5ECF6\",\"gridcolor\":\"white\",\"linecolor\":\"white\",\"showbackground\":true,\"ticks\":\"\",\"zerolinecolor\":\"white\",\"gridwidth\":2},\"yaxis\":{\"backgroundcolor\":\"#E5ECF6\",\"gridcolor\":\"white\",\"linecolor\":\"white\",\"showbackground\":true,\"ticks\":\"\",\"zerolinecolor\":\"white\",\"gridwidth\":2},\"zaxis\":{\"backgroundcolor\":\"#E5ECF6\",\"gridcolor\":\"white\",\"linecolor\":\"white\",\"showbackground\":true,\"ticks\":\"\",\"zerolinecolor\":\"white\",\"gridwidth\":2}},\"shapedefaults\":{\"line\":{\"color\":\"#2a3f5f\"}},\"annotationdefaults\":{\"arrowcolor\":\"#2a3f5f\",\"arrowhead\":0,\"arrowwidth\":1},\"geo\":{\"bgcolor\":\"white\",\"landcolor\":\"#E5ECF6\",\"subunitcolor\":\"white\",\"showland\":true,\"showlakes\":true,\"lakecolor\":\"white\"},\"title\":{\"x\":0.05},\"mapbox\":{\"style\":\"light\"}}},\"annotations\":[{\"arrowcolor\":\"orange\",\"arrowhead\":7,\"arrowwidth\":2,\"ax\":220,\"ay\":30,\"hoverlabel\":{\"bgcolor\":\"orange\",\"bordercolor\":\"black\",\"font\":{\"color\":\"black\"}},\"hovertext\":\"PCOS-Awareness Month is a\\u003cbr\\u003e global healthcare event\\u003cbr\\u003e observed annually\\u003cbr\\u003e throughout September.\",\"showarrow\":true,\"text\":\"\\u003cb\\u003eSeptember is PCOS\\u003cbr\\u003e Awareness Month\\u003c\\u002fb\\u003e\",\"x\":\"2024-09\",\"y\":3213}],\"xaxis\":{\"title\":{\"text\":\"Month\"},\"tickmode\":\"array\",\"tickvals\":[\"2024-08\",\"2024-09\",\"2024-10\"],\"ticktext\":[\"August\",\"September\",\"October\"]},\"title\":{\"text\":\"Monthly Sentiment Trends and Tweet Activity for PCOS-Related Tweets\"},\"yaxis\":{\"title\":{\"text\":\"Number of Tweets\"}},\"barmode\":\"stack\",\"legend\":{\"title\":{\"text\":\"Sentiment\"}},\"hovermode\":\"x unified\"},                        {\"responsive\": true}                    ).then(function(){\n",
       "                            \n",
       "var gd = document.getElementById('60610627-2ce2-40d8-805f-c4e7fc2adca4');\n",
       "var x = new MutationObserver(function (mutations, observer) {{\n",
       "        var display = window.getComputedStyle(gd).display;\n",
       "        if (!display || display === 'none') {{\n",
       "            console.log([gd, 'removed!']);\n",
       "            Plotly.purge(gd);\n",
       "            observer.disconnect();\n",
       "        }}\n",
       "}});\n",
       "\n",
       "// Listen for the removal of the full notebook cells\n",
       "var notebookContainer = gd.closest('#notebook-container');\n",
       "if (notebookContainer) {{\n",
       "    x.observe(notebookContainer, {childList: true});\n",
       "}}\n",
       "\n",
       "// Listen for the clearing of the current output cell\n",
       "var outputEl = gd.closest('.output');\n",
       "if (outputEl) {{\n",
       "    x.observe(outputEl, {childList: true});\n",
       "}}\n",
       "\n",
       "                        })                };                });            </script>        </div>"
      ]
     },
     "metadata": {},
     "output_type": "display_data"
    }
   ],
   "source": [
    "pcos_related['YearMonth'] = pcos_related['Date'].dt.to_period('M')\n",
    "\n",
    "sentiment_monthly = pcos_related.groupby(['YearMonth', 'Sentiment']).size().unstack(fill_value=0)\n",
    "\n",
    "total_tweets_monthly = sentiment_monthly.sum(axis=1)\n",
    "\n",
    "#Top 5 Hashtags\n",
    "top_hashtags_monthly = (\n",
    "    pcos_related.explode('Hashtags')\n",
    "    .groupby('YearMonth')['Hashtags']\n",
    "    .apply(lambda x: x.value_counts().head(5).index.tolist())\n",
    "    .to_dict()\n",
    ")\n",
    "\n",
    "fig = go.Figure()\n",
    "\n",
    "colors = {'Positive': 'lightgreen', 'Neutral': 'lightblue', 'Negative': 'lightcoral'}\n",
    "\n",
    "for sentiment in sentiment_monthly.columns:\n",
    "    fig.add_trace(go.Bar(\n",
    "        x=sentiment_monthly.index.astype(str),  \n",
    "        y=sentiment_monthly[sentiment],\n",
    "        name=sentiment,\n",
    "        marker_color=colors[sentiment],\n",
    "        hoverinfo=\"text\",  \n",
    "        textposition=\"none\",\n",
    "        text=[\n",
    "            f\"{sentiment}: {value}\"  # Only sentiment counts in the hover text\n",
    "            for month, value in zip(sentiment_monthly.index, sentiment_monthly[sentiment])\n",
    "        ]\n",
    "    ))\n",
    "\n",
    "fig.add_trace(go.Scatter(\n",
    "    x=total_tweets_monthly.index.astype(str),\n",
    "    y=total_tweets_monthly,\n",
    "    mode='lines+markers',\n",
    "    name='Total Tweets',\n",
    "    line=dict(color='black', width=2),\n",
    "    hoverinfo='text',\n",
    "    text=[\n",
    "        f\"Total Tweets: {total_tweets_monthly[month]}<br>Top 5 hashtags:<br>{'<br>'.join(top_hashtags_monthly.get(month, []))}\"\n",
    "        for month in total_tweets_monthly.index\n",
    "    ]\n",
    "))\n",
    "\n",
    "#Annotation\n",
    "fig.add_annotation(\n",
    "    x=\"2024-09\",  \n",
    "    y=total_tweets_monthly.max() * 1,  \n",
    "    text=\"<b>September is PCOS<br> Awareness Month</b>\",  \n",
    "    showarrow=True,\n",
    "    arrowhead=7,  \n",
    "    arrowcolor= \"orange\",\n",
    "    arrowwidth=2,\n",
    "    ax=220,  \n",
    "    ay=30, \n",
    "    hovertext=\"PCOS-Awareness Month is a<br> global healthcare event<br> observed annually<br> throughout September.\",\n",
    "    hoverlabel=dict(\n",
    "        bgcolor=\"orange\",  \n",
    "        bordercolor=\"black\",  \n",
    "        font=dict(\n",
    "            color=\"black\"  \n",
    "        ),    )\n",
    ")\n",
    "\n",
    "\n",
    "#Adjustments\n",
    "fig.update_layout(\n",
    "    title=\"Monthly Sentiment Trends and Tweet Activity for PCOS-Related Tweets\",\n",
    "    xaxis_title=\"Month\",\n",
    "    yaxis_title=\"Number of Tweets\",\n",
    "    barmode=\"stack\",  \n",
    "    legend_title=\"Sentiment\",\n",
    "    hovermode=\"x unified\",\n",
    "    xaxis=dict(\n",
    "        tickmode='array',\n",
    "        tickvals=['2024-08', '2024-09', '2024-10'],  \n",
    "        ticktext=['August', 'September', 'October'] \n",
    "    )\n",
    ")\n",
    "\n",
    "fig.update_traces(hoverlabel=dict(align=\"left\"))\n",
    "                  \n",
    "fig.show()"
   ]
  },
  {
   "cell_type": "markdown",
   "id": "5a8d18d6-3b83-48b6-bc81-1810910ff83f",
   "metadata": {},
   "source": [
    "#### Focused Trends"
   ]
  },
  {
   "cell_type": "code",
   "execution_count": 205,
   "id": "27fdb093-3859-45b7-a1b6-6bdd46277b80",
   "metadata": {},
   "outputs": [
    {
     "data": {
      "application/vnd.plotly.v1+json": {
       "config": {
        "plotlyServerURL": "https://plot.ly"
       },
       "data": [
        {
         "hoverinfo": "text",
         "marker": {
          "color": "lightcoral"
         },
         "name": "Negative",
         "text": [
          "Negative: 1",
          "Negative: 11",
          "Negative: 9",
          "Negative: 8",
          "Negative: 1",
          "Negative: 9",
          "Negative: 3",
          "Negative: 5",
          "Negative: 554",
          "Negative: 196",
          "Negative: 55",
          "Negative: 4",
          "Negative: 10",
          "Negative: 8",
          "Negative: 6",
          "Negative: 3",
          "Negative: 5",
          "Negative: 3",
          "Negative: 3",
          "Negative: 3",
          "Negative: 4",
          "Negative: 2",
          "Negative: 2",
          "Negative: 8",
          "Negative: 1"
         ],
         "textposition": "none",
         "type": "bar",
         "x": [
          "2024-08-07",
          "2024-08-08",
          "2024-08-09",
          "2024-08-10",
          "2024-08-11",
          "2024-08-12",
          "2024-08-13",
          "2024-08-14",
          "2024-08-15",
          "2024-08-16",
          "2024-08-17",
          "2024-08-18",
          "2024-08-19",
          "2024-08-20",
          "2024-08-21",
          "2024-08-22",
          "2024-08-23",
          "2024-08-24",
          "2024-08-25",
          "2024-08-26",
          "2024-08-27",
          "2024-08-28",
          "2024-08-29",
          "2024-08-30",
          "2024-08-31"
         ],
         "y": [
          1,
          11,
          9,
          8,
          1,
          9,
          3,
          5,
          554,
          196,
          55,
          4,
          10,
          8,
          6,
          3,
          5,
          3,
          3,
          3,
          4,
          2,
          2,
          8,
          1
         ]
        },
        {
         "hoverinfo": "text",
         "marker": {
          "color": "lightblue"
         },
         "name": "Neutral",
         "text": [
          "Neutral: 11",
          "Neutral: 8",
          "Neutral: 9",
          "Neutral: 4",
          "Neutral: 3",
          "Neutral: 5",
          "Neutral: 9",
          "Neutral: 6",
          "Neutral: 5",
          "Neutral: 11",
          "Neutral: 3",
          "Neutral: 5",
          "Neutral: 11",
          "Neutral: 14",
          "Neutral: 7",
          "Neutral: 16",
          "Neutral: 14",
          "Neutral: 20",
          "Neutral: 6",
          "Neutral: 4",
          "Neutral: 8",
          "Neutral: 9",
          "Neutral: 10",
          "Neutral: 20",
          "Neutral: 5"
         ],
         "textposition": "none",
         "type": "bar",
         "x": [
          "2024-08-07",
          "2024-08-08",
          "2024-08-09",
          "2024-08-10",
          "2024-08-11",
          "2024-08-12",
          "2024-08-13",
          "2024-08-14",
          "2024-08-15",
          "2024-08-16",
          "2024-08-17",
          "2024-08-18",
          "2024-08-19",
          "2024-08-20",
          "2024-08-21",
          "2024-08-22",
          "2024-08-23",
          "2024-08-24",
          "2024-08-25",
          "2024-08-26",
          "2024-08-27",
          "2024-08-28",
          "2024-08-29",
          "2024-08-30",
          "2024-08-31"
         ],
         "y": [
          11,
          8,
          9,
          4,
          3,
          5,
          9,
          6,
          5,
          11,
          3,
          5,
          11,
          14,
          7,
          16,
          14,
          20,
          6,
          4,
          8,
          9,
          10,
          20,
          5
         ]
        },
        {
         "hoverinfo": "text",
         "marker": {
          "color": "lightgreen"
         },
         "name": "Positive",
         "text": [
          "Positive: 7",
          "Positive: 15",
          "Positive: 13",
          "Positive: 10",
          "Positive: 7",
          "Positive: 18",
          "Positive: 14",
          "Positive: 23",
          "Positive: 21",
          "Positive: 15",
          "Positive: 8",
          "Positive: 5",
          "Positive: 12",
          "Positive: 15",
          "Positive: 14",
          "Positive: 27",
          "Positive: 30",
          "Positive: 24",
          "Positive: 12",
          "Positive: 24",
          "Positive: 19",
          "Positive: 11",
          "Positive: 31",
          "Positive: 19",
          "Positive: 22"
         ],
         "textposition": "none",
         "type": "bar",
         "x": [
          "2024-08-07",
          "2024-08-08",
          "2024-08-09",
          "2024-08-10",
          "2024-08-11",
          "2024-08-12",
          "2024-08-13",
          "2024-08-14",
          "2024-08-15",
          "2024-08-16",
          "2024-08-17",
          "2024-08-18",
          "2024-08-19",
          "2024-08-20",
          "2024-08-21",
          "2024-08-22",
          "2024-08-23",
          "2024-08-24",
          "2024-08-25",
          "2024-08-26",
          "2024-08-27",
          "2024-08-28",
          "2024-08-29",
          "2024-08-30",
          "2024-08-31"
         ],
         "y": [
          7,
          15,
          13,
          10,
          7,
          18,
          14,
          23,
          21,
          15,
          8,
          5,
          12,
          15,
          14,
          27,
          30,
          24,
          12,
          24,
          19,
          11,
          31,
          19,
          22
         ]
        },
        {
         "hoverinfo": "text",
         "line": {
          "color": "black",
          "width": 2
         },
         "mode": "lines+markers",
         "name": "Total Tweets",
         "text": [
          "Top 5 hashtags:<br>#infertility<br>#WomensHealth<br>#fertility<br>#health<br>#PolycysticOvarySyndrome",
          "Top 5 hashtags:<br>#AIDS<br>#GSSYcuresAIDS<br>#cancer<br>#Mentalhealth<br>#meditation",
          "Top 5 hashtags:<br>#pregnancy<br>#JCEM<br>#fertility<br>#infertility<br>#ivf",
          "Top 5 hashtags:<br>#disordered<br>#mentalhealth<br>#PCOSAwareness<br>#women<br>#ivf",
          "Top 5 hashtags:<br>#PCOD<br>#WomensHealth<br>#weightloss<br>#madewithlove<br>#punjab",
          "Top 5 hashtags:<br>#PCOSAwareness<br>#Wellness<br>#HealthMyths<br>#Infertility<br>#WomensHealth",
          "Top 5 hashtags:<br>#WomensHealth<br>#womenshealth<br>#plantbased<br>#endometriosis<br>#infertility",
          "Top 5 hashtags:<br>#pcosawareness<br>#nyse<br>#paris2024<br>#WomensHealth<br>#MedEd",
          "Top 5 hashtags:<br>#PCOSAwareness<br>#PCOSWarrior<br>#health<br>#PCOSSupport<br>#HormoneHealth",
          "Top 5 hashtags:<br>#PCOSAwareness<br>#PCOSWarrior<br>#Infertility<br>#CVD<br>#STEMI",
          "Top 5 hashtags:<br>#PCOSAwareness<br>#PCOSWarrior<br>#Infertility<br>#WomensHealth<br>#trucker",
          "Top 5 hashtags:<br>#Infertility<br>#GynaeCancers<br>#TheWombProject<br>#PMDD<br>#gynae",
          "Top 5 hashtags:<br>#PCOSWarrior<br>#PCOSAwareness<br>#pregnancy<br>#mounjaro<br>#discount",
          "Top 5 hashtags:<br>#fertility<br>#health<br>#PCOSAwareness<br>#mounjaro<br>#WomenHealth",
          "Top 5 hashtags:<br>#weightloss<br>#WomensHealth<br>#implantology<br>#mounjaro<br>#type2diabetes",
          "Top 5 hashtags:<br>#PCOSAwareness<br>#endometriosis<br>#HolidayWellness<br>#SelfCare<br>#PCOScommunity",
          "Top 5 hashtags:<br>#bodyliteracy<br>#FAMTaughtMe<br>#PCOSAwareness<br>#health<br>#IoT",
          "Top 5 hashtags:<br>#health<br>#bodyliteracy<br>#FAMTaughtMe<br>#gut<br>#microbiota",
          "Top 5 hashtags:<br>#infertility<br>#ivfjourney<br>#selfcare<br>#health<br>#WomensHealth",
          "Top 5 hashtags:<br>#womenshealth<br>#fertility<br>#PCOSAwareness<br>#health<br>#HormonalHealth",
          "Top 5 hashtags:<br>#WomensHealth<br>#endometriosis<br>#PCOSGuideline<br>#paiapcos<br>#AHAJournals",
          "Top 5 hashtags:<br>#WomensHealth<br>#health<br>#pelvicpain<br>#fibroids<br>#endometriosis",
          "Top 5 hashtags:<br>#WomensHealth<br>#endometriosis<br>#infertility<br>#pelvicpain<br>#adenomyosis",
          "Top 5 hashtags:<br>#veganfood<br>#nutrition<br>#alkalineveganrecipes<br>#drsebidiet<br>#drsebirecipes",
          "Top 5 hashtags:<br>#anxiety<br>#fertility<br>#infertility<br>#ivf<br>#WomensHealth"
         ],
         "type": "scatter",
         "x": [
          "2024-08-07",
          "2024-08-08",
          "2024-08-09",
          "2024-08-10",
          "2024-08-11",
          "2024-08-12",
          "2024-08-13",
          "2024-08-14",
          "2024-08-15",
          "2024-08-16",
          "2024-08-17",
          "2024-08-18",
          "2024-08-19",
          "2024-08-20",
          "2024-08-21",
          "2024-08-22",
          "2024-08-23",
          "2024-08-24",
          "2024-08-25",
          "2024-08-26",
          "2024-08-27",
          "2024-08-28",
          "2024-08-29",
          "2024-08-30",
          "2024-08-31"
         ],
         "y": [
          19,
          34,
          31,
          22,
          11,
          32,
          26,
          34,
          580,
          222,
          66,
          14,
          33,
          37,
          27,
          46,
          49,
          47,
          21,
          31,
          31,
          22,
          43,
          47,
          28
         ]
        }
       ],
       "layout": {
        "autosize": true,
        "barmode": "stack",
        "hovermode": "x unified",
        "legend": {
         "title": {
          "text": "Sentiment"
         }
        },
        "template": {
         "data": {
          "bar": [
           {
            "error_x": {
             "color": "#2a3f5f"
            },
            "error_y": {
             "color": "#2a3f5f"
            },
            "marker": {
             "line": {
              "color": "#E5ECF6",
              "width": 0.5
             },
             "pattern": {
              "fillmode": "overlay",
              "size": 10,
              "solidity": 0.2
             }
            },
            "type": "bar"
           }
          ],
          "barpolar": [
           {
            "marker": {
             "line": {
              "color": "#E5ECF6",
              "width": 0.5
             },
             "pattern": {
              "fillmode": "overlay",
              "size": 10,
              "solidity": 0.2
             }
            },
            "type": "barpolar"
           }
          ],
          "carpet": [
           {
            "aaxis": {
             "endlinecolor": "#2a3f5f",
             "gridcolor": "white",
             "linecolor": "white",
             "minorgridcolor": "white",
             "startlinecolor": "#2a3f5f"
            },
            "baxis": {
             "endlinecolor": "#2a3f5f",
             "gridcolor": "white",
             "linecolor": "white",
             "minorgridcolor": "white",
             "startlinecolor": "#2a3f5f"
            },
            "type": "carpet"
           }
          ],
          "choropleth": [
           {
            "colorbar": {
             "outlinewidth": 0,
             "ticks": ""
            },
            "type": "choropleth"
           }
          ],
          "contour": [
           {
            "colorbar": {
             "outlinewidth": 0,
             "ticks": ""
            },
            "colorscale": [
             [
              0,
              "#0d0887"
             ],
             [
              0.1111111111111111,
              "#46039f"
             ],
             [
              0.2222222222222222,
              "#7201a8"
             ],
             [
              0.3333333333333333,
              "#9c179e"
             ],
             [
              0.4444444444444444,
              "#bd3786"
             ],
             [
              0.5555555555555556,
              "#d8576b"
             ],
             [
              0.6666666666666666,
              "#ed7953"
             ],
             [
              0.7777777777777778,
              "#fb9f3a"
             ],
             [
              0.8888888888888888,
              "#fdca26"
             ],
             [
              1,
              "#f0f921"
             ]
            ],
            "type": "contour"
           }
          ],
          "contourcarpet": [
           {
            "colorbar": {
             "outlinewidth": 0,
             "ticks": ""
            },
            "type": "contourcarpet"
           }
          ],
          "heatmap": [
           {
            "colorbar": {
             "outlinewidth": 0,
             "ticks": ""
            },
            "colorscale": [
             [
              0,
              "#0d0887"
             ],
             [
              0.1111111111111111,
              "#46039f"
             ],
             [
              0.2222222222222222,
              "#7201a8"
             ],
             [
              0.3333333333333333,
              "#9c179e"
             ],
             [
              0.4444444444444444,
              "#bd3786"
             ],
             [
              0.5555555555555556,
              "#d8576b"
             ],
             [
              0.6666666666666666,
              "#ed7953"
             ],
             [
              0.7777777777777778,
              "#fb9f3a"
             ],
             [
              0.8888888888888888,
              "#fdca26"
             ],
             [
              1,
              "#f0f921"
             ]
            ],
            "type": "heatmap"
           }
          ],
          "heatmapgl": [
           {
            "colorbar": {
             "outlinewidth": 0,
             "ticks": ""
            },
            "colorscale": [
             [
              0,
              "#0d0887"
             ],
             [
              0.1111111111111111,
              "#46039f"
             ],
             [
              0.2222222222222222,
              "#7201a8"
             ],
             [
              0.3333333333333333,
              "#9c179e"
             ],
             [
              0.4444444444444444,
              "#bd3786"
             ],
             [
              0.5555555555555556,
              "#d8576b"
             ],
             [
              0.6666666666666666,
              "#ed7953"
             ],
             [
              0.7777777777777778,
              "#fb9f3a"
             ],
             [
              0.8888888888888888,
              "#fdca26"
             ],
             [
              1,
              "#f0f921"
             ]
            ],
            "type": "heatmapgl"
           }
          ],
          "histogram": [
           {
            "marker": {
             "pattern": {
              "fillmode": "overlay",
              "size": 10,
              "solidity": 0.2
             }
            },
            "type": "histogram"
           }
          ],
          "histogram2d": [
           {
            "colorbar": {
             "outlinewidth": 0,
             "ticks": ""
            },
            "colorscale": [
             [
              0,
              "#0d0887"
             ],
             [
              0.1111111111111111,
              "#46039f"
             ],
             [
              0.2222222222222222,
              "#7201a8"
             ],
             [
              0.3333333333333333,
              "#9c179e"
             ],
             [
              0.4444444444444444,
              "#bd3786"
             ],
             [
              0.5555555555555556,
              "#d8576b"
             ],
             [
              0.6666666666666666,
              "#ed7953"
             ],
             [
              0.7777777777777778,
              "#fb9f3a"
             ],
             [
              0.8888888888888888,
              "#fdca26"
             ],
             [
              1,
              "#f0f921"
             ]
            ],
            "type": "histogram2d"
           }
          ],
          "histogram2dcontour": [
           {
            "colorbar": {
             "outlinewidth": 0,
             "ticks": ""
            },
            "colorscale": [
             [
              0,
              "#0d0887"
             ],
             [
              0.1111111111111111,
              "#46039f"
             ],
             [
              0.2222222222222222,
              "#7201a8"
             ],
             [
              0.3333333333333333,
              "#9c179e"
             ],
             [
              0.4444444444444444,
              "#bd3786"
             ],
             [
              0.5555555555555556,
              "#d8576b"
             ],
             [
              0.6666666666666666,
              "#ed7953"
             ],
             [
              0.7777777777777778,
              "#fb9f3a"
             ],
             [
              0.8888888888888888,
              "#fdca26"
             ],
             [
              1,
              "#f0f921"
             ]
            ],
            "type": "histogram2dcontour"
           }
          ],
          "mesh3d": [
           {
            "colorbar": {
             "outlinewidth": 0,
             "ticks": ""
            },
            "type": "mesh3d"
           }
          ],
          "parcoords": [
           {
            "line": {
             "colorbar": {
              "outlinewidth": 0,
              "ticks": ""
             }
            },
            "type": "parcoords"
           }
          ],
          "pie": [
           {
            "automargin": true,
            "type": "pie"
           }
          ],
          "scatter": [
           {
            "fillpattern": {
             "fillmode": "overlay",
             "size": 10,
             "solidity": 0.2
            },
            "type": "scatter"
           }
          ],
          "scatter3d": [
           {
            "line": {
             "colorbar": {
              "outlinewidth": 0,
              "ticks": ""
             }
            },
            "marker": {
             "colorbar": {
              "outlinewidth": 0,
              "ticks": ""
             }
            },
            "type": "scatter3d"
           }
          ],
          "scattercarpet": [
           {
            "marker": {
             "colorbar": {
              "outlinewidth": 0,
              "ticks": ""
             }
            },
            "type": "scattercarpet"
           }
          ],
          "scattergeo": [
           {
            "marker": {
             "colorbar": {
              "outlinewidth": 0,
              "ticks": ""
             }
            },
            "type": "scattergeo"
           }
          ],
          "scattergl": [
           {
            "marker": {
             "colorbar": {
              "outlinewidth": 0,
              "ticks": ""
             }
            },
            "type": "scattergl"
           }
          ],
          "scattermapbox": [
           {
            "marker": {
             "colorbar": {
              "outlinewidth": 0,
              "ticks": ""
             }
            },
            "type": "scattermapbox"
           }
          ],
          "scatterpolar": [
           {
            "marker": {
             "colorbar": {
              "outlinewidth": 0,
              "ticks": ""
             }
            },
            "type": "scatterpolar"
           }
          ],
          "scatterpolargl": [
           {
            "marker": {
             "colorbar": {
              "outlinewidth": 0,
              "ticks": ""
             }
            },
            "type": "scatterpolargl"
           }
          ],
          "scatterternary": [
           {
            "marker": {
             "colorbar": {
              "outlinewidth": 0,
              "ticks": ""
             }
            },
            "type": "scatterternary"
           }
          ],
          "surface": [
           {
            "colorbar": {
             "outlinewidth": 0,
             "ticks": ""
            },
            "colorscale": [
             [
              0,
              "#0d0887"
             ],
             [
              0.1111111111111111,
              "#46039f"
             ],
             [
              0.2222222222222222,
              "#7201a8"
             ],
             [
              0.3333333333333333,
              "#9c179e"
             ],
             [
              0.4444444444444444,
              "#bd3786"
             ],
             [
              0.5555555555555556,
              "#d8576b"
             ],
             [
              0.6666666666666666,
              "#ed7953"
             ],
             [
              0.7777777777777778,
              "#fb9f3a"
             ],
             [
              0.8888888888888888,
              "#fdca26"
             ],
             [
              1,
              "#f0f921"
             ]
            ],
            "type": "surface"
           }
          ],
          "table": [
           {
            "cells": {
             "fill": {
              "color": "#EBF0F8"
             },
             "line": {
              "color": "white"
             }
            },
            "header": {
             "fill": {
              "color": "#C8D4E3"
             },
             "line": {
              "color": "white"
             }
            },
            "type": "table"
           }
          ]
         },
         "layout": {
          "annotationdefaults": {
           "arrowcolor": "#2a3f5f",
           "arrowhead": 0,
           "arrowwidth": 1
          },
          "autotypenumbers": "strict",
          "coloraxis": {
           "colorbar": {
            "outlinewidth": 0,
            "ticks": ""
           }
          },
          "colorscale": {
           "diverging": [
            [
             0,
             "#8e0152"
            ],
            [
             0.1,
             "#c51b7d"
            ],
            [
             0.2,
             "#de77ae"
            ],
            [
             0.3,
             "#f1b6da"
            ],
            [
             0.4,
             "#fde0ef"
            ],
            [
             0.5,
             "#f7f7f7"
            ],
            [
             0.6,
             "#e6f5d0"
            ],
            [
             0.7,
             "#b8e186"
            ],
            [
             0.8,
             "#7fbc41"
            ],
            [
             0.9,
             "#4d9221"
            ],
            [
             1,
             "#276419"
            ]
           ],
           "sequential": [
            [
             0,
             "#0d0887"
            ],
            [
             0.1111111111111111,
             "#46039f"
            ],
            [
             0.2222222222222222,
             "#7201a8"
            ],
            [
             0.3333333333333333,
             "#9c179e"
            ],
            [
             0.4444444444444444,
             "#bd3786"
            ],
            [
             0.5555555555555556,
             "#d8576b"
            ],
            [
             0.6666666666666666,
             "#ed7953"
            ],
            [
             0.7777777777777778,
             "#fb9f3a"
            ],
            [
             0.8888888888888888,
             "#fdca26"
            ],
            [
             1,
             "#f0f921"
            ]
           ],
           "sequentialminus": [
            [
             0,
             "#0d0887"
            ],
            [
             0.1111111111111111,
             "#46039f"
            ],
            [
             0.2222222222222222,
             "#7201a8"
            ],
            [
             0.3333333333333333,
             "#9c179e"
            ],
            [
             0.4444444444444444,
             "#bd3786"
            ],
            [
             0.5555555555555556,
             "#d8576b"
            ],
            [
             0.6666666666666666,
             "#ed7953"
            ],
            [
             0.7777777777777778,
             "#fb9f3a"
            ],
            [
             0.8888888888888888,
             "#fdca26"
            ],
            [
             1,
             "#f0f921"
            ]
           ]
          },
          "colorway": [
           "#636efa",
           "#EF553B",
           "#00cc96",
           "#ab63fa",
           "#FFA15A",
           "#19d3f3",
           "#FF6692",
           "#B6E880",
           "#FF97FF",
           "#FECB52"
          ],
          "font": {
           "color": "#2a3f5f"
          },
          "geo": {
           "bgcolor": "white",
           "lakecolor": "white",
           "landcolor": "#E5ECF6",
           "showlakes": true,
           "showland": true,
           "subunitcolor": "white"
          },
          "hoverlabel": {
           "align": "left"
          },
          "hovermode": "closest",
          "mapbox": {
           "style": "light"
          },
          "paper_bgcolor": "white",
          "plot_bgcolor": "#E5ECF6",
          "polar": {
           "angularaxis": {
            "gridcolor": "white",
            "linecolor": "white",
            "ticks": ""
           },
           "bgcolor": "#E5ECF6",
           "radialaxis": {
            "gridcolor": "white",
            "linecolor": "white",
            "ticks": ""
           }
          },
          "scene": {
           "xaxis": {
            "backgroundcolor": "#E5ECF6",
            "gridcolor": "white",
            "gridwidth": 2,
            "linecolor": "white",
            "showbackground": true,
            "ticks": "",
            "zerolinecolor": "white"
           },
           "yaxis": {
            "backgroundcolor": "#E5ECF6",
            "gridcolor": "white",
            "gridwidth": 2,
            "linecolor": "white",
            "showbackground": true,
            "ticks": "",
            "zerolinecolor": "white"
           },
           "zaxis": {
            "backgroundcolor": "#E5ECF6",
            "gridcolor": "white",
            "gridwidth": 2,
            "linecolor": "white",
            "showbackground": true,
            "ticks": "",
            "zerolinecolor": "white"
           }
          },
          "shapedefaults": {
           "line": {
            "color": "#2a3f5f"
           }
          },
          "ternary": {
           "aaxis": {
            "gridcolor": "white",
            "linecolor": "white",
            "ticks": ""
           },
           "baxis": {
            "gridcolor": "white",
            "linecolor": "white",
            "ticks": ""
           },
           "bgcolor": "#E5ECF6",
           "caxis": {
            "gridcolor": "white",
            "linecolor": "white",
            "ticks": ""
           }
          },
          "title": {
           "x": 0.05
          },
          "xaxis": {
           "automargin": true,
           "gridcolor": "white",
           "linecolor": "white",
           "ticks": "",
           "title": {
            "standoff": 15
           },
           "zerolinecolor": "white",
           "zerolinewidth": 2
          },
          "yaxis": {
           "automargin": true,
           "gridcolor": "white",
           "linecolor": "white",
           "ticks": "",
           "title": {
            "standoff": 15
           },
           "zerolinecolor": "white",
           "zerolinewidth": 2
          }
         }
        },
        "title": {
         "text": "Daily Sentiment Trends and Tweet Activity for PCOS-related posts (August)"
        },
        "xaxis": {
         "autorange": true,
         "range": [
          "2024-08-05 10:17:08.5714",
          "2024-09-01 13:42:51.4286"
         ],
         "title": {
          "text": "Day"
         },
         "type": "date"
        },
        "yaxis": {
         "autorange": true,
         "range": [
          -35.95631067961165,
          626.9563106796116
         ],
         "title": {
          "text": "Number of Tweets"
         },
         "type": "linear"
        }
       }
      },
      "text/html": [
       "<div>                            <div id=\"bee6db1a-320d-4b02-840d-bada9826c503\" class=\"plotly-graph-div\" style=\"height:525px; width:100%;\"></div>            <script type=\"text/javascript\">                require([\"plotly\"], function(Plotly) {                    window.PLOTLYENV=window.PLOTLYENV || {};                                    if (document.getElementById(\"bee6db1a-320d-4b02-840d-bada9826c503\")) {                    Plotly.newPlot(                        \"bee6db1a-320d-4b02-840d-bada9826c503\",                        [{\"hoverinfo\":\"text\",\"marker\":{\"color\":\"lightcoral\"},\"name\":\"Negative\",\"text\":[\"Negative: 1\",\"Negative: 11\",\"Negative: 9\",\"Negative: 8\",\"Negative: 1\",\"Negative: 9\",\"Negative: 3\",\"Negative: 5\",\"Negative: 554\",\"Negative: 196\",\"Negative: 55\",\"Negative: 4\",\"Negative: 10\",\"Negative: 8\",\"Negative: 6\",\"Negative: 3\",\"Negative: 5\",\"Negative: 3\",\"Negative: 3\",\"Negative: 3\",\"Negative: 4\",\"Negative: 2\",\"Negative: 2\",\"Negative: 8\",\"Negative: 1\"],\"textposition\":\"none\",\"x\":[\"2024-08-07\",\"2024-08-08\",\"2024-08-09\",\"2024-08-10\",\"2024-08-11\",\"2024-08-12\",\"2024-08-13\",\"2024-08-14\",\"2024-08-15\",\"2024-08-16\",\"2024-08-17\",\"2024-08-18\",\"2024-08-19\",\"2024-08-20\",\"2024-08-21\",\"2024-08-22\",\"2024-08-23\",\"2024-08-24\",\"2024-08-25\",\"2024-08-26\",\"2024-08-27\",\"2024-08-28\",\"2024-08-29\",\"2024-08-30\",\"2024-08-31\"],\"y\":[1,11,9,8,1,9,3,5,554,196,55,4,10,8,6,3,5,3,3,3,4,2,2,8,1],\"type\":\"bar\"},{\"hoverinfo\":\"text\",\"marker\":{\"color\":\"lightblue\"},\"name\":\"Neutral\",\"text\":[\"Neutral: 11\",\"Neutral: 8\",\"Neutral: 9\",\"Neutral: 4\",\"Neutral: 3\",\"Neutral: 5\",\"Neutral: 9\",\"Neutral: 6\",\"Neutral: 5\",\"Neutral: 11\",\"Neutral: 3\",\"Neutral: 5\",\"Neutral: 11\",\"Neutral: 14\",\"Neutral: 7\",\"Neutral: 16\",\"Neutral: 14\",\"Neutral: 20\",\"Neutral: 6\",\"Neutral: 4\",\"Neutral: 8\",\"Neutral: 9\",\"Neutral: 10\",\"Neutral: 20\",\"Neutral: 5\"],\"textposition\":\"none\",\"x\":[\"2024-08-07\",\"2024-08-08\",\"2024-08-09\",\"2024-08-10\",\"2024-08-11\",\"2024-08-12\",\"2024-08-13\",\"2024-08-14\",\"2024-08-15\",\"2024-08-16\",\"2024-08-17\",\"2024-08-18\",\"2024-08-19\",\"2024-08-20\",\"2024-08-21\",\"2024-08-22\",\"2024-08-23\",\"2024-08-24\",\"2024-08-25\",\"2024-08-26\",\"2024-08-27\",\"2024-08-28\",\"2024-08-29\",\"2024-08-30\",\"2024-08-31\"],\"y\":[11,8,9,4,3,5,9,6,5,11,3,5,11,14,7,16,14,20,6,4,8,9,10,20,5],\"type\":\"bar\"},{\"hoverinfo\":\"text\",\"marker\":{\"color\":\"lightgreen\"},\"name\":\"Positive\",\"text\":[\"Positive: 7\",\"Positive: 15\",\"Positive: 13\",\"Positive: 10\",\"Positive: 7\",\"Positive: 18\",\"Positive: 14\",\"Positive: 23\",\"Positive: 21\",\"Positive: 15\",\"Positive: 8\",\"Positive: 5\",\"Positive: 12\",\"Positive: 15\",\"Positive: 14\",\"Positive: 27\",\"Positive: 30\",\"Positive: 24\",\"Positive: 12\",\"Positive: 24\",\"Positive: 19\",\"Positive: 11\",\"Positive: 31\",\"Positive: 19\",\"Positive: 22\"],\"textposition\":\"none\",\"x\":[\"2024-08-07\",\"2024-08-08\",\"2024-08-09\",\"2024-08-10\",\"2024-08-11\",\"2024-08-12\",\"2024-08-13\",\"2024-08-14\",\"2024-08-15\",\"2024-08-16\",\"2024-08-17\",\"2024-08-18\",\"2024-08-19\",\"2024-08-20\",\"2024-08-21\",\"2024-08-22\",\"2024-08-23\",\"2024-08-24\",\"2024-08-25\",\"2024-08-26\",\"2024-08-27\",\"2024-08-28\",\"2024-08-29\",\"2024-08-30\",\"2024-08-31\"],\"y\":[7,15,13,10,7,18,14,23,21,15,8,5,12,15,14,27,30,24,12,24,19,11,31,19,22],\"type\":\"bar\"},{\"hoverinfo\":\"text\",\"line\":{\"color\":\"black\",\"width\":2},\"mode\":\"lines+markers\",\"name\":\"Total Tweets\",\"text\":[\"Top 5 hashtags:\\u003cbr\\u003e#infertility\\u003cbr\\u003e#WomensHealth\\u003cbr\\u003e#fertility\\u003cbr\\u003e#health\\u003cbr\\u003e#PolycysticOvarySyndrome\",\"Top 5 hashtags:\\u003cbr\\u003e#AIDS\\u003cbr\\u003e#GSSYcuresAIDS\\u003cbr\\u003e#cancer\\u003cbr\\u003e#Mentalhealth\\u003cbr\\u003e#meditation\",\"Top 5 hashtags:\\u003cbr\\u003e#pregnancy\\u003cbr\\u003e#JCEM\\u003cbr\\u003e#fertility\\u003cbr\\u003e#infertility\\u003cbr\\u003e#ivf\",\"Top 5 hashtags:\\u003cbr\\u003e#disordered\\u003cbr\\u003e#mentalhealth\\u003cbr\\u003e#PCOSAwareness\\u003cbr\\u003e#women\\u003cbr\\u003e#ivf\",\"Top 5 hashtags:\\u003cbr\\u003e#PCOD\\u003cbr\\u003e#WomensHealth\\u003cbr\\u003e#weightloss\\u003cbr\\u003e#madewithlove\\u003cbr\\u003e#punjab\",\"Top 5 hashtags:\\u003cbr\\u003e#PCOSAwareness\\u003cbr\\u003e#Wellness\\u003cbr\\u003e#HealthMyths\\u003cbr\\u003e#Infertility\\u003cbr\\u003e#WomensHealth\",\"Top 5 hashtags:\\u003cbr\\u003e#WomensHealth\\u003cbr\\u003e#womenshealth\\u003cbr\\u003e#plantbased\\u003cbr\\u003e#endometriosis\\u003cbr\\u003e#infertility\",\"Top 5 hashtags:\\u003cbr\\u003e#pcosawareness\\u003cbr\\u003e#nyse\\u003cbr\\u003e#paris2024\\u003cbr\\u003e#WomensHealth\\u003cbr\\u003e#MedEd\",\"Top 5 hashtags:\\u003cbr\\u003e#PCOSAwareness\\u003cbr\\u003e#PCOSWarrior\\u003cbr\\u003e#health\\u003cbr\\u003e#PCOSSupport\\u003cbr\\u003e#HormoneHealth\",\"Top 5 hashtags:\\u003cbr\\u003e#PCOSAwareness\\u003cbr\\u003e#PCOSWarrior\\u003cbr\\u003e#Infertility\\u003cbr\\u003e#CVD\\u003cbr\\u003e#STEMI\",\"Top 5 hashtags:\\u003cbr\\u003e#PCOSAwareness\\u003cbr\\u003e#PCOSWarrior\\u003cbr\\u003e#Infertility\\u003cbr\\u003e#WomensHealth\\u003cbr\\u003e#trucker\",\"Top 5 hashtags:\\u003cbr\\u003e#Infertility\\u003cbr\\u003e#GynaeCancers\\u003cbr\\u003e#TheWombProject\\u003cbr\\u003e#PMDD\\u003cbr\\u003e#gynae\",\"Top 5 hashtags:\\u003cbr\\u003e#PCOSWarrior\\u003cbr\\u003e#PCOSAwareness\\u003cbr\\u003e#pregnancy\\u003cbr\\u003e#mounjaro\\u003cbr\\u003e#discount\",\"Top 5 hashtags:\\u003cbr\\u003e#fertility\\u003cbr\\u003e#health\\u003cbr\\u003e#PCOSAwareness\\u003cbr\\u003e#mounjaro\\u003cbr\\u003e#WomenHealth\",\"Top 5 hashtags:\\u003cbr\\u003e#weightloss\\u003cbr\\u003e#WomensHealth\\u003cbr\\u003e#implantology\\u003cbr\\u003e#mounjaro\\u003cbr\\u003e#type2diabetes\",\"Top 5 hashtags:\\u003cbr\\u003e#PCOSAwareness\\u003cbr\\u003e#endometriosis\\u003cbr\\u003e#HolidayWellness\\u003cbr\\u003e#SelfCare\\u003cbr\\u003e#PCOScommunity\",\"Top 5 hashtags:\\u003cbr\\u003e#bodyliteracy\\u003cbr\\u003e#FAMTaughtMe\\u003cbr\\u003e#PCOSAwareness\\u003cbr\\u003e#health\\u003cbr\\u003e#IoT\",\"Top 5 hashtags:\\u003cbr\\u003e#health\\u003cbr\\u003e#bodyliteracy\\u003cbr\\u003e#FAMTaughtMe\\u003cbr\\u003e#gut\\u003cbr\\u003e#microbiota\",\"Top 5 hashtags:\\u003cbr\\u003e#infertility\\u003cbr\\u003e#ivfjourney\\u003cbr\\u003e#selfcare\\u003cbr\\u003e#health\\u003cbr\\u003e#WomensHealth\",\"Top 5 hashtags:\\u003cbr\\u003e#womenshealth\\u003cbr\\u003e#fertility\\u003cbr\\u003e#PCOSAwareness\\u003cbr\\u003e#health\\u003cbr\\u003e#HormonalHealth\",\"Top 5 hashtags:\\u003cbr\\u003e#WomensHealth\\u003cbr\\u003e#endometriosis\\u003cbr\\u003e#PCOSGuideline\\u003cbr\\u003e#paiapcos\\u003cbr\\u003e#AHAJournals\",\"Top 5 hashtags:\\u003cbr\\u003e#WomensHealth\\u003cbr\\u003e#health\\u003cbr\\u003e#pelvicpain\\u003cbr\\u003e#fibroids\\u003cbr\\u003e#endometriosis\",\"Top 5 hashtags:\\u003cbr\\u003e#WomensHealth\\u003cbr\\u003e#endometriosis\\u003cbr\\u003e#infertility\\u003cbr\\u003e#pelvicpain\\u003cbr\\u003e#adenomyosis\",\"Top 5 hashtags:\\u003cbr\\u003e#veganfood\\u003cbr\\u003e#nutrition\\u003cbr\\u003e#alkalineveganrecipes\\u003cbr\\u003e#drsebidiet\\u003cbr\\u003e#drsebirecipes\",\"Top 5 hashtags:\\u003cbr\\u003e#anxiety\\u003cbr\\u003e#fertility\\u003cbr\\u003e#infertility\\u003cbr\\u003e#ivf\\u003cbr\\u003e#WomensHealth\"],\"x\":[\"2024-08-07\",\"2024-08-08\",\"2024-08-09\",\"2024-08-10\",\"2024-08-11\",\"2024-08-12\",\"2024-08-13\",\"2024-08-14\",\"2024-08-15\",\"2024-08-16\",\"2024-08-17\",\"2024-08-18\",\"2024-08-19\",\"2024-08-20\",\"2024-08-21\",\"2024-08-22\",\"2024-08-23\",\"2024-08-24\",\"2024-08-25\",\"2024-08-26\",\"2024-08-27\",\"2024-08-28\",\"2024-08-29\",\"2024-08-30\",\"2024-08-31\"],\"y\":[19,34,31,22,11,32,26,34,580,222,66,14,33,37,27,46,49,47,21,31,31,22,43,47,28],\"type\":\"scatter\"}],                        {\"template\":{\"data\":{\"histogram2dcontour\":[{\"type\":\"histogram2dcontour\",\"colorbar\":{\"outlinewidth\":0,\"ticks\":\"\"},\"colorscale\":[[0.0,\"#0d0887\"],[0.1111111111111111,\"#46039f\"],[0.2222222222222222,\"#7201a8\"],[0.3333333333333333,\"#9c179e\"],[0.4444444444444444,\"#bd3786\"],[0.5555555555555556,\"#d8576b\"],[0.6666666666666666,\"#ed7953\"],[0.7777777777777778,\"#fb9f3a\"],[0.8888888888888888,\"#fdca26\"],[1.0,\"#f0f921\"]]}],\"choropleth\":[{\"type\":\"choropleth\",\"colorbar\":{\"outlinewidth\":0,\"ticks\":\"\"}}],\"histogram2d\":[{\"type\":\"histogram2d\",\"colorbar\":{\"outlinewidth\":0,\"ticks\":\"\"},\"colorscale\":[[0.0,\"#0d0887\"],[0.1111111111111111,\"#46039f\"],[0.2222222222222222,\"#7201a8\"],[0.3333333333333333,\"#9c179e\"],[0.4444444444444444,\"#bd3786\"],[0.5555555555555556,\"#d8576b\"],[0.6666666666666666,\"#ed7953\"],[0.7777777777777778,\"#fb9f3a\"],[0.8888888888888888,\"#fdca26\"],[1.0,\"#f0f921\"]]}],\"heatmap\":[{\"type\":\"heatmap\",\"colorbar\":{\"outlinewidth\":0,\"ticks\":\"\"},\"colorscale\":[[0.0,\"#0d0887\"],[0.1111111111111111,\"#46039f\"],[0.2222222222222222,\"#7201a8\"],[0.3333333333333333,\"#9c179e\"],[0.4444444444444444,\"#bd3786\"],[0.5555555555555556,\"#d8576b\"],[0.6666666666666666,\"#ed7953\"],[0.7777777777777778,\"#fb9f3a\"],[0.8888888888888888,\"#fdca26\"],[1.0,\"#f0f921\"]]}],\"heatmapgl\":[{\"type\":\"heatmapgl\",\"colorbar\":{\"outlinewidth\":0,\"ticks\":\"\"},\"colorscale\":[[0.0,\"#0d0887\"],[0.1111111111111111,\"#46039f\"],[0.2222222222222222,\"#7201a8\"],[0.3333333333333333,\"#9c179e\"],[0.4444444444444444,\"#bd3786\"],[0.5555555555555556,\"#d8576b\"],[0.6666666666666666,\"#ed7953\"],[0.7777777777777778,\"#fb9f3a\"],[0.8888888888888888,\"#fdca26\"],[1.0,\"#f0f921\"]]}],\"contourcarpet\":[{\"type\":\"contourcarpet\",\"colorbar\":{\"outlinewidth\":0,\"ticks\":\"\"}}],\"contour\":[{\"type\":\"contour\",\"colorbar\":{\"outlinewidth\":0,\"ticks\":\"\"},\"colorscale\":[[0.0,\"#0d0887\"],[0.1111111111111111,\"#46039f\"],[0.2222222222222222,\"#7201a8\"],[0.3333333333333333,\"#9c179e\"],[0.4444444444444444,\"#bd3786\"],[0.5555555555555556,\"#d8576b\"],[0.6666666666666666,\"#ed7953\"],[0.7777777777777778,\"#fb9f3a\"],[0.8888888888888888,\"#fdca26\"],[1.0,\"#f0f921\"]]}],\"surface\":[{\"type\":\"surface\",\"colorbar\":{\"outlinewidth\":0,\"ticks\":\"\"},\"colorscale\":[[0.0,\"#0d0887\"],[0.1111111111111111,\"#46039f\"],[0.2222222222222222,\"#7201a8\"],[0.3333333333333333,\"#9c179e\"],[0.4444444444444444,\"#bd3786\"],[0.5555555555555556,\"#d8576b\"],[0.6666666666666666,\"#ed7953\"],[0.7777777777777778,\"#fb9f3a\"],[0.8888888888888888,\"#fdca26\"],[1.0,\"#f0f921\"]]}],\"mesh3d\":[{\"type\":\"mesh3d\",\"colorbar\":{\"outlinewidth\":0,\"ticks\":\"\"}}],\"scatter\":[{\"fillpattern\":{\"fillmode\":\"overlay\",\"size\":10,\"solidity\":0.2},\"type\":\"scatter\"}],\"parcoords\":[{\"type\":\"parcoords\",\"line\":{\"colorbar\":{\"outlinewidth\":0,\"ticks\":\"\"}}}],\"scatterpolargl\":[{\"type\":\"scatterpolargl\",\"marker\":{\"colorbar\":{\"outlinewidth\":0,\"ticks\":\"\"}}}],\"bar\":[{\"error_x\":{\"color\":\"#2a3f5f\"},\"error_y\":{\"color\":\"#2a3f5f\"},\"marker\":{\"line\":{\"color\":\"#E5ECF6\",\"width\":0.5},\"pattern\":{\"fillmode\":\"overlay\",\"size\":10,\"solidity\":0.2}},\"type\":\"bar\"}],\"scattergeo\":[{\"type\":\"scattergeo\",\"marker\":{\"colorbar\":{\"outlinewidth\":0,\"ticks\":\"\"}}}],\"scatterpolar\":[{\"type\":\"scatterpolar\",\"marker\":{\"colorbar\":{\"outlinewidth\":0,\"ticks\":\"\"}}}],\"histogram\":[{\"marker\":{\"pattern\":{\"fillmode\":\"overlay\",\"size\":10,\"solidity\":0.2}},\"type\":\"histogram\"}],\"scattergl\":[{\"type\":\"scattergl\",\"marker\":{\"colorbar\":{\"outlinewidth\":0,\"ticks\":\"\"}}}],\"scatter3d\":[{\"type\":\"scatter3d\",\"line\":{\"colorbar\":{\"outlinewidth\":0,\"ticks\":\"\"}},\"marker\":{\"colorbar\":{\"outlinewidth\":0,\"ticks\":\"\"}}}],\"scattermapbox\":[{\"type\":\"scattermapbox\",\"marker\":{\"colorbar\":{\"outlinewidth\":0,\"ticks\":\"\"}}}],\"scatterternary\":[{\"type\":\"scatterternary\",\"marker\":{\"colorbar\":{\"outlinewidth\":0,\"ticks\":\"\"}}}],\"scattercarpet\":[{\"type\":\"scattercarpet\",\"marker\":{\"colorbar\":{\"outlinewidth\":0,\"ticks\":\"\"}}}],\"carpet\":[{\"aaxis\":{\"endlinecolor\":\"#2a3f5f\",\"gridcolor\":\"white\",\"linecolor\":\"white\",\"minorgridcolor\":\"white\",\"startlinecolor\":\"#2a3f5f\"},\"baxis\":{\"endlinecolor\":\"#2a3f5f\",\"gridcolor\":\"white\",\"linecolor\":\"white\",\"minorgridcolor\":\"white\",\"startlinecolor\":\"#2a3f5f\"},\"type\":\"carpet\"}],\"table\":[{\"cells\":{\"fill\":{\"color\":\"#EBF0F8\"},\"line\":{\"color\":\"white\"}},\"header\":{\"fill\":{\"color\":\"#C8D4E3\"},\"line\":{\"color\":\"white\"}},\"type\":\"table\"}],\"barpolar\":[{\"marker\":{\"line\":{\"color\":\"#E5ECF6\",\"width\":0.5},\"pattern\":{\"fillmode\":\"overlay\",\"size\":10,\"solidity\":0.2}},\"type\":\"barpolar\"}],\"pie\":[{\"automargin\":true,\"type\":\"pie\"}]},\"layout\":{\"autotypenumbers\":\"strict\",\"colorway\":[\"#636efa\",\"#EF553B\",\"#00cc96\",\"#ab63fa\",\"#FFA15A\",\"#19d3f3\",\"#FF6692\",\"#B6E880\",\"#FF97FF\",\"#FECB52\"],\"font\":{\"color\":\"#2a3f5f\"},\"hovermode\":\"closest\",\"hoverlabel\":{\"align\":\"left\"},\"paper_bgcolor\":\"white\",\"plot_bgcolor\":\"#E5ECF6\",\"polar\":{\"bgcolor\":\"#E5ECF6\",\"angularaxis\":{\"gridcolor\":\"white\",\"linecolor\":\"white\",\"ticks\":\"\"},\"radialaxis\":{\"gridcolor\":\"white\",\"linecolor\":\"white\",\"ticks\":\"\"}},\"ternary\":{\"bgcolor\":\"#E5ECF6\",\"aaxis\":{\"gridcolor\":\"white\",\"linecolor\":\"white\",\"ticks\":\"\"},\"baxis\":{\"gridcolor\":\"white\",\"linecolor\":\"white\",\"ticks\":\"\"},\"caxis\":{\"gridcolor\":\"white\",\"linecolor\":\"white\",\"ticks\":\"\"}},\"coloraxis\":{\"colorbar\":{\"outlinewidth\":0,\"ticks\":\"\"}},\"colorscale\":{\"sequential\":[[0.0,\"#0d0887\"],[0.1111111111111111,\"#46039f\"],[0.2222222222222222,\"#7201a8\"],[0.3333333333333333,\"#9c179e\"],[0.4444444444444444,\"#bd3786\"],[0.5555555555555556,\"#d8576b\"],[0.6666666666666666,\"#ed7953\"],[0.7777777777777778,\"#fb9f3a\"],[0.8888888888888888,\"#fdca26\"],[1.0,\"#f0f921\"]],\"sequentialminus\":[[0.0,\"#0d0887\"],[0.1111111111111111,\"#46039f\"],[0.2222222222222222,\"#7201a8\"],[0.3333333333333333,\"#9c179e\"],[0.4444444444444444,\"#bd3786\"],[0.5555555555555556,\"#d8576b\"],[0.6666666666666666,\"#ed7953\"],[0.7777777777777778,\"#fb9f3a\"],[0.8888888888888888,\"#fdca26\"],[1.0,\"#f0f921\"]],\"diverging\":[[0,\"#8e0152\"],[0.1,\"#c51b7d\"],[0.2,\"#de77ae\"],[0.3,\"#f1b6da\"],[0.4,\"#fde0ef\"],[0.5,\"#f7f7f7\"],[0.6,\"#e6f5d0\"],[0.7,\"#b8e186\"],[0.8,\"#7fbc41\"],[0.9,\"#4d9221\"],[1,\"#276419\"]]},\"xaxis\":{\"gridcolor\":\"white\",\"linecolor\":\"white\",\"ticks\":\"\",\"title\":{\"standoff\":15},\"zerolinecolor\":\"white\",\"automargin\":true,\"zerolinewidth\":2},\"yaxis\":{\"gridcolor\":\"white\",\"linecolor\":\"white\",\"ticks\":\"\",\"title\":{\"standoff\":15},\"zerolinecolor\":\"white\",\"automargin\":true,\"zerolinewidth\":2},\"scene\":{\"xaxis\":{\"backgroundcolor\":\"#E5ECF6\",\"gridcolor\":\"white\",\"linecolor\":\"white\",\"showbackground\":true,\"ticks\":\"\",\"zerolinecolor\":\"white\",\"gridwidth\":2},\"yaxis\":{\"backgroundcolor\":\"#E5ECF6\",\"gridcolor\":\"white\",\"linecolor\":\"white\",\"showbackground\":true,\"ticks\":\"\",\"zerolinecolor\":\"white\",\"gridwidth\":2},\"zaxis\":{\"backgroundcolor\":\"#E5ECF6\",\"gridcolor\":\"white\",\"linecolor\":\"white\",\"showbackground\":true,\"ticks\":\"\",\"zerolinecolor\":\"white\",\"gridwidth\":2}},\"shapedefaults\":{\"line\":{\"color\":\"#2a3f5f\"}},\"annotationdefaults\":{\"arrowcolor\":\"#2a3f5f\",\"arrowhead\":0,\"arrowwidth\":1},\"geo\":{\"bgcolor\":\"white\",\"landcolor\":\"#E5ECF6\",\"subunitcolor\":\"white\",\"showland\":true,\"showlakes\":true,\"lakecolor\":\"white\"},\"title\":{\"x\":0.05},\"mapbox\":{\"style\":\"light\"}}},\"title\":{\"text\":\"Daily Sentiment Trends and Tweet Activity for PCOS-related posts (August)\"},\"xaxis\":{\"title\":{\"text\":\"Day\"}},\"yaxis\":{\"title\":{\"text\":\"Number of Tweets\"}},\"barmode\":\"stack\",\"legend\":{\"title\":{\"text\":\"Sentiment\"}},\"hovermode\":\"x unified\"},                        {\"responsive\": true}                    ).then(function(){\n",
       "                            \n",
       "var gd = document.getElementById('bee6db1a-320d-4b02-840d-bada9826c503');\n",
       "var x = new MutationObserver(function (mutations, observer) {{\n",
       "        var display = window.getComputedStyle(gd).display;\n",
       "        if (!display || display === 'none') {{\n",
       "            console.log([gd, 'removed!']);\n",
       "            Plotly.purge(gd);\n",
       "            observer.disconnect();\n",
       "        }}\n",
       "}});\n",
       "\n",
       "// Listen for the removal of the full notebook cells\n",
       "var notebookContainer = gd.closest('#notebook-container');\n",
       "if (notebookContainer) {{\n",
       "    x.observe(notebookContainer, {childList: true});\n",
       "}}\n",
       "\n",
       "// Listen for the clearing of the current output cell\n",
       "var outputEl = gd.closest('.output');\n",
       "if (outputEl) {{\n",
       "    x.observe(outputEl, {childList: true});\n",
       "}}\n",
       "\n",
       "                        })                };                });            </script>        </div>"
      ]
     },
     "metadata": {},
     "output_type": "display_data"
    },
    {
     "data": {
      "application/vnd.plotly.v1+json": {
       "config": {
        "plotlyServerURL": "https://plot.ly"
       },
       "data": [
        {
         "hoverinfo": "text",
         "marker": {
          "color": "lightcoral"
         },
         "name": "Negative",
         "text": [
          "Negative: 54",
          "Negative: 30",
          "Negative: 43",
          "Negative: 29",
          "Negative: 7",
          "Negative: 9",
          "Negative: 6",
          "Negative: 3",
          "Negative: 14",
          "Negative: 19",
          "Negative: 21",
          "Negative: 8",
          "Negative: 12",
          "Negative: 2",
          "Negative: 3",
          "Negative: 10",
          "Negative: 15",
          "Negative: 37",
          "Negative: 11",
          "Negative: 27",
          "Negative: 15",
          "Negative: 9",
          "Negative: 7",
          "Negative: 9",
          "Negative: 12",
          "Negative: 13",
          "Negative: 9",
          "Negative: 11",
          "Negative: 6",
          "Negative: 15"
         ],
         "textposition": "none",
         "type": "bar",
         "x": [
          "2024-09-01",
          "2024-09-02",
          "2024-09-03",
          "2024-09-04",
          "2024-09-05",
          "2024-09-06",
          "2024-09-07",
          "2024-09-08",
          "2024-09-09",
          "2024-09-10",
          "2024-09-11",
          "2024-09-12",
          "2024-09-13",
          "2024-09-14",
          "2024-09-15",
          "2024-09-16",
          "2024-09-17",
          "2024-09-18",
          "2024-09-19",
          "2024-09-20",
          "2024-09-21",
          "2024-09-22",
          "2024-09-23",
          "2024-09-24",
          "2024-09-25",
          "2024-09-26",
          "2024-09-27",
          "2024-09-28",
          "2024-09-29",
          "2024-09-30"
         ],
         "y": [
          54,
          30,
          43,
          29,
          7,
          9,
          6,
          3,
          14,
          19,
          21,
          8,
          12,
          2,
          3,
          10,
          15,
          37,
          11,
          27,
          15,
          9,
          7,
          9,
          12,
          13,
          9,
          11,
          6,
          15
         ]
        },
        {
         "hoverinfo": "text",
         "marker": {
          "color": "lightblue"
         },
         "name": "Neutral",
         "text": [
          "Neutral: 58",
          "Neutral: 32",
          "Neutral: 41",
          "Neutral: 24",
          "Neutral: 26",
          "Neutral: 17",
          "Neutral: 6",
          "Neutral: 10",
          "Neutral: 16",
          "Neutral: 15",
          "Neutral: 18",
          "Neutral: 29",
          "Neutral: 17",
          "Neutral: 11",
          "Neutral: 8",
          "Neutral: 24",
          "Neutral: 21",
          "Neutral: 32",
          "Neutral: 21",
          "Neutral: 24",
          "Neutral: 12",
          "Neutral: 8",
          "Neutral: 25",
          "Neutral: 26",
          "Neutral: 16",
          "Neutral: 9",
          "Neutral: 13",
          "Neutral: 8",
          "Neutral: 16",
          "Neutral: 32"
         ],
         "textposition": "none",
         "type": "bar",
         "x": [
          "2024-09-01",
          "2024-09-02",
          "2024-09-03",
          "2024-09-04",
          "2024-09-05",
          "2024-09-06",
          "2024-09-07",
          "2024-09-08",
          "2024-09-09",
          "2024-09-10",
          "2024-09-11",
          "2024-09-12",
          "2024-09-13",
          "2024-09-14",
          "2024-09-15",
          "2024-09-16",
          "2024-09-17",
          "2024-09-18",
          "2024-09-19",
          "2024-09-20",
          "2024-09-21",
          "2024-09-22",
          "2024-09-23",
          "2024-09-24",
          "2024-09-25",
          "2024-09-26",
          "2024-09-27",
          "2024-09-28",
          "2024-09-29",
          "2024-09-30"
         ],
         "y": [
          58,
          32,
          41,
          24,
          26,
          17,
          6,
          10,
          16,
          15,
          18,
          29,
          17,
          11,
          8,
          24,
          21,
          32,
          21,
          24,
          12,
          8,
          25,
          26,
          16,
          9,
          13,
          8,
          16,
          32
         ]
        },
        {
         "hoverinfo": "text",
         "marker": {
          "color": "lightgreen"
         },
         "name": "Positive",
         "text": [
          "Positive: 105",
          "Positive: 165",
          "Positive: 147",
          "Positive: 69",
          "Positive: 49",
          "Positive: 70",
          "Positive: 32",
          "Positive: 28",
          "Positive: 100",
          "Positive: 78",
          "Positive: 71",
          "Positive: 63",
          "Positive: 76",
          "Positive: 115",
          "Positive: 56",
          "Positive: 77",
          "Positive: 75",
          "Positive: 90",
          "Positive: 122",
          "Positive: 57",
          "Positive: 29",
          "Positive: 26",
          "Positive: 74",
          "Positive: 67",
          "Positive: 68",
          "Positive: 54",
          "Positive: 77",
          "Positive: 14",
          "Positive: 27",
          "Positive: 51"
         ],
         "textposition": "none",
         "type": "bar",
         "x": [
          "2024-09-01",
          "2024-09-02",
          "2024-09-03",
          "2024-09-04",
          "2024-09-05",
          "2024-09-06",
          "2024-09-07",
          "2024-09-08",
          "2024-09-09",
          "2024-09-10",
          "2024-09-11",
          "2024-09-12",
          "2024-09-13",
          "2024-09-14",
          "2024-09-15",
          "2024-09-16",
          "2024-09-17",
          "2024-09-18",
          "2024-09-19",
          "2024-09-20",
          "2024-09-21",
          "2024-09-22",
          "2024-09-23",
          "2024-09-24",
          "2024-09-25",
          "2024-09-26",
          "2024-09-27",
          "2024-09-28",
          "2024-09-29",
          "2024-09-30"
         ],
         "y": [
          105,
          165,
          147,
          69,
          49,
          70,
          32,
          28,
          100,
          78,
          71,
          63,
          76,
          115,
          56,
          77,
          75,
          90,
          122,
          57,
          29,
          26,
          74,
          67,
          68,
          54,
          77,
          14,
          27,
          51
         ]
        },
        {
         "hoverinfo": "text",
         "line": {
          "color": "black",
          "width": 2
         },
         "mode": "lines+markers",
         "name": "Total Tweets",
         "text": [
          "Top 5 hashtags:<br>#WorldPCOSDay<br>#PCOSAwarenessMonth<br>#PCOSAwareness<br>#WomensHealth<br>#pcosawarenessmonth",
          "Top 5 hashtags:<br>#PCOSAwarenessMonth<br>#WorldPCOSDay<br>#PCOSAwareness<br>#pcosawareness<br>#PCOSAwarenessMonth2024",
          "Top 5 hashtags:<br>#PCOSAwarenessMonth<br>#PCOSAwareness<br>#WorldPCOSDay<br>#PMS<br>#menstruation",
          "Top 5 hashtags:<br>#PCOSAwarenessMonth<br>#PCOSAwareness<br>#WomensHealth<br>#pcosawarenessmonth<br>#WorldPCOSDay",
          "Top 5 hashtags:<br>#PCOSAwarenessMonth<br>#DIYpcosremedies<br>#herbalremediesforpolycysticovarysyndrome<br>#polycysticovarysyndrome<br>#naturalpcostreatments",
          "Top 5 hashtags:<br>#PCOSAwarenessMonth<br>#ConfidenceBeyondPCOS2024<br>#HelloPerfect<br>#pcosawarenessmonth<br>#PCOSAwareness",
          "Top 5 hashtags:<br>#PCOSAwareness<br>#PCOSAwarenessMonth<br>#PCOSSupport<br>#pcosawarenessmonth<br>#hygeiahmo",
          "Top 5 hashtags:<br>#PCOSAwarenessMonth<br>#WomensHealth<br>#PCOSAwareness<br>#infertility<br>#ivfjourney",
          "Top 5 hashtags:<br>#PCOSAwareness<br>#PCOSAwarenessMonth<br>#PCOSWARRIOR<br>#pcosawareness<br>#fertility",
          "Top 5 hashtags:<br>#PCOSAwareness<br>#PCOSAwarenessMonth<br>#pcosawareness<br>#pcosawarenessmonth<br>#WomensHealth",
          "Top 5 hashtags:<br>#pcosawareness<br>#PCOSAwarenessMonth<br>#medicaleducation<br>#PCOSawarenessmonth<br>#PCOSAwareness",
          "Top 5 hashtags:<br>#PCOSAwarenessMonth<br>#pcosawarenessmonth<br>#PCOSAwareness<br>#PolycysticOvarySyndrome<br>#pcosawareness",
          "Top 5 hashtags:<br>#PCOSAwarenessMonth<br>#PCOSAwareness<br>#pcosawareness<br>#pcosawarenessmonth<br>#fertility",
          "Top 5 hashtags:<br>#HelloPerfect<br>#Confidencebeyondpcos2024<br>#ConfidenceBeyondPCOS2024<br>#SirenCo<br>#PCOSAwarenessMonth",
          "Top 5 hashtags:<br>#PCOSAwareness<br>#PCOSAwarenessMonth<br>#HelloPerfect<br>#fertility<br>#WeightLoss",
          "Top 5 hashtags:<br>#PCOSAwareness<br>#pcosdiet<br>#pcosawarenessmonth<br>#PCOSAwarenessMonth<br>#pcosawareness",
          "Top 5 hashtags:<br>#PCOSAwarenessMonth<br>#pcosawareness<br>#PCOSAwareness<br>#fertility<br>#pcosawarenessmonth",
          "Top 5 hashtags:<br>#PCOSAwareness<br>#PCOSAwarenessMonth<br>#pcosawareness<br>#PCOSAdvocate<br>#pcosawarenessmonth",
          "Top 5 hashtags:<br>#pcosawarenessmonth<br>#PCOSAwareness<br>#PCOSAwarenessMonth<br>#pcosawareness<br>#WomensHealth",
          "Top 5 hashtags:<br>#PCOSAwareness<br>#pcosawarenessmonth<br>#PCOSWarrior<br>#pcosawareness<br>#PCOSAwarenessMonth",
          "Top 5 hashtags:<br>#PCOSAwarenessMonth<br>#PCOSAwareness<br>#PIBU<br>#infertility<br>#PCOSWarrior",
          "Top 5 hashtags:<br>#PCOSAwarenessMonth<br>#PCOSAwareness<br>#WomensHealth<br>#fertility<br>#CoMICsLite",
          "Top 5 hashtags:<br>#PCOSAwareness<br>#PCOSAwarenessMonth<br>#WomensHealth<br>#fertilityjourney<br>#PCOSAwarenessWeek",
          "Top 5 hashtags:<br>#WomensHealth<br>#PCOSAwareness<br>#Pregnancy<br>#Menopause<br>#Migraines",
          "Top 5 hashtags:<br>#PCOSAwarenessMonth<br>#pcosawareness<br>#WomensHealth<br>#PCOSAwareness<br>#Endometriosis",
          "Top 5 hashtags:<br>#PCOSAwareness<br>#FertilityCare<br>#pcosawareness<br>#PCOSAwarenessMonth<br>#NeogenesisFertilityCenter",
          "Top 5 hashtags:<br>#PCOSAwarenessMonth<br>#SIMBA<br>#pcossupport<br>#pcosawareness<br>#PCOSAwareness",
          "Top 5 hashtags:<br>#PCOSAwarenessMonth<br>#pcosawareness<br>#infertility<br>#PCOSAwareness<br>#Philippines",
          "Top 5 hashtags:<br>#PCOSAwarenessMonth<br>#CaocherryTampons<br>#PCOSAwareness<br>#Supplements<br>#Dietary",
          "Top 5 hashtags:<br>#PCOSAwareness<br>#infertility<br>#insulinresistance<br>#pcosdiet<br>#pcosweightloss"
         ],
         "type": "scatter",
         "x": [
          "2024-09-01",
          "2024-09-02",
          "2024-09-03",
          "2024-09-04",
          "2024-09-05",
          "2024-09-06",
          "2024-09-07",
          "2024-09-08",
          "2024-09-09",
          "2024-09-10",
          "2024-09-11",
          "2024-09-12",
          "2024-09-13",
          "2024-09-14",
          "2024-09-15",
          "2024-09-16",
          "2024-09-17",
          "2024-09-18",
          "2024-09-19",
          "2024-09-20",
          "2024-09-21",
          "2024-09-22",
          "2024-09-23",
          "2024-09-24",
          "2024-09-25",
          "2024-09-26",
          "2024-09-27",
          "2024-09-28",
          "2024-09-29",
          "2024-09-30"
         ],
         "y": [
          217,
          227,
          231,
          122,
          82,
          96,
          44,
          41,
          130,
          112,
          110,
          100,
          105,
          128,
          67,
          111,
          111,
          159,
          154,
          108,
          56,
          43,
          106,
          102,
          96,
          76,
          99,
          33,
          49,
          98
         ]
        }
       ],
       "layout": {
        "autosize": true,
        "barmode": "stack",
        "hovermode": "x unified",
        "legend": {
         "title": {
          "text": "Sentiment"
         }
        },
        "template": {
         "data": {
          "bar": [
           {
            "error_x": {
             "color": "#2a3f5f"
            },
            "error_y": {
             "color": "#2a3f5f"
            },
            "marker": {
             "line": {
              "color": "#E5ECF6",
              "width": 0.5
             },
             "pattern": {
              "fillmode": "overlay",
              "size": 10,
              "solidity": 0.2
             }
            },
            "type": "bar"
           }
          ],
          "barpolar": [
           {
            "marker": {
             "line": {
              "color": "#E5ECF6",
              "width": 0.5
             },
             "pattern": {
              "fillmode": "overlay",
              "size": 10,
              "solidity": 0.2
             }
            },
            "type": "barpolar"
           }
          ],
          "carpet": [
           {
            "aaxis": {
             "endlinecolor": "#2a3f5f",
             "gridcolor": "white",
             "linecolor": "white",
             "minorgridcolor": "white",
             "startlinecolor": "#2a3f5f"
            },
            "baxis": {
             "endlinecolor": "#2a3f5f",
             "gridcolor": "white",
             "linecolor": "white",
             "minorgridcolor": "white",
             "startlinecolor": "#2a3f5f"
            },
            "type": "carpet"
           }
          ],
          "choropleth": [
           {
            "colorbar": {
             "outlinewidth": 0,
             "ticks": ""
            },
            "type": "choropleth"
           }
          ],
          "contour": [
           {
            "colorbar": {
             "outlinewidth": 0,
             "ticks": ""
            },
            "colorscale": [
             [
              0,
              "#0d0887"
             ],
             [
              0.1111111111111111,
              "#46039f"
             ],
             [
              0.2222222222222222,
              "#7201a8"
             ],
             [
              0.3333333333333333,
              "#9c179e"
             ],
             [
              0.4444444444444444,
              "#bd3786"
             ],
             [
              0.5555555555555556,
              "#d8576b"
             ],
             [
              0.6666666666666666,
              "#ed7953"
             ],
             [
              0.7777777777777778,
              "#fb9f3a"
             ],
             [
              0.8888888888888888,
              "#fdca26"
             ],
             [
              1,
              "#f0f921"
             ]
            ],
            "type": "contour"
           }
          ],
          "contourcarpet": [
           {
            "colorbar": {
             "outlinewidth": 0,
             "ticks": ""
            },
            "type": "contourcarpet"
           }
          ],
          "heatmap": [
           {
            "colorbar": {
             "outlinewidth": 0,
             "ticks": ""
            },
            "colorscale": [
             [
              0,
              "#0d0887"
             ],
             [
              0.1111111111111111,
              "#46039f"
             ],
             [
              0.2222222222222222,
              "#7201a8"
             ],
             [
              0.3333333333333333,
              "#9c179e"
             ],
             [
              0.4444444444444444,
              "#bd3786"
             ],
             [
              0.5555555555555556,
              "#d8576b"
             ],
             [
              0.6666666666666666,
              "#ed7953"
             ],
             [
              0.7777777777777778,
              "#fb9f3a"
             ],
             [
              0.8888888888888888,
              "#fdca26"
             ],
             [
              1,
              "#f0f921"
             ]
            ],
            "type": "heatmap"
           }
          ],
          "heatmapgl": [
           {
            "colorbar": {
             "outlinewidth": 0,
             "ticks": ""
            },
            "colorscale": [
             [
              0,
              "#0d0887"
             ],
             [
              0.1111111111111111,
              "#46039f"
             ],
             [
              0.2222222222222222,
              "#7201a8"
             ],
             [
              0.3333333333333333,
              "#9c179e"
             ],
             [
              0.4444444444444444,
              "#bd3786"
             ],
             [
              0.5555555555555556,
              "#d8576b"
             ],
             [
              0.6666666666666666,
              "#ed7953"
             ],
             [
              0.7777777777777778,
              "#fb9f3a"
             ],
             [
              0.8888888888888888,
              "#fdca26"
             ],
             [
              1,
              "#f0f921"
             ]
            ],
            "type": "heatmapgl"
           }
          ],
          "histogram": [
           {
            "marker": {
             "pattern": {
              "fillmode": "overlay",
              "size": 10,
              "solidity": 0.2
             }
            },
            "type": "histogram"
           }
          ],
          "histogram2d": [
           {
            "colorbar": {
             "outlinewidth": 0,
             "ticks": ""
            },
            "colorscale": [
             [
              0,
              "#0d0887"
             ],
             [
              0.1111111111111111,
              "#46039f"
             ],
             [
              0.2222222222222222,
              "#7201a8"
             ],
             [
              0.3333333333333333,
              "#9c179e"
             ],
             [
              0.4444444444444444,
              "#bd3786"
             ],
             [
              0.5555555555555556,
              "#d8576b"
             ],
             [
              0.6666666666666666,
              "#ed7953"
             ],
             [
              0.7777777777777778,
              "#fb9f3a"
             ],
             [
              0.8888888888888888,
              "#fdca26"
             ],
             [
              1,
              "#f0f921"
             ]
            ],
            "type": "histogram2d"
           }
          ],
          "histogram2dcontour": [
           {
            "colorbar": {
             "outlinewidth": 0,
             "ticks": ""
            },
            "colorscale": [
             [
              0,
              "#0d0887"
             ],
             [
              0.1111111111111111,
              "#46039f"
             ],
             [
              0.2222222222222222,
              "#7201a8"
             ],
             [
              0.3333333333333333,
              "#9c179e"
             ],
             [
              0.4444444444444444,
              "#bd3786"
             ],
             [
              0.5555555555555556,
              "#d8576b"
             ],
             [
              0.6666666666666666,
              "#ed7953"
             ],
             [
              0.7777777777777778,
              "#fb9f3a"
             ],
             [
              0.8888888888888888,
              "#fdca26"
             ],
             [
              1,
              "#f0f921"
             ]
            ],
            "type": "histogram2dcontour"
           }
          ],
          "mesh3d": [
           {
            "colorbar": {
             "outlinewidth": 0,
             "ticks": ""
            },
            "type": "mesh3d"
           }
          ],
          "parcoords": [
           {
            "line": {
             "colorbar": {
              "outlinewidth": 0,
              "ticks": ""
             }
            },
            "type": "parcoords"
           }
          ],
          "pie": [
           {
            "automargin": true,
            "type": "pie"
           }
          ],
          "scatter": [
           {
            "fillpattern": {
             "fillmode": "overlay",
             "size": 10,
             "solidity": 0.2
            },
            "type": "scatter"
           }
          ],
          "scatter3d": [
           {
            "line": {
             "colorbar": {
              "outlinewidth": 0,
              "ticks": ""
             }
            },
            "marker": {
             "colorbar": {
              "outlinewidth": 0,
              "ticks": ""
             }
            },
            "type": "scatter3d"
           }
          ],
          "scattercarpet": [
           {
            "marker": {
             "colorbar": {
              "outlinewidth": 0,
              "ticks": ""
             }
            },
            "type": "scattercarpet"
           }
          ],
          "scattergeo": [
           {
            "marker": {
             "colorbar": {
              "outlinewidth": 0,
              "ticks": ""
             }
            },
            "type": "scattergeo"
           }
          ],
          "scattergl": [
           {
            "marker": {
             "colorbar": {
              "outlinewidth": 0,
              "ticks": ""
             }
            },
            "type": "scattergl"
           }
          ],
          "scattermapbox": [
           {
            "marker": {
             "colorbar": {
              "outlinewidth": 0,
              "ticks": ""
             }
            },
            "type": "scattermapbox"
           }
          ],
          "scatterpolar": [
           {
            "marker": {
             "colorbar": {
              "outlinewidth": 0,
              "ticks": ""
             }
            },
            "type": "scatterpolar"
           }
          ],
          "scatterpolargl": [
           {
            "marker": {
             "colorbar": {
              "outlinewidth": 0,
              "ticks": ""
             }
            },
            "type": "scatterpolargl"
           }
          ],
          "scatterternary": [
           {
            "marker": {
             "colorbar": {
              "outlinewidth": 0,
              "ticks": ""
             }
            },
            "type": "scatterternary"
           }
          ],
          "surface": [
           {
            "colorbar": {
             "outlinewidth": 0,
             "ticks": ""
            },
            "colorscale": [
             [
              0,
              "#0d0887"
             ],
             [
              0.1111111111111111,
              "#46039f"
             ],
             [
              0.2222222222222222,
              "#7201a8"
             ],
             [
              0.3333333333333333,
              "#9c179e"
             ],
             [
              0.4444444444444444,
              "#bd3786"
             ],
             [
              0.5555555555555556,
              "#d8576b"
             ],
             [
              0.6666666666666666,
              "#ed7953"
             ],
             [
              0.7777777777777778,
              "#fb9f3a"
             ],
             [
              0.8888888888888888,
              "#fdca26"
             ],
             [
              1,
              "#f0f921"
             ]
            ],
            "type": "surface"
           }
          ],
          "table": [
           {
            "cells": {
             "fill": {
              "color": "#EBF0F8"
             },
             "line": {
              "color": "white"
             }
            },
            "header": {
             "fill": {
              "color": "#C8D4E3"
             },
             "line": {
              "color": "white"
             }
            },
            "type": "table"
           }
          ]
         },
         "layout": {
          "annotationdefaults": {
           "arrowcolor": "#2a3f5f",
           "arrowhead": 0,
           "arrowwidth": 1
          },
          "autotypenumbers": "strict",
          "coloraxis": {
           "colorbar": {
            "outlinewidth": 0,
            "ticks": ""
           }
          },
          "colorscale": {
           "diverging": [
            [
             0,
             "#8e0152"
            ],
            [
             0.1,
             "#c51b7d"
            ],
            [
             0.2,
             "#de77ae"
            ],
            [
             0.3,
             "#f1b6da"
            ],
            [
             0.4,
             "#fde0ef"
            ],
            [
             0.5,
             "#f7f7f7"
            ],
            [
             0.6,
             "#e6f5d0"
            ],
            [
             0.7,
             "#b8e186"
            ],
            [
             0.8,
             "#7fbc41"
            ],
            [
             0.9,
             "#4d9221"
            ],
            [
             1,
             "#276419"
            ]
           ],
           "sequential": [
            [
             0,
             "#0d0887"
            ],
            [
             0.1111111111111111,
             "#46039f"
            ],
            [
             0.2222222222222222,
             "#7201a8"
            ],
            [
             0.3333333333333333,
             "#9c179e"
            ],
            [
             0.4444444444444444,
             "#bd3786"
            ],
            [
             0.5555555555555556,
             "#d8576b"
            ],
            [
             0.6666666666666666,
             "#ed7953"
            ],
            [
             0.7777777777777778,
             "#fb9f3a"
            ],
            [
             0.8888888888888888,
             "#fdca26"
            ],
            [
             1,
             "#f0f921"
            ]
           ],
           "sequentialminus": [
            [
             0,
             "#0d0887"
            ],
            [
             0.1111111111111111,
             "#46039f"
            ],
            [
             0.2222222222222222,
             "#7201a8"
            ],
            [
             0.3333333333333333,
             "#9c179e"
            ],
            [
             0.4444444444444444,
             "#bd3786"
            ],
            [
             0.5555555555555556,
             "#d8576b"
            ],
            [
             0.6666666666666666,
             "#ed7953"
            ],
            [
             0.7777777777777778,
             "#fb9f3a"
            ],
            [
             0.8888888888888888,
             "#fdca26"
            ],
            [
             1,
             "#f0f921"
            ]
           ]
          },
          "colorway": [
           "#636efa",
           "#EF553B",
           "#00cc96",
           "#ab63fa",
           "#FFA15A",
           "#19d3f3",
           "#FF6692",
           "#B6E880",
           "#FF97FF",
           "#FECB52"
          ],
          "font": {
           "color": "#2a3f5f"
          },
          "geo": {
           "bgcolor": "white",
           "lakecolor": "white",
           "landcolor": "#E5ECF6",
           "showlakes": true,
           "showland": true,
           "subunitcolor": "white"
          },
          "hoverlabel": {
           "align": "left"
          },
          "hovermode": "closest",
          "mapbox": {
           "style": "light"
          },
          "paper_bgcolor": "white",
          "plot_bgcolor": "#E5ECF6",
          "polar": {
           "angularaxis": {
            "gridcolor": "white",
            "linecolor": "white",
            "ticks": ""
           },
           "bgcolor": "#E5ECF6",
           "radialaxis": {
            "gridcolor": "white",
            "linecolor": "white",
            "ticks": ""
           }
          },
          "scene": {
           "xaxis": {
            "backgroundcolor": "#E5ECF6",
            "gridcolor": "white",
            "gridwidth": 2,
            "linecolor": "white",
            "showbackground": true,
            "ticks": "",
            "zerolinecolor": "white"
           },
           "yaxis": {
            "backgroundcolor": "#E5ECF6",
            "gridcolor": "white",
            "gridwidth": 2,
            "linecolor": "white",
            "showbackground": true,
            "ticks": "",
            "zerolinecolor": "white"
           },
           "zaxis": {
            "backgroundcolor": "#E5ECF6",
            "gridcolor": "white",
            "gridwidth": 2,
            "linecolor": "white",
            "showbackground": true,
            "ticks": "",
            "zerolinecolor": "white"
           }
          },
          "shapedefaults": {
           "line": {
            "color": "#2a3f5f"
           }
          },
          "ternary": {
           "aaxis": {
            "gridcolor": "white",
            "linecolor": "white",
            "ticks": ""
           },
           "baxis": {
            "gridcolor": "white",
            "linecolor": "white",
            "ticks": ""
           },
           "bgcolor": "#E5ECF6",
           "caxis": {
            "gridcolor": "white",
            "linecolor": "white",
            "ticks": ""
           }
          },
          "title": {
           "x": 0.05
          },
          "xaxis": {
           "automargin": true,
           "gridcolor": "white",
           "linecolor": "white",
           "ticks": "",
           "title": {
            "standoff": 15
           },
           "zerolinecolor": "white",
           "zerolinewidth": 2
          },
          "yaxis": {
           "automargin": true,
           "gridcolor": "white",
           "linecolor": "white",
           "ticks": "",
           "title": {
            "standoff": 15
           },
           "zerolinecolor": "white",
           "zerolinewidth": 2
          }
         }
        },
        "title": {
         "text": "Daily Sentiment Trends and Tweet Activity for PCOS-related posts (September)"
        },
        "xaxis": {
         "autorange": true,
         "range": [
          "2024-08-30 02:25:42.8571",
          "2024-10-01 21:34:17.1429"
         ],
         "title": {
          "text": "Day"
         },
         "type": "date"
        },
        "yaxis": {
         "autorange": true,
         "range": [
          0,
          248.60986547085201
         ],
         "title": {
          "text": "Number of Tweets"
         },
         "type": "linear"
        }
       }
      },
      "text/html": [
       "<div>                            <div id=\"4b519d6e-cfba-40f3-95e9-06fa137705e3\" class=\"plotly-graph-div\" style=\"height:525px; width:100%;\"></div>            <script type=\"text/javascript\">                require([\"plotly\"], function(Plotly) {                    window.PLOTLYENV=window.PLOTLYENV || {};                                    if (document.getElementById(\"4b519d6e-cfba-40f3-95e9-06fa137705e3\")) {                    Plotly.newPlot(                        \"4b519d6e-cfba-40f3-95e9-06fa137705e3\",                        [{\"hoverinfo\":\"text\",\"marker\":{\"color\":\"lightcoral\"},\"name\":\"Negative\",\"text\":[\"Negative: 54\",\"Negative: 30\",\"Negative: 43\",\"Negative: 29\",\"Negative: 7\",\"Negative: 9\",\"Negative: 6\",\"Negative: 3\",\"Negative: 14\",\"Negative: 19\",\"Negative: 21\",\"Negative: 8\",\"Negative: 12\",\"Negative: 2\",\"Negative: 3\",\"Negative: 10\",\"Negative: 15\",\"Negative: 37\",\"Negative: 11\",\"Negative: 27\",\"Negative: 15\",\"Negative: 9\",\"Negative: 7\",\"Negative: 9\",\"Negative: 12\",\"Negative: 13\",\"Negative: 9\",\"Negative: 11\",\"Negative: 6\",\"Negative: 15\"],\"textposition\":\"none\",\"x\":[\"2024-09-01\",\"2024-09-02\",\"2024-09-03\",\"2024-09-04\",\"2024-09-05\",\"2024-09-06\",\"2024-09-07\",\"2024-09-08\",\"2024-09-09\",\"2024-09-10\",\"2024-09-11\",\"2024-09-12\",\"2024-09-13\",\"2024-09-14\",\"2024-09-15\",\"2024-09-16\",\"2024-09-17\",\"2024-09-18\",\"2024-09-19\",\"2024-09-20\",\"2024-09-21\",\"2024-09-22\",\"2024-09-23\",\"2024-09-24\",\"2024-09-25\",\"2024-09-26\",\"2024-09-27\",\"2024-09-28\",\"2024-09-29\",\"2024-09-30\"],\"y\":[54,30,43,29,7,9,6,3,14,19,21,8,12,2,3,10,15,37,11,27,15,9,7,9,12,13,9,11,6,15],\"type\":\"bar\"},{\"hoverinfo\":\"text\",\"marker\":{\"color\":\"lightblue\"},\"name\":\"Neutral\",\"text\":[\"Neutral: 58\",\"Neutral: 32\",\"Neutral: 41\",\"Neutral: 24\",\"Neutral: 26\",\"Neutral: 17\",\"Neutral: 6\",\"Neutral: 10\",\"Neutral: 16\",\"Neutral: 15\",\"Neutral: 18\",\"Neutral: 29\",\"Neutral: 17\",\"Neutral: 11\",\"Neutral: 8\",\"Neutral: 24\",\"Neutral: 21\",\"Neutral: 32\",\"Neutral: 21\",\"Neutral: 24\",\"Neutral: 12\",\"Neutral: 8\",\"Neutral: 25\",\"Neutral: 26\",\"Neutral: 16\",\"Neutral: 9\",\"Neutral: 13\",\"Neutral: 8\",\"Neutral: 16\",\"Neutral: 32\"],\"textposition\":\"none\",\"x\":[\"2024-09-01\",\"2024-09-02\",\"2024-09-03\",\"2024-09-04\",\"2024-09-05\",\"2024-09-06\",\"2024-09-07\",\"2024-09-08\",\"2024-09-09\",\"2024-09-10\",\"2024-09-11\",\"2024-09-12\",\"2024-09-13\",\"2024-09-14\",\"2024-09-15\",\"2024-09-16\",\"2024-09-17\",\"2024-09-18\",\"2024-09-19\",\"2024-09-20\",\"2024-09-21\",\"2024-09-22\",\"2024-09-23\",\"2024-09-24\",\"2024-09-25\",\"2024-09-26\",\"2024-09-27\",\"2024-09-28\",\"2024-09-29\",\"2024-09-30\"],\"y\":[58,32,41,24,26,17,6,10,16,15,18,29,17,11,8,24,21,32,21,24,12,8,25,26,16,9,13,8,16,32],\"type\":\"bar\"},{\"hoverinfo\":\"text\",\"marker\":{\"color\":\"lightgreen\"},\"name\":\"Positive\",\"text\":[\"Positive: 105\",\"Positive: 165\",\"Positive: 147\",\"Positive: 69\",\"Positive: 49\",\"Positive: 70\",\"Positive: 32\",\"Positive: 28\",\"Positive: 100\",\"Positive: 78\",\"Positive: 71\",\"Positive: 63\",\"Positive: 76\",\"Positive: 115\",\"Positive: 56\",\"Positive: 77\",\"Positive: 75\",\"Positive: 90\",\"Positive: 122\",\"Positive: 57\",\"Positive: 29\",\"Positive: 26\",\"Positive: 74\",\"Positive: 67\",\"Positive: 68\",\"Positive: 54\",\"Positive: 77\",\"Positive: 14\",\"Positive: 27\",\"Positive: 51\"],\"textposition\":\"none\",\"x\":[\"2024-09-01\",\"2024-09-02\",\"2024-09-03\",\"2024-09-04\",\"2024-09-05\",\"2024-09-06\",\"2024-09-07\",\"2024-09-08\",\"2024-09-09\",\"2024-09-10\",\"2024-09-11\",\"2024-09-12\",\"2024-09-13\",\"2024-09-14\",\"2024-09-15\",\"2024-09-16\",\"2024-09-17\",\"2024-09-18\",\"2024-09-19\",\"2024-09-20\",\"2024-09-21\",\"2024-09-22\",\"2024-09-23\",\"2024-09-24\",\"2024-09-25\",\"2024-09-26\",\"2024-09-27\",\"2024-09-28\",\"2024-09-29\",\"2024-09-30\"],\"y\":[105,165,147,69,49,70,32,28,100,78,71,63,76,115,56,77,75,90,122,57,29,26,74,67,68,54,77,14,27,51],\"type\":\"bar\"},{\"hoverinfo\":\"text\",\"line\":{\"color\":\"black\",\"width\":2},\"mode\":\"lines+markers\",\"name\":\"Total Tweets\",\"text\":[\"Top 5 hashtags:\\u003cbr\\u003e#WorldPCOSDay\\u003cbr\\u003e#PCOSAwarenessMonth\\u003cbr\\u003e#PCOSAwareness\\u003cbr\\u003e#WomensHealth\\u003cbr\\u003e#pcosawarenessmonth\",\"Top 5 hashtags:\\u003cbr\\u003e#PCOSAwarenessMonth\\u003cbr\\u003e#WorldPCOSDay\\u003cbr\\u003e#PCOSAwareness\\u003cbr\\u003e#pcosawareness\\u003cbr\\u003e#PCOSAwarenessMonth2024\",\"Top 5 hashtags:\\u003cbr\\u003e#PCOSAwarenessMonth\\u003cbr\\u003e#PCOSAwareness\\u003cbr\\u003e#WorldPCOSDay\\u003cbr\\u003e#PMS\\u003cbr\\u003e#menstruation\",\"Top 5 hashtags:\\u003cbr\\u003e#PCOSAwarenessMonth\\u003cbr\\u003e#PCOSAwareness\\u003cbr\\u003e#WomensHealth\\u003cbr\\u003e#pcosawarenessmonth\\u003cbr\\u003e#WorldPCOSDay\",\"Top 5 hashtags:\\u003cbr\\u003e#PCOSAwarenessMonth\\u003cbr\\u003e#DIYpcosremedies\\u003cbr\\u003e#herbalremediesforpolycysticovarysyndrome\\u003cbr\\u003e#polycysticovarysyndrome\\u003cbr\\u003e#naturalpcostreatments\",\"Top 5 hashtags:\\u003cbr\\u003e#PCOSAwarenessMonth\\u003cbr\\u003e#ConfidenceBeyondPCOS2024\\u003cbr\\u003e#HelloPerfect\\u003cbr\\u003e#pcosawarenessmonth\\u003cbr\\u003e#PCOSAwareness\",\"Top 5 hashtags:\\u003cbr\\u003e#PCOSAwareness\\u003cbr\\u003e#PCOSAwarenessMonth\\u003cbr\\u003e#PCOSSupport\\u003cbr\\u003e#pcosawarenessmonth\\u003cbr\\u003e#hygeiahmo\",\"Top 5 hashtags:\\u003cbr\\u003e#PCOSAwarenessMonth\\u003cbr\\u003e#WomensHealth\\u003cbr\\u003e#PCOSAwareness\\u003cbr\\u003e#infertility\\u003cbr\\u003e#ivfjourney\",\"Top 5 hashtags:\\u003cbr\\u003e#PCOSAwareness\\u003cbr\\u003e#PCOSAwarenessMonth\\u003cbr\\u003e#PCOSWARRIOR\\u003cbr\\u003e#pcosawareness\\u003cbr\\u003e#fertility\",\"Top 5 hashtags:\\u003cbr\\u003e#PCOSAwareness\\u003cbr\\u003e#PCOSAwarenessMonth\\u003cbr\\u003e#pcosawareness\\u003cbr\\u003e#pcosawarenessmonth\\u003cbr\\u003e#WomensHealth\",\"Top 5 hashtags:\\u003cbr\\u003e#pcosawareness\\u003cbr\\u003e#PCOSAwarenessMonth\\u003cbr\\u003e#medicaleducation\\u003cbr\\u003e#PCOSawarenessmonth\\u003cbr\\u003e#PCOSAwareness\",\"Top 5 hashtags:\\u003cbr\\u003e#PCOSAwarenessMonth\\u003cbr\\u003e#pcosawarenessmonth\\u003cbr\\u003e#PCOSAwareness\\u003cbr\\u003e#PolycysticOvarySyndrome\\u003cbr\\u003e#pcosawareness\",\"Top 5 hashtags:\\u003cbr\\u003e#PCOSAwarenessMonth\\u003cbr\\u003e#PCOSAwareness\\u003cbr\\u003e#pcosawareness\\u003cbr\\u003e#pcosawarenessmonth\\u003cbr\\u003e#fertility\",\"Top 5 hashtags:\\u003cbr\\u003e#HelloPerfect\\u003cbr\\u003e#Confidencebeyondpcos2024\\u003cbr\\u003e#ConfidenceBeyondPCOS2024\\u003cbr\\u003e#SirenCo\\u003cbr\\u003e#PCOSAwarenessMonth\",\"Top 5 hashtags:\\u003cbr\\u003e#PCOSAwareness\\u003cbr\\u003e#PCOSAwarenessMonth\\u003cbr\\u003e#HelloPerfect\\u003cbr\\u003e#fertility\\u003cbr\\u003e#WeightLoss\",\"Top 5 hashtags:\\u003cbr\\u003e#PCOSAwareness\\u003cbr\\u003e#pcosdiet\\u003cbr\\u003e#pcosawarenessmonth\\u003cbr\\u003e#PCOSAwarenessMonth\\u003cbr\\u003e#pcosawareness\",\"Top 5 hashtags:\\u003cbr\\u003e#PCOSAwarenessMonth\\u003cbr\\u003e#pcosawareness\\u003cbr\\u003e#PCOSAwareness\\u003cbr\\u003e#fertility\\u003cbr\\u003e#pcosawarenessmonth\",\"Top 5 hashtags:\\u003cbr\\u003e#PCOSAwareness\\u003cbr\\u003e#PCOSAwarenessMonth\\u003cbr\\u003e#pcosawareness\\u003cbr\\u003e#PCOSAdvocate\\u003cbr\\u003e#pcosawarenessmonth\",\"Top 5 hashtags:\\u003cbr\\u003e#pcosawarenessmonth\\u003cbr\\u003e#PCOSAwareness\\u003cbr\\u003e#PCOSAwarenessMonth\\u003cbr\\u003e#pcosawareness\\u003cbr\\u003e#WomensHealth\",\"Top 5 hashtags:\\u003cbr\\u003e#PCOSAwareness\\u003cbr\\u003e#pcosawarenessmonth\\u003cbr\\u003e#PCOSWarrior\\u003cbr\\u003e#pcosawareness\\u003cbr\\u003e#PCOSAwarenessMonth\",\"Top 5 hashtags:\\u003cbr\\u003e#PCOSAwarenessMonth\\u003cbr\\u003e#PCOSAwareness\\u003cbr\\u003e#PIBU\\u003cbr\\u003e#infertility\\u003cbr\\u003e#PCOSWarrior\",\"Top 5 hashtags:\\u003cbr\\u003e#PCOSAwarenessMonth\\u003cbr\\u003e#PCOSAwareness\\u003cbr\\u003e#WomensHealth\\u003cbr\\u003e#fertility\\u003cbr\\u003e#CoMICsLite\",\"Top 5 hashtags:\\u003cbr\\u003e#PCOSAwareness\\u003cbr\\u003e#PCOSAwarenessMonth\\u003cbr\\u003e#WomensHealth\\u003cbr\\u003e#fertilityjourney\\u003cbr\\u003e#PCOSAwarenessWeek\",\"Top 5 hashtags:\\u003cbr\\u003e#WomensHealth\\u003cbr\\u003e#PCOSAwareness\\u003cbr\\u003e#Pregnancy\\u003cbr\\u003e#Menopause\\u003cbr\\u003e#Migraines\",\"Top 5 hashtags:\\u003cbr\\u003e#PCOSAwarenessMonth\\u003cbr\\u003e#pcosawareness\\u003cbr\\u003e#WomensHealth\\u003cbr\\u003e#PCOSAwareness\\u003cbr\\u003e#Endometriosis\",\"Top 5 hashtags:\\u003cbr\\u003e#PCOSAwareness\\u003cbr\\u003e#FertilityCare\\u003cbr\\u003e#pcosawareness\\u003cbr\\u003e#PCOSAwarenessMonth\\u003cbr\\u003e#NeogenesisFertilityCenter\",\"Top 5 hashtags:\\u003cbr\\u003e#PCOSAwarenessMonth\\u003cbr\\u003e#SIMBA\\u003cbr\\u003e#pcossupport\\u003cbr\\u003e#pcosawareness\\u003cbr\\u003e#PCOSAwareness\",\"Top 5 hashtags:\\u003cbr\\u003e#PCOSAwarenessMonth\\u003cbr\\u003e#pcosawareness\\u003cbr\\u003e#infertility\\u003cbr\\u003e#PCOSAwareness\\u003cbr\\u003e#Philippines\",\"Top 5 hashtags:\\u003cbr\\u003e#PCOSAwarenessMonth\\u003cbr\\u003e#CaocherryTampons\\u003cbr\\u003e#PCOSAwareness\\u003cbr\\u003e#Supplements\\u003cbr\\u003e#Dietary\",\"Top 5 hashtags:\\u003cbr\\u003e#PCOSAwareness\\u003cbr\\u003e#infertility\\u003cbr\\u003e#insulinresistance\\u003cbr\\u003e#pcosdiet\\u003cbr\\u003e#pcosweightloss\"],\"x\":[\"2024-09-01\",\"2024-09-02\",\"2024-09-03\",\"2024-09-04\",\"2024-09-05\",\"2024-09-06\",\"2024-09-07\",\"2024-09-08\",\"2024-09-09\",\"2024-09-10\",\"2024-09-11\",\"2024-09-12\",\"2024-09-13\",\"2024-09-14\",\"2024-09-15\",\"2024-09-16\",\"2024-09-17\",\"2024-09-18\",\"2024-09-19\",\"2024-09-20\",\"2024-09-21\",\"2024-09-22\",\"2024-09-23\",\"2024-09-24\",\"2024-09-25\",\"2024-09-26\",\"2024-09-27\",\"2024-09-28\",\"2024-09-29\",\"2024-09-30\"],\"y\":[217,227,231,122,82,96,44,41,130,112,110,100,105,128,67,111,111,159,154,108,56,43,106,102,96,76,99,33,49,98],\"type\":\"scatter\"}],                        {\"template\":{\"data\":{\"histogram2dcontour\":[{\"type\":\"histogram2dcontour\",\"colorbar\":{\"outlinewidth\":0,\"ticks\":\"\"},\"colorscale\":[[0.0,\"#0d0887\"],[0.1111111111111111,\"#46039f\"],[0.2222222222222222,\"#7201a8\"],[0.3333333333333333,\"#9c179e\"],[0.4444444444444444,\"#bd3786\"],[0.5555555555555556,\"#d8576b\"],[0.6666666666666666,\"#ed7953\"],[0.7777777777777778,\"#fb9f3a\"],[0.8888888888888888,\"#fdca26\"],[1.0,\"#f0f921\"]]}],\"choropleth\":[{\"type\":\"choropleth\",\"colorbar\":{\"outlinewidth\":0,\"ticks\":\"\"}}],\"histogram2d\":[{\"type\":\"histogram2d\",\"colorbar\":{\"outlinewidth\":0,\"ticks\":\"\"},\"colorscale\":[[0.0,\"#0d0887\"],[0.1111111111111111,\"#46039f\"],[0.2222222222222222,\"#7201a8\"],[0.3333333333333333,\"#9c179e\"],[0.4444444444444444,\"#bd3786\"],[0.5555555555555556,\"#d8576b\"],[0.6666666666666666,\"#ed7953\"],[0.7777777777777778,\"#fb9f3a\"],[0.8888888888888888,\"#fdca26\"],[1.0,\"#f0f921\"]]}],\"heatmap\":[{\"type\":\"heatmap\",\"colorbar\":{\"outlinewidth\":0,\"ticks\":\"\"},\"colorscale\":[[0.0,\"#0d0887\"],[0.1111111111111111,\"#46039f\"],[0.2222222222222222,\"#7201a8\"],[0.3333333333333333,\"#9c179e\"],[0.4444444444444444,\"#bd3786\"],[0.5555555555555556,\"#d8576b\"],[0.6666666666666666,\"#ed7953\"],[0.7777777777777778,\"#fb9f3a\"],[0.8888888888888888,\"#fdca26\"],[1.0,\"#f0f921\"]]}],\"heatmapgl\":[{\"type\":\"heatmapgl\",\"colorbar\":{\"outlinewidth\":0,\"ticks\":\"\"},\"colorscale\":[[0.0,\"#0d0887\"],[0.1111111111111111,\"#46039f\"],[0.2222222222222222,\"#7201a8\"],[0.3333333333333333,\"#9c179e\"],[0.4444444444444444,\"#bd3786\"],[0.5555555555555556,\"#d8576b\"],[0.6666666666666666,\"#ed7953\"],[0.7777777777777778,\"#fb9f3a\"],[0.8888888888888888,\"#fdca26\"],[1.0,\"#f0f921\"]]}],\"contourcarpet\":[{\"type\":\"contourcarpet\",\"colorbar\":{\"outlinewidth\":0,\"ticks\":\"\"}}],\"contour\":[{\"type\":\"contour\",\"colorbar\":{\"outlinewidth\":0,\"ticks\":\"\"},\"colorscale\":[[0.0,\"#0d0887\"],[0.1111111111111111,\"#46039f\"],[0.2222222222222222,\"#7201a8\"],[0.3333333333333333,\"#9c179e\"],[0.4444444444444444,\"#bd3786\"],[0.5555555555555556,\"#d8576b\"],[0.6666666666666666,\"#ed7953\"],[0.7777777777777778,\"#fb9f3a\"],[0.8888888888888888,\"#fdca26\"],[1.0,\"#f0f921\"]]}],\"surface\":[{\"type\":\"surface\",\"colorbar\":{\"outlinewidth\":0,\"ticks\":\"\"},\"colorscale\":[[0.0,\"#0d0887\"],[0.1111111111111111,\"#46039f\"],[0.2222222222222222,\"#7201a8\"],[0.3333333333333333,\"#9c179e\"],[0.4444444444444444,\"#bd3786\"],[0.5555555555555556,\"#d8576b\"],[0.6666666666666666,\"#ed7953\"],[0.7777777777777778,\"#fb9f3a\"],[0.8888888888888888,\"#fdca26\"],[1.0,\"#f0f921\"]]}],\"mesh3d\":[{\"type\":\"mesh3d\",\"colorbar\":{\"outlinewidth\":0,\"ticks\":\"\"}}],\"scatter\":[{\"fillpattern\":{\"fillmode\":\"overlay\",\"size\":10,\"solidity\":0.2},\"type\":\"scatter\"}],\"parcoords\":[{\"type\":\"parcoords\",\"line\":{\"colorbar\":{\"outlinewidth\":0,\"ticks\":\"\"}}}],\"scatterpolargl\":[{\"type\":\"scatterpolargl\",\"marker\":{\"colorbar\":{\"outlinewidth\":0,\"ticks\":\"\"}}}],\"bar\":[{\"error_x\":{\"color\":\"#2a3f5f\"},\"error_y\":{\"color\":\"#2a3f5f\"},\"marker\":{\"line\":{\"color\":\"#E5ECF6\",\"width\":0.5},\"pattern\":{\"fillmode\":\"overlay\",\"size\":10,\"solidity\":0.2}},\"type\":\"bar\"}],\"scattergeo\":[{\"type\":\"scattergeo\",\"marker\":{\"colorbar\":{\"outlinewidth\":0,\"ticks\":\"\"}}}],\"scatterpolar\":[{\"type\":\"scatterpolar\",\"marker\":{\"colorbar\":{\"outlinewidth\":0,\"ticks\":\"\"}}}],\"histogram\":[{\"marker\":{\"pattern\":{\"fillmode\":\"overlay\",\"size\":10,\"solidity\":0.2}},\"type\":\"histogram\"}],\"scattergl\":[{\"type\":\"scattergl\",\"marker\":{\"colorbar\":{\"outlinewidth\":0,\"ticks\":\"\"}}}],\"scatter3d\":[{\"type\":\"scatter3d\",\"line\":{\"colorbar\":{\"outlinewidth\":0,\"ticks\":\"\"}},\"marker\":{\"colorbar\":{\"outlinewidth\":0,\"ticks\":\"\"}}}],\"scattermapbox\":[{\"type\":\"scattermapbox\",\"marker\":{\"colorbar\":{\"outlinewidth\":0,\"ticks\":\"\"}}}],\"scatterternary\":[{\"type\":\"scatterternary\",\"marker\":{\"colorbar\":{\"outlinewidth\":0,\"ticks\":\"\"}}}],\"scattercarpet\":[{\"type\":\"scattercarpet\",\"marker\":{\"colorbar\":{\"outlinewidth\":0,\"ticks\":\"\"}}}],\"carpet\":[{\"aaxis\":{\"endlinecolor\":\"#2a3f5f\",\"gridcolor\":\"white\",\"linecolor\":\"white\",\"minorgridcolor\":\"white\",\"startlinecolor\":\"#2a3f5f\"},\"baxis\":{\"endlinecolor\":\"#2a3f5f\",\"gridcolor\":\"white\",\"linecolor\":\"white\",\"minorgridcolor\":\"white\",\"startlinecolor\":\"#2a3f5f\"},\"type\":\"carpet\"}],\"table\":[{\"cells\":{\"fill\":{\"color\":\"#EBF0F8\"},\"line\":{\"color\":\"white\"}},\"header\":{\"fill\":{\"color\":\"#C8D4E3\"},\"line\":{\"color\":\"white\"}},\"type\":\"table\"}],\"barpolar\":[{\"marker\":{\"line\":{\"color\":\"#E5ECF6\",\"width\":0.5},\"pattern\":{\"fillmode\":\"overlay\",\"size\":10,\"solidity\":0.2}},\"type\":\"barpolar\"}],\"pie\":[{\"automargin\":true,\"type\":\"pie\"}]},\"layout\":{\"autotypenumbers\":\"strict\",\"colorway\":[\"#636efa\",\"#EF553B\",\"#00cc96\",\"#ab63fa\",\"#FFA15A\",\"#19d3f3\",\"#FF6692\",\"#B6E880\",\"#FF97FF\",\"#FECB52\"],\"font\":{\"color\":\"#2a3f5f\"},\"hovermode\":\"closest\",\"hoverlabel\":{\"align\":\"left\"},\"paper_bgcolor\":\"white\",\"plot_bgcolor\":\"#E5ECF6\",\"polar\":{\"bgcolor\":\"#E5ECF6\",\"angularaxis\":{\"gridcolor\":\"white\",\"linecolor\":\"white\",\"ticks\":\"\"},\"radialaxis\":{\"gridcolor\":\"white\",\"linecolor\":\"white\",\"ticks\":\"\"}},\"ternary\":{\"bgcolor\":\"#E5ECF6\",\"aaxis\":{\"gridcolor\":\"white\",\"linecolor\":\"white\",\"ticks\":\"\"},\"baxis\":{\"gridcolor\":\"white\",\"linecolor\":\"white\",\"ticks\":\"\"},\"caxis\":{\"gridcolor\":\"white\",\"linecolor\":\"white\",\"ticks\":\"\"}},\"coloraxis\":{\"colorbar\":{\"outlinewidth\":0,\"ticks\":\"\"}},\"colorscale\":{\"sequential\":[[0.0,\"#0d0887\"],[0.1111111111111111,\"#46039f\"],[0.2222222222222222,\"#7201a8\"],[0.3333333333333333,\"#9c179e\"],[0.4444444444444444,\"#bd3786\"],[0.5555555555555556,\"#d8576b\"],[0.6666666666666666,\"#ed7953\"],[0.7777777777777778,\"#fb9f3a\"],[0.8888888888888888,\"#fdca26\"],[1.0,\"#f0f921\"]],\"sequentialminus\":[[0.0,\"#0d0887\"],[0.1111111111111111,\"#46039f\"],[0.2222222222222222,\"#7201a8\"],[0.3333333333333333,\"#9c179e\"],[0.4444444444444444,\"#bd3786\"],[0.5555555555555556,\"#d8576b\"],[0.6666666666666666,\"#ed7953\"],[0.7777777777777778,\"#fb9f3a\"],[0.8888888888888888,\"#fdca26\"],[1.0,\"#f0f921\"]],\"diverging\":[[0,\"#8e0152\"],[0.1,\"#c51b7d\"],[0.2,\"#de77ae\"],[0.3,\"#f1b6da\"],[0.4,\"#fde0ef\"],[0.5,\"#f7f7f7\"],[0.6,\"#e6f5d0\"],[0.7,\"#b8e186\"],[0.8,\"#7fbc41\"],[0.9,\"#4d9221\"],[1,\"#276419\"]]},\"xaxis\":{\"gridcolor\":\"white\",\"linecolor\":\"white\",\"ticks\":\"\",\"title\":{\"standoff\":15},\"zerolinecolor\":\"white\",\"automargin\":true,\"zerolinewidth\":2},\"yaxis\":{\"gridcolor\":\"white\",\"linecolor\":\"white\",\"ticks\":\"\",\"title\":{\"standoff\":15},\"zerolinecolor\":\"white\",\"automargin\":true,\"zerolinewidth\":2},\"scene\":{\"xaxis\":{\"backgroundcolor\":\"#E5ECF6\",\"gridcolor\":\"white\",\"linecolor\":\"white\",\"showbackground\":true,\"ticks\":\"\",\"zerolinecolor\":\"white\",\"gridwidth\":2},\"yaxis\":{\"backgroundcolor\":\"#E5ECF6\",\"gridcolor\":\"white\",\"linecolor\":\"white\",\"showbackground\":true,\"ticks\":\"\",\"zerolinecolor\":\"white\",\"gridwidth\":2},\"zaxis\":{\"backgroundcolor\":\"#E5ECF6\",\"gridcolor\":\"white\",\"linecolor\":\"white\",\"showbackground\":true,\"ticks\":\"\",\"zerolinecolor\":\"white\",\"gridwidth\":2}},\"shapedefaults\":{\"line\":{\"color\":\"#2a3f5f\"}},\"annotationdefaults\":{\"arrowcolor\":\"#2a3f5f\",\"arrowhead\":0,\"arrowwidth\":1},\"geo\":{\"bgcolor\":\"white\",\"landcolor\":\"#E5ECF6\",\"subunitcolor\":\"white\",\"showland\":true,\"showlakes\":true,\"lakecolor\":\"white\"},\"title\":{\"x\":0.05},\"mapbox\":{\"style\":\"light\"}}},\"title\":{\"text\":\"Daily Sentiment Trends and Tweet Activity for PCOS-related posts (September)\"},\"xaxis\":{\"title\":{\"text\":\"Day\"}},\"yaxis\":{\"title\":{\"text\":\"Number of Tweets\"}},\"barmode\":\"stack\",\"legend\":{\"title\":{\"text\":\"Sentiment\"}},\"hovermode\":\"x unified\"},                        {\"responsive\": true}                    ).then(function(){\n",
       "                            \n",
       "var gd = document.getElementById('4b519d6e-cfba-40f3-95e9-06fa137705e3');\n",
       "var x = new MutationObserver(function (mutations, observer) {{\n",
       "        var display = window.getComputedStyle(gd).display;\n",
       "        if (!display || display === 'none') {{\n",
       "            console.log([gd, 'removed!']);\n",
       "            Plotly.purge(gd);\n",
       "            observer.disconnect();\n",
       "        }}\n",
       "}});\n",
       "\n",
       "// Listen for the removal of the full notebook cells\n",
       "var notebookContainer = gd.closest('#notebook-container');\n",
       "if (notebookContainer) {{\n",
       "    x.observe(notebookContainer, {childList: true});\n",
       "}}\n",
       "\n",
       "// Listen for the clearing of the current output cell\n",
       "var outputEl = gd.closest('.output');\n",
       "if (outputEl) {{\n",
       "    x.observe(outputEl, {childList: true});\n",
       "}}\n",
       "\n",
       "                        })                };                });            </script>        </div>"
      ]
     },
     "metadata": {},
     "output_type": "display_data"
    },
    {
     "data": {
      "application/vnd.plotly.v1+json": {
       "config": {
        "plotlyServerURL": "https://plot.ly"
       },
       "data": [
        {
         "hoverinfo": "text",
         "marker": {
          "color": "lightcoral"
         },
         "name": "Negative",
         "text": [
          "Negative: 8",
          "Negative: 5",
          "Negative: 3",
          "Negative: 10",
          "Negative: 11",
          "Negative: 4",
          "Negative: 20",
          "Negative: 5",
          "Negative: 7",
          "Negative: 8",
          "Negative: 7",
          "Negative: 6",
          "Negative: 3",
          "Negative: 5",
          "Negative: 1",
          "Negative: 4",
          "Negative: 3",
          "Negative: 4",
          "Negative: 2",
          "Negative: 3",
          "Negative: 11",
          "Negative: 10",
          "Negative: 8",
          "Negative: 0"
         ],
         "textposition": "none",
         "type": "bar",
         "x": [
          "2024-10-01",
          "2024-10-02",
          "2024-10-03",
          "2024-10-04",
          "2024-10-05",
          "2024-10-06",
          "2024-10-07",
          "2024-10-08",
          "2024-10-09",
          "2024-10-10",
          "2024-10-11",
          "2024-10-12",
          "2024-10-13",
          "2024-10-14",
          "2024-10-15",
          "2024-10-16",
          "2024-10-17",
          "2024-10-18",
          "2024-10-19",
          "2024-10-20",
          "2024-10-21",
          "2024-10-22",
          "2024-10-23",
          "2024-10-24"
         ],
         "y": [
          8,
          5,
          3,
          10,
          11,
          4,
          20,
          5,
          7,
          8,
          7,
          6,
          3,
          5,
          1,
          4,
          3,
          4,
          2,
          3,
          11,
          10,
          8,
          0
         ]
        },
        {
         "hoverinfo": "text",
         "marker": {
          "color": "lightblue"
         },
         "name": "Neutral",
         "text": [
          "Neutral: 29",
          "Neutral: 10",
          "Neutral: 8",
          "Neutral: 24",
          "Neutral: 8",
          "Neutral: 6",
          "Neutral: 6",
          "Neutral: 9",
          "Neutral: 10",
          "Neutral: 5",
          "Neutral: 15",
          "Neutral: 6",
          "Neutral: 7",
          "Neutral: 13",
          "Neutral: 5",
          "Neutral: 10",
          "Neutral: 5",
          "Neutral: 8",
          "Neutral: 6",
          "Neutral: 2",
          "Neutral: 9",
          "Neutral: 11",
          "Neutral: 12",
          "Neutral: 4"
         ],
         "textposition": "none",
         "type": "bar",
         "x": [
          "2024-10-01",
          "2024-10-02",
          "2024-10-03",
          "2024-10-04",
          "2024-10-05",
          "2024-10-06",
          "2024-10-07",
          "2024-10-08",
          "2024-10-09",
          "2024-10-10",
          "2024-10-11",
          "2024-10-12",
          "2024-10-13",
          "2024-10-14",
          "2024-10-15",
          "2024-10-16",
          "2024-10-17",
          "2024-10-18",
          "2024-10-19",
          "2024-10-20",
          "2024-10-21",
          "2024-10-22",
          "2024-10-23",
          "2024-10-24"
         ],
         "y": [
          29,
          10,
          8,
          24,
          8,
          6,
          6,
          9,
          10,
          5,
          15,
          6,
          7,
          13,
          5,
          10,
          5,
          8,
          6,
          2,
          9,
          11,
          12,
          4
         ]
        },
        {
         "hoverinfo": "text",
         "marker": {
          "color": "lightgreen"
         },
         "name": "Positive",
         "text": [
          "Positive: 110",
          "Positive: 73",
          "Positive: 42",
          "Positive: 49",
          "Positive: 20",
          "Positive: 5",
          "Positive: 21",
          "Positive: 18",
          "Positive: 16",
          "Positive: 29",
          "Positive: 16",
          "Positive: 7",
          "Positive: 8",
          "Positive: 10",
          "Positive: 18",
          "Positive: 15",
          "Positive: 32",
          "Positive: 21",
          "Positive: 11",
          "Positive: 8",
          "Positive: 26",
          "Positive: 16",
          "Positive: 28",
          "Positive: 5"
         ],
         "textposition": "none",
         "type": "bar",
         "x": [
          "2024-10-01",
          "2024-10-02",
          "2024-10-03",
          "2024-10-04",
          "2024-10-05",
          "2024-10-06",
          "2024-10-07",
          "2024-10-08",
          "2024-10-09",
          "2024-10-10",
          "2024-10-11",
          "2024-10-12",
          "2024-10-13",
          "2024-10-14",
          "2024-10-15",
          "2024-10-16",
          "2024-10-17",
          "2024-10-18",
          "2024-10-19",
          "2024-10-20",
          "2024-10-21",
          "2024-10-22",
          "2024-10-23",
          "2024-10-24"
         ],
         "y": [
          110,
          73,
          42,
          49,
          20,
          5,
          21,
          18,
          16,
          29,
          16,
          7,
          8,
          10,
          18,
          15,
          32,
          21,
          11,
          8,
          26,
          16,
          28,
          5
         ]
        },
        {
         "hoverinfo": "text",
         "line": {
          "color": "black",
          "width": 2
         },
         "mode": "lines+markers",
         "name": "Total Tweets",
         "text": [
          "Top 5 hashtags:<br>#misinformation<br>#doctors<br>#WomensHealth<br>#PCOSAwareness<br>#Empowering",
          "Top 5 hashtags:<br>#misinformation<br>#doctors<br>#WomensHealth<br>#PCOSAwareness<br>#endometriosis",
          "Top 5 hashtags:<br>#WomensHealth<br>#PCOSguideline<br>#PCOSAdvocate<br>#Endocrinology<br>#pcosawareness",
          "Top 5 hashtags:<br>#PCOSAwareness<br>#endometriosis<br>#infertility<br>#pregnancy<br>#miscarriage",
          "Top 5 hashtags:<br>#pcosdiet<br>#pcosfood<br>#pcosawareness<br>#pcosmeals<br>#pcoswarrior",
          "Top 5 hashtags:<br>#PCOSAwareness<br>#womenshealth<br>#Fertilitytreatment<br>#pcosweightloss<br>#birthoutcomes",
          "Top 5 hashtags:<br>#twins<br>#infertility<br>#HCGtest<br>#miscarried<br>#pregnant",
          "Top 5 hashtags:<br>#health<br>#wellness<br>#WomensHealth<br>#endometriosis<br>#PCOD",
          "Top 5 hashtags:<br>#WomensHealth<br>#fertility<br>#endometriosis<br>#PCOSAwareness<br>#infertility",
          "Top 5 hashtags:<br>#WomensHealth<br>#womenshealth<br>#PCOSAwareness<br>#MP<br>#economy",
          "Top 5 hashtags:<br>#ClinicalPearl<br>#PCOSAwareness<br>#WomensHealth<br>#infertility<br>#endometriosis",
          "Top 5 hashtags:<br>#ClinicalPearl<br>#nigricans<br>#Acanthosis<br>#svasthahospital<br>#hospitals",
          "Top 5 hashtags:<br>#pcosawareness<br>#UCP<br>#pcodweightloss<br>#exercise<br>#physicalactivity",
          "Top 5 hashtags:<br>#pcosawareness<br>#pcosproblems<br>#WomensHealth<br>#fertility<br>#endometriosis",
          "Top 5 hashtags:<br>#WomensHealth<br>#PCOSAwareness<br>#fertility<br>#womenshealth<br>#ReproductiveHealth",
          "Top 5 hashtags:<br>#womenshealth<br>#pcosweightloss<br>#wellness<br>#pcosawareness<br>#endometriosis",
          "Top 5 hashtags:<br>#osteoporosis<br>#Palam<br>#health<br>#fertility<br>#women",
          "Top 5 hashtags:<br>#nutritionknowledge<br>#plantbased<br>#foodinsecurity<br>#vaping<br>#seafood",
          "Top 5 hashtags:<br>#fertility<br>#health<br>#metabolic<br>#insulinresistance<br>#infertility",
          "Top 5 hashtags:<br>#Mentalhealth<br>#cancer<br>#AIDS<br>#addiction<br>#Peace",
          "Top 5 hashtags:<br>#addiction<br>#Mentalhealth<br>#autism<br>#cancer<br>#AIDS",
          "Top 5 hashtags:<br>#ASRM2024<br>#fertility<br>#birthcontrol<br>#metformin<br>#metabolicsyndrome",
          "Top 5 hashtags:<br>#ASRM2024<br>#WomensHealth<br>#HeartHealth<br>#Research<br>#PublicHealth",
          "Top 5 hashtags:<br>#PCOSAwareness<br>#PCOSJourney<br>#WomensHealth<br>#PCOSFacts<br>#PCOSSupport"
         ],
         "type": "scatter",
         "x": [
          "2024-10-01",
          "2024-10-02",
          "2024-10-03",
          "2024-10-04",
          "2024-10-05",
          "2024-10-06",
          "2024-10-07",
          "2024-10-08",
          "2024-10-09",
          "2024-10-10",
          "2024-10-11",
          "2024-10-12",
          "2024-10-13",
          "2024-10-14",
          "2024-10-15",
          "2024-10-16",
          "2024-10-17",
          "2024-10-18",
          "2024-10-19",
          "2024-10-20",
          "2024-10-21",
          "2024-10-22",
          "2024-10-23",
          "2024-10-24"
         ],
         "y": [
          147,
          88,
          53,
          83,
          39,
          15,
          47,
          32,
          33,
          42,
          38,
          19,
          18,
          28,
          24,
          29,
          40,
          33,
          19,
          13,
          46,
          37,
          48,
          9
         ]
        }
       ],
       "layout": {
        "autosize": true,
        "barmode": "stack",
        "hovermode": "x unified",
        "legend": {
         "title": {
          "text": "Sentiment"
         }
        },
        "template": {
         "data": {
          "bar": [
           {
            "error_x": {
             "color": "#2a3f5f"
            },
            "error_y": {
             "color": "#2a3f5f"
            },
            "marker": {
             "line": {
              "color": "#E5ECF6",
              "width": 0.5
             },
             "pattern": {
              "fillmode": "overlay",
              "size": 10,
              "solidity": 0.2
             }
            },
            "type": "bar"
           }
          ],
          "barpolar": [
           {
            "marker": {
             "line": {
              "color": "#E5ECF6",
              "width": 0.5
             },
             "pattern": {
              "fillmode": "overlay",
              "size": 10,
              "solidity": 0.2
             }
            },
            "type": "barpolar"
           }
          ],
          "carpet": [
           {
            "aaxis": {
             "endlinecolor": "#2a3f5f",
             "gridcolor": "white",
             "linecolor": "white",
             "minorgridcolor": "white",
             "startlinecolor": "#2a3f5f"
            },
            "baxis": {
             "endlinecolor": "#2a3f5f",
             "gridcolor": "white",
             "linecolor": "white",
             "minorgridcolor": "white",
             "startlinecolor": "#2a3f5f"
            },
            "type": "carpet"
           }
          ],
          "choropleth": [
           {
            "colorbar": {
             "outlinewidth": 0,
             "ticks": ""
            },
            "type": "choropleth"
           }
          ],
          "contour": [
           {
            "colorbar": {
             "outlinewidth": 0,
             "ticks": ""
            },
            "colorscale": [
             [
              0,
              "#0d0887"
             ],
             [
              0.1111111111111111,
              "#46039f"
             ],
             [
              0.2222222222222222,
              "#7201a8"
             ],
             [
              0.3333333333333333,
              "#9c179e"
             ],
             [
              0.4444444444444444,
              "#bd3786"
             ],
             [
              0.5555555555555556,
              "#d8576b"
             ],
             [
              0.6666666666666666,
              "#ed7953"
             ],
             [
              0.7777777777777778,
              "#fb9f3a"
             ],
             [
              0.8888888888888888,
              "#fdca26"
             ],
             [
              1,
              "#f0f921"
             ]
            ],
            "type": "contour"
           }
          ],
          "contourcarpet": [
           {
            "colorbar": {
             "outlinewidth": 0,
             "ticks": ""
            },
            "type": "contourcarpet"
           }
          ],
          "heatmap": [
           {
            "colorbar": {
             "outlinewidth": 0,
             "ticks": ""
            },
            "colorscale": [
             [
              0,
              "#0d0887"
             ],
             [
              0.1111111111111111,
              "#46039f"
             ],
             [
              0.2222222222222222,
              "#7201a8"
             ],
             [
              0.3333333333333333,
              "#9c179e"
             ],
             [
              0.4444444444444444,
              "#bd3786"
             ],
             [
              0.5555555555555556,
              "#d8576b"
             ],
             [
              0.6666666666666666,
              "#ed7953"
             ],
             [
              0.7777777777777778,
              "#fb9f3a"
             ],
             [
              0.8888888888888888,
              "#fdca26"
             ],
             [
              1,
              "#f0f921"
             ]
            ],
            "type": "heatmap"
           }
          ],
          "heatmapgl": [
           {
            "colorbar": {
             "outlinewidth": 0,
             "ticks": ""
            },
            "colorscale": [
             [
              0,
              "#0d0887"
             ],
             [
              0.1111111111111111,
              "#46039f"
             ],
             [
              0.2222222222222222,
              "#7201a8"
             ],
             [
              0.3333333333333333,
              "#9c179e"
             ],
             [
              0.4444444444444444,
              "#bd3786"
             ],
             [
              0.5555555555555556,
              "#d8576b"
             ],
             [
              0.6666666666666666,
              "#ed7953"
             ],
             [
              0.7777777777777778,
              "#fb9f3a"
             ],
             [
              0.8888888888888888,
              "#fdca26"
             ],
             [
              1,
              "#f0f921"
             ]
            ],
            "type": "heatmapgl"
           }
          ],
          "histogram": [
           {
            "marker": {
             "pattern": {
              "fillmode": "overlay",
              "size": 10,
              "solidity": 0.2
             }
            },
            "type": "histogram"
           }
          ],
          "histogram2d": [
           {
            "colorbar": {
             "outlinewidth": 0,
             "ticks": ""
            },
            "colorscale": [
             [
              0,
              "#0d0887"
             ],
             [
              0.1111111111111111,
              "#46039f"
             ],
             [
              0.2222222222222222,
              "#7201a8"
             ],
             [
              0.3333333333333333,
              "#9c179e"
             ],
             [
              0.4444444444444444,
              "#bd3786"
             ],
             [
              0.5555555555555556,
              "#d8576b"
             ],
             [
              0.6666666666666666,
              "#ed7953"
             ],
             [
              0.7777777777777778,
              "#fb9f3a"
             ],
             [
              0.8888888888888888,
              "#fdca26"
             ],
             [
              1,
              "#f0f921"
             ]
            ],
            "type": "histogram2d"
           }
          ],
          "histogram2dcontour": [
           {
            "colorbar": {
             "outlinewidth": 0,
             "ticks": ""
            },
            "colorscale": [
             [
              0,
              "#0d0887"
             ],
             [
              0.1111111111111111,
              "#46039f"
             ],
             [
              0.2222222222222222,
              "#7201a8"
             ],
             [
              0.3333333333333333,
              "#9c179e"
             ],
             [
              0.4444444444444444,
              "#bd3786"
             ],
             [
              0.5555555555555556,
              "#d8576b"
             ],
             [
              0.6666666666666666,
              "#ed7953"
             ],
             [
              0.7777777777777778,
              "#fb9f3a"
             ],
             [
              0.8888888888888888,
              "#fdca26"
             ],
             [
              1,
              "#f0f921"
             ]
            ],
            "type": "histogram2dcontour"
           }
          ],
          "mesh3d": [
           {
            "colorbar": {
             "outlinewidth": 0,
             "ticks": ""
            },
            "type": "mesh3d"
           }
          ],
          "parcoords": [
           {
            "line": {
             "colorbar": {
              "outlinewidth": 0,
              "ticks": ""
             }
            },
            "type": "parcoords"
           }
          ],
          "pie": [
           {
            "automargin": true,
            "type": "pie"
           }
          ],
          "scatter": [
           {
            "fillpattern": {
             "fillmode": "overlay",
             "size": 10,
             "solidity": 0.2
            },
            "type": "scatter"
           }
          ],
          "scatter3d": [
           {
            "line": {
             "colorbar": {
              "outlinewidth": 0,
              "ticks": ""
             }
            },
            "marker": {
             "colorbar": {
              "outlinewidth": 0,
              "ticks": ""
             }
            },
            "type": "scatter3d"
           }
          ],
          "scattercarpet": [
           {
            "marker": {
             "colorbar": {
              "outlinewidth": 0,
              "ticks": ""
             }
            },
            "type": "scattercarpet"
           }
          ],
          "scattergeo": [
           {
            "marker": {
             "colorbar": {
              "outlinewidth": 0,
              "ticks": ""
             }
            },
            "type": "scattergeo"
           }
          ],
          "scattergl": [
           {
            "marker": {
             "colorbar": {
              "outlinewidth": 0,
              "ticks": ""
             }
            },
            "type": "scattergl"
           }
          ],
          "scattermapbox": [
           {
            "marker": {
             "colorbar": {
              "outlinewidth": 0,
              "ticks": ""
             }
            },
            "type": "scattermapbox"
           }
          ],
          "scatterpolar": [
           {
            "marker": {
             "colorbar": {
              "outlinewidth": 0,
              "ticks": ""
             }
            },
            "type": "scatterpolar"
           }
          ],
          "scatterpolargl": [
           {
            "marker": {
             "colorbar": {
              "outlinewidth": 0,
              "ticks": ""
             }
            },
            "type": "scatterpolargl"
           }
          ],
          "scatterternary": [
           {
            "marker": {
             "colorbar": {
              "outlinewidth": 0,
              "ticks": ""
             }
            },
            "type": "scatterternary"
           }
          ],
          "surface": [
           {
            "colorbar": {
             "outlinewidth": 0,
             "ticks": ""
            },
            "colorscale": [
             [
              0,
              "#0d0887"
             ],
             [
              0.1111111111111111,
              "#46039f"
             ],
             [
              0.2222222222222222,
              "#7201a8"
             ],
             [
              0.3333333333333333,
              "#9c179e"
             ],
             [
              0.4444444444444444,
              "#bd3786"
             ],
             [
              0.5555555555555556,
              "#d8576b"
             ],
             [
              0.6666666666666666,
              "#ed7953"
             ],
             [
              0.7777777777777778,
              "#fb9f3a"
             ],
             [
              0.8888888888888888,
              "#fdca26"
             ],
             [
              1,
              "#f0f921"
             ]
            ],
            "type": "surface"
           }
          ],
          "table": [
           {
            "cells": {
             "fill": {
              "color": "#EBF0F8"
             },
             "line": {
              "color": "white"
             }
            },
            "header": {
             "fill": {
              "color": "#C8D4E3"
             },
             "line": {
              "color": "white"
             }
            },
            "type": "table"
           }
          ]
         },
         "layout": {
          "annotationdefaults": {
           "arrowcolor": "#2a3f5f",
           "arrowhead": 0,
           "arrowwidth": 1
          },
          "autotypenumbers": "strict",
          "coloraxis": {
           "colorbar": {
            "outlinewidth": 0,
            "ticks": ""
           }
          },
          "colorscale": {
           "diverging": [
            [
             0,
             "#8e0152"
            ],
            [
             0.1,
             "#c51b7d"
            ],
            [
             0.2,
             "#de77ae"
            ],
            [
             0.3,
             "#f1b6da"
            ],
            [
             0.4,
             "#fde0ef"
            ],
            [
             0.5,
             "#f7f7f7"
            ],
            [
             0.6,
             "#e6f5d0"
            ],
            [
             0.7,
             "#b8e186"
            ],
            [
             0.8,
             "#7fbc41"
            ],
            [
             0.9,
             "#4d9221"
            ],
            [
             1,
             "#276419"
            ]
           ],
           "sequential": [
            [
             0,
             "#0d0887"
            ],
            [
             0.1111111111111111,
             "#46039f"
            ],
            [
             0.2222222222222222,
             "#7201a8"
            ],
            [
             0.3333333333333333,
             "#9c179e"
            ],
            [
             0.4444444444444444,
             "#bd3786"
            ],
            [
             0.5555555555555556,
             "#d8576b"
            ],
            [
             0.6666666666666666,
             "#ed7953"
            ],
            [
             0.7777777777777778,
             "#fb9f3a"
            ],
            [
             0.8888888888888888,
             "#fdca26"
            ],
            [
             1,
             "#f0f921"
            ]
           ],
           "sequentialminus": [
            [
             0,
             "#0d0887"
            ],
            [
             0.1111111111111111,
             "#46039f"
            ],
            [
             0.2222222222222222,
             "#7201a8"
            ],
            [
             0.3333333333333333,
             "#9c179e"
            ],
            [
             0.4444444444444444,
             "#bd3786"
            ],
            [
             0.5555555555555556,
             "#d8576b"
            ],
            [
             0.6666666666666666,
             "#ed7953"
            ],
            [
             0.7777777777777778,
             "#fb9f3a"
            ],
            [
             0.8888888888888888,
             "#fdca26"
            ],
            [
             1,
             "#f0f921"
            ]
           ]
          },
          "colorway": [
           "#636efa",
           "#EF553B",
           "#00cc96",
           "#ab63fa",
           "#FFA15A",
           "#19d3f3",
           "#FF6692",
           "#B6E880",
           "#FF97FF",
           "#FECB52"
          ],
          "font": {
           "color": "#2a3f5f"
          },
          "geo": {
           "bgcolor": "white",
           "lakecolor": "white",
           "landcolor": "#E5ECF6",
           "showlakes": true,
           "showland": true,
           "subunitcolor": "white"
          },
          "hoverlabel": {
           "align": "left"
          },
          "hovermode": "closest",
          "mapbox": {
           "style": "light"
          },
          "paper_bgcolor": "white",
          "plot_bgcolor": "#E5ECF6",
          "polar": {
           "angularaxis": {
            "gridcolor": "white",
            "linecolor": "white",
            "ticks": ""
           },
           "bgcolor": "#E5ECF6",
           "radialaxis": {
            "gridcolor": "white",
            "linecolor": "white",
            "ticks": ""
           }
          },
          "scene": {
           "xaxis": {
            "backgroundcolor": "#E5ECF6",
            "gridcolor": "white",
            "gridwidth": 2,
            "linecolor": "white",
            "showbackground": true,
            "ticks": "",
            "zerolinecolor": "white"
           },
           "yaxis": {
            "backgroundcolor": "#E5ECF6",
            "gridcolor": "white",
            "gridwidth": 2,
            "linecolor": "white",
            "showbackground": true,
            "ticks": "",
            "zerolinecolor": "white"
           },
           "zaxis": {
            "backgroundcolor": "#E5ECF6",
            "gridcolor": "white",
            "gridwidth": 2,
            "linecolor": "white",
            "showbackground": true,
            "ticks": "",
            "zerolinecolor": "white"
           }
          },
          "shapedefaults": {
           "line": {
            "color": "#2a3f5f"
           }
          },
          "ternary": {
           "aaxis": {
            "gridcolor": "white",
            "linecolor": "white",
            "ticks": ""
           },
           "baxis": {
            "gridcolor": "white",
            "linecolor": "white",
            "ticks": ""
           },
           "bgcolor": "#E5ECF6",
           "caxis": {
            "gridcolor": "white",
            "linecolor": "white",
            "ticks": ""
           }
          },
          "title": {
           "x": 0.05
          },
          "xaxis": {
           "automargin": true,
           "gridcolor": "white",
           "linecolor": "white",
           "ticks": "",
           "title": {
            "standoff": 15
           },
           "zerolinecolor": "white",
           "zerolinewidth": 2
          },
          "yaxis": {
           "automargin": true,
           "gridcolor": "white",
           "linecolor": "white",
           "ticks": "",
           "title": {
            "standoff": 15
           },
           "zerolinecolor": "white",
           "zerolinewidth": 2
          }
         }
        },
        "title": {
         "text": "Daily Sentiment Trends and Tweet Activity for PCOS-related posts (October)"
        },
        "xaxis": {
         "autorange": true,
         "range": [
          "2024-09-29 11:51:25.7143",
          "2024-10-25 12:08:34.2857"
         ],
         "title": {
          "text": "Day"
         },
         "type": "date"
        },
        "yaxis": {
         "autorange": true,
         "range": [
          -2.3883495145631066,
          158.38834951456312
         ],
         "title": {
          "text": "Number of Tweets"
         },
         "type": "linear"
        }
       }
      },
      "text/html": [
       "<div>                            <div id=\"e5e9c719-30d2-4828-8001-6c5439eb9aaf\" class=\"plotly-graph-div\" style=\"height:525px; width:100%;\"></div>            <script type=\"text/javascript\">                require([\"plotly\"], function(Plotly) {                    window.PLOTLYENV=window.PLOTLYENV || {};                                    if (document.getElementById(\"e5e9c719-30d2-4828-8001-6c5439eb9aaf\")) {                    Plotly.newPlot(                        \"e5e9c719-30d2-4828-8001-6c5439eb9aaf\",                        [{\"hoverinfo\":\"text\",\"marker\":{\"color\":\"lightcoral\"},\"name\":\"Negative\",\"text\":[\"Negative: 8\",\"Negative: 5\",\"Negative: 3\",\"Negative: 10\",\"Negative: 11\",\"Negative: 4\",\"Negative: 20\",\"Negative: 5\",\"Negative: 7\",\"Negative: 8\",\"Negative: 7\",\"Negative: 6\",\"Negative: 3\",\"Negative: 5\",\"Negative: 1\",\"Negative: 4\",\"Negative: 3\",\"Negative: 4\",\"Negative: 2\",\"Negative: 3\",\"Negative: 11\",\"Negative: 10\",\"Negative: 8\",\"Negative: 0\"],\"textposition\":\"none\",\"x\":[\"2024-10-01\",\"2024-10-02\",\"2024-10-03\",\"2024-10-04\",\"2024-10-05\",\"2024-10-06\",\"2024-10-07\",\"2024-10-08\",\"2024-10-09\",\"2024-10-10\",\"2024-10-11\",\"2024-10-12\",\"2024-10-13\",\"2024-10-14\",\"2024-10-15\",\"2024-10-16\",\"2024-10-17\",\"2024-10-18\",\"2024-10-19\",\"2024-10-20\",\"2024-10-21\",\"2024-10-22\",\"2024-10-23\",\"2024-10-24\"],\"y\":[8,5,3,10,11,4,20,5,7,8,7,6,3,5,1,4,3,4,2,3,11,10,8,0],\"type\":\"bar\"},{\"hoverinfo\":\"text\",\"marker\":{\"color\":\"lightblue\"},\"name\":\"Neutral\",\"text\":[\"Neutral: 29\",\"Neutral: 10\",\"Neutral: 8\",\"Neutral: 24\",\"Neutral: 8\",\"Neutral: 6\",\"Neutral: 6\",\"Neutral: 9\",\"Neutral: 10\",\"Neutral: 5\",\"Neutral: 15\",\"Neutral: 6\",\"Neutral: 7\",\"Neutral: 13\",\"Neutral: 5\",\"Neutral: 10\",\"Neutral: 5\",\"Neutral: 8\",\"Neutral: 6\",\"Neutral: 2\",\"Neutral: 9\",\"Neutral: 11\",\"Neutral: 12\",\"Neutral: 4\"],\"textposition\":\"none\",\"x\":[\"2024-10-01\",\"2024-10-02\",\"2024-10-03\",\"2024-10-04\",\"2024-10-05\",\"2024-10-06\",\"2024-10-07\",\"2024-10-08\",\"2024-10-09\",\"2024-10-10\",\"2024-10-11\",\"2024-10-12\",\"2024-10-13\",\"2024-10-14\",\"2024-10-15\",\"2024-10-16\",\"2024-10-17\",\"2024-10-18\",\"2024-10-19\",\"2024-10-20\",\"2024-10-21\",\"2024-10-22\",\"2024-10-23\",\"2024-10-24\"],\"y\":[29,10,8,24,8,6,6,9,10,5,15,6,7,13,5,10,5,8,6,2,9,11,12,4],\"type\":\"bar\"},{\"hoverinfo\":\"text\",\"marker\":{\"color\":\"lightgreen\"},\"name\":\"Positive\",\"text\":[\"Positive: 110\",\"Positive: 73\",\"Positive: 42\",\"Positive: 49\",\"Positive: 20\",\"Positive: 5\",\"Positive: 21\",\"Positive: 18\",\"Positive: 16\",\"Positive: 29\",\"Positive: 16\",\"Positive: 7\",\"Positive: 8\",\"Positive: 10\",\"Positive: 18\",\"Positive: 15\",\"Positive: 32\",\"Positive: 21\",\"Positive: 11\",\"Positive: 8\",\"Positive: 26\",\"Positive: 16\",\"Positive: 28\",\"Positive: 5\"],\"textposition\":\"none\",\"x\":[\"2024-10-01\",\"2024-10-02\",\"2024-10-03\",\"2024-10-04\",\"2024-10-05\",\"2024-10-06\",\"2024-10-07\",\"2024-10-08\",\"2024-10-09\",\"2024-10-10\",\"2024-10-11\",\"2024-10-12\",\"2024-10-13\",\"2024-10-14\",\"2024-10-15\",\"2024-10-16\",\"2024-10-17\",\"2024-10-18\",\"2024-10-19\",\"2024-10-20\",\"2024-10-21\",\"2024-10-22\",\"2024-10-23\",\"2024-10-24\"],\"y\":[110,73,42,49,20,5,21,18,16,29,16,7,8,10,18,15,32,21,11,8,26,16,28,5],\"type\":\"bar\"},{\"hoverinfo\":\"text\",\"line\":{\"color\":\"black\",\"width\":2},\"mode\":\"lines+markers\",\"name\":\"Total Tweets\",\"text\":[\"Top 5 hashtags:\\u003cbr\\u003e#misinformation\\u003cbr\\u003e#doctors\\u003cbr\\u003e#WomensHealth\\u003cbr\\u003e#PCOSAwareness\\u003cbr\\u003e#Empowering\",\"Top 5 hashtags:\\u003cbr\\u003e#misinformation\\u003cbr\\u003e#doctors\\u003cbr\\u003e#WomensHealth\\u003cbr\\u003e#PCOSAwareness\\u003cbr\\u003e#endometriosis\",\"Top 5 hashtags:\\u003cbr\\u003e#WomensHealth\\u003cbr\\u003e#PCOSguideline\\u003cbr\\u003e#PCOSAdvocate\\u003cbr\\u003e#Endocrinology\\u003cbr\\u003e#pcosawareness\",\"Top 5 hashtags:\\u003cbr\\u003e#PCOSAwareness\\u003cbr\\u003e#endometriosis\\u003cbr\\u003e#infertility\\u003cbr\\u003e#pregnancy\\u003cbr\\u003e#miscarriage\",\"Top 5 hashtags:\\u003cbr\\u003e#pcosdiet\\u003cbr\\u003e#pcosfood\\u003cbr\\u003e#pcosawareness\\u003cbr\\u003e#pcosmeals\\u003cbr\\u003e#pcoswarrior\",\"Top 5 hashtags:\\u003cbr\\u003e#PCOSAwareness\\u003cbr\\u003e#womenshealth\\u003cbr\\u003e#Fertilitytreatment\\u003cbr\\u003e#pcosweightloss\\u003cbr\\u003e#birthoutcomes\",\"Top 5 hashtags:\\u003cbr\\u003e#twins\\u003cbr\\u003e#infertility\\u003cbr\\u003e#HCGtest\\u003cbr\\u003e#miscarried\\u003cbr\\u003e#pregnant\",\"Top 5 hashtags:\\u003cbr\\u003e#health\\u003cbr\\u003e#wellness\\u003cbr\\u003e#WomensHealth\\u003cbr\\u003e#endometriosis\\u003cbr\\u003e#PCOD\",\"Top 5 hashtags:\\u003cbr\\u003e#WomensHealth\\u003cbr\\u003e#fertility\\u003cbr\\u003e#endometriosis\\u003cbr\\u003e#PCOSAwareness\\u003cbr\\u003e#infertility\",\"Top 5 hashtags:\\u003cbr\\u003e#WomensHealth\\u003cbr\\u003e#womenshealth\\u003cbr\\u003e#PCOSAwareness\\u003cbr\\u003e#MP\\u003cbr\\u003e#economy\",\"Top 5 hashtags:\\u003cbr\\u003e#ClinicalPearl\\u003cbr\\u003e#PCOSAwareness\\u003cbr\\u003e#WomensHealth\\u003cbr\\u003e#infertility\\u003cbr\\u003e#endometriosis\",\"Top 5 hashtags:\\u003cbr\\u003e#ClinicalPearl\\u003cbr\\u003e#nigricans\\u003cbr\\u003e#Acanthosis\\u003cbr\\u003e#svasthahospital\\u003cbr\\u003e#hospitals\",\"Top 5 hashtags:\\u003cbr\\u003e#pcosawareness\\u003cbr\\u003e#UCP\\u003cbr\\u003e#pcodweightloss\\u003cbr\\u003e#exercise\\u003cbr\\u003e#physicalactivity\",\"Top 5 hashtags:\\u003cbr\\u003e#pcosawareness\\u003cbr\\u003e#pcosproblems\\u003cbr\\u003e#WomensHealth\\u003cbr\\u003e#fertility\\u003cbr\\u003e#endometriosis\",\"Top 5 hashtags:\\u003cbr\\u003e#WomensHealth\\u003cbr\\u003e#PCOSAwareness\\u003cbr\\u003e#fertility\\u003cbr\\u003e#womenshealth\\u003cbr\\u003e#ReproductiveHealth\",\"Top 5 hashtags:\\u003cbr\\u003e#womenshealth\\u003cbr\\u003e#pcosweightloss\\u003cbr\\u003e#wellness\\u003cbr\\u003e#pcosawareness\\u003cbr\\u003e#endometriosis\",\"Top 5 hashtags:\\u003cbr\\u003e#osteoporosis\\u003cbr\\u003e#Palam\\u003cbr\\u003e#health\\u003cbr\\u003e#fertility\\u003cbr\\u003e#women\",\"Top 5 hashtags:\\u003cbr\\u003e#nutritionknowledge\\u003cbr\\u003e#plantbased\\u003cbr\\u003e#foodinsecurity\\u003cbr\\u003e#vaping\\u003cbr\\u003e#seafood\",\"Top 5 hashtags:\\u003cbr\\u003e#fertility\\u003cbr\\u003e#health\\u003cbr\\u003e#metabolic\\u003cbr\\u003e#insulinresistance\\u003cbr\\u003e#infertility\",\"Top 5 hashtags:\\u003cbr\\u003e#Mentalhealth\\u003cbr\\u003e#cancer\\u003cbr\\u003e#AIDS\\u003cbr\\u003e#addiction\\u003cbr\\u003e#Peace\",\"Top 5 hashtags:\\u003cbr\\u003e#addiction\\u003cbr\\u003e#Mentalhealth\\u003cbr\\u003e#autism\\u003cbr\\u003e#cancer\\u003cbr\\u003e#AIDS\",\"Top 5 hashtags:\\u003cbr\\u003e#ASRM2024\\u003cbr\\u003e#fertility\\u003cbr\\u003e#birthcontrol\\u003cbr\\u003e#metformin\\u003cbr\\u003e#metabolicsyndrome\",\"Top 5 hashtags:\\u003cbr\\u003e#ASRM2024\\u003cbr\\u003e#WomensHealth\\u003cbr\\u003e#HeartHealth\\u003cbr\\u003e#Research\\u003cbr\\u003e#PublicHealth\",\"Top 5 hashtags:\\u003cbr\\u003e#PCOSAwareness\\u003cbr\\u003e#PCOSJourney\\u003cbr\\u003e#WomensHealth\\u003cbr\\u003e#PCOSFacts\\u003cbr\\u003e#PCOSSupport\"],\"x\":[\"2024-10-01\",\"2024-10-02\",\"2024-10-03\",\"2024-10-04\",\"2024-10-05\",\"2024-10-06\",\"2024-10-07\",\"2024-10-08\",\"2024-10-09\",\"2024-10-10\",\"2024-10-11\",\"2024-10-12\",\"2024-10-13\",\"2024-10-14\",\"2024-10-15\",\"2024-10-16\",\"2024-10-17\",\"2024-10-18\",\"2024-10-19\",\"2024-10-20\",\"2024-10-21\",\"2024-10-22\",\"2024-10-23\",\"2024-10-24\"],\"y\":[147,88,53,83,39,15,47,32,33,42,38,19,18,28,24,29,40,33,19,13,46,37,48,9],\"type\":\"scatter\"}],                        {\"template\":{\"data\":{\"histogram2dcontour\":[{\"type\":\"histogram2dcontour\",\"colorbar\":{\"outlinewidth\":0,\"ticks\":\"\"},\"colorscale\":[[0.0,\"#0d0887\"],[0.1111111111111111,\"#46039f\"],[0.2222222222222222,\"#7201a8\"],[0.3333333333333333,\"#9c179e\"],[0.4444444444444444,\"#bd3786\"],[0.5555555555555556,\"#d8576b\"],[0.6666666666666666,\"#ed7953\"],[0.7777777777777778,\"#fb9f3a\"],[0.8888888888888888,\"#fdca26\"],[1.0,\"#f0f921\"]]}],\"choropleth\":[{\"type\":\"choropleth\",\"colorbar\":{\"outlinewidth\":0,\"ticks\":\"\"}}],\"histogram2d\":[{\"type\":\"histogram2d\",\"colorbar\":{\"outlinewidth\":0,\"ticks\":\"\"},\"colorscale\":[[0.0,\"#0d0887\"],[0.1111111111111111,\"#46039f\"],[0.2222222222222222,\"#7201a8\"],[0.3333333333333333,\"#9c179e\"],[0.4444444444444444,\"#bd3786\"],[0.5555555555555556,\"#d8576b\"],[0.6666666666666666,\"#ed7953\"],[0.7777777777777778,\"#fb9f3a\"],[0.8888888888888888,\"#fdca26\"],[1.0,\"#f0f921\"]]}],\"heatmap\":[{\"type\":\"heatmap\",\"colorbar\":{\"outlinewidth\":0,\"ticks\":\"\"},\"colorscale\":[[0.0,\"#0d0887\"],[0.1111111111111111,\"#46039f\"],[0.2222222222222222,\"#7201a8\"],[0.3333333333333333,\"#9c179e\"],[0.4444444444444444,\"#bd3786\"],[0.5555555555555556,\"#d8576b\"],[0.6666666666666666,\"#ed7953\"],[0.7777777777777778,\"#fb9f3a\"],[0.8888888888888888,\"#fdca26\"],[1.0,\"#f0f921\"]]}],\"heatmapgl\":[{\"type\":\"heatmapgl\",\"colorbar\":{\"outlinewidth\":0,\"ticks\":\"\"},\"colorscale\":[[0.0,\"#0d0887\"],[0.1111111111111111,\"#46039f\"],[0.2222222222222222,\"#7201a8\"],[0.3333333333333333,\"#9c179e\"],[0.4444444444444444,\"#bd3786\"],[0.5555555555555556,\"#d8576b\"],[0.6666666666666666,\"#ed7953\"],[0.7777777777777778,\"#fb9f3a\"],[0.8888888888888888,\"#fdca26\"],[1.0,\"#f0f921\"]]}],\"contourcarpet\":[{\"type\":\"contourcarpet\",\"colorbar\":{\"outlinewidth\":0,\"ticks\":\"\"}}],\"contour\":[{\"type\":\"contour\",\"colorbar\":{\"outlinewidth\":0,\"ticks\":\"\"},\"colorscale\":[[0.0,\"#0d0887\"],[0.1111111111111111,\"#46039f\"],[0.2222222222222222,\"#7201a8\"],[0.3333333333333333,\"#9c179e\"],[0.4444444444444444,\"#bd3786\"],[0.5555555555555556,\"#d8576b\"],[0.6666666666666666,\"#ed7953\"],[0.7777777777777778,\"#fb9f3a\"],[0.8888888888888888,\"#fdca26\"],[1.0,\"#f0f921\"]]}],\"surface\":[{\"type\":\"surface\",\"colorbar\":{\"outlinewidth\":0,\"ticks\":\"\"},\"colorscale\":[[0.0,\"#0d0887\"],[0.1111111111111111,\"#46039f\"],[0.2222222222222222,\"#7201a8\"],[0.3333333333333333,\"#9c179e\"],[0.4444444444444444,\"#bd3786\"],[0.5555555555555556,\"#d8576b\"],[0.6666666666666666,\"#ed7953\"],[0.7777777777777778,\"#fb9f3a\"],[0.8888888888888888,\"#fdca26\"],[1.0,\"#f0f921\"]]}],\"mesh3d\":[{\"type\":\"mesh3d\",\"colorbar\":{\"outlinewidth\":0,\"ticks\":\"\"}}],\"scatter\":[{\"fillpattern\":{\"fillmode\":\"overlay\",\"size\":10,\"solidity\":0.2},\"type\":\"scatter\"}],\"parcoords\":[{\"type\":\"parcoords\",\"line\":{\"colorbar\":{\"outlinewidth\":0,\"ticks\":\"\"}}}],\"scatterpolargl\":[{\"type\":\"scatterpolargl\",\"marker\":{\"colorbar\":{\"outlinewidth\":0,\"ticks\":\"\"}}}],\"bar\":[{\"error_x\":{\"color\":\"#2a3f5f\"},\"error_y\":{\"color\":\"#2a3f5f\"},\"marker\":{\"line\":{\"color\":\"#E5ECF6\",\"width\":0.5},\"pattern\":{\"fillmode\":\"overlay\",\"size\":10,\"solidity\":0.2}},\"type\":\"bar\"}],\"scattergeo\":[{\"type\":\"scattergeo\",\"marker\":{\"colorbar\":{\"outlinewidth\":0,\"ticks\":\"\"}}}],\"scatterpolar\":[{\"type\":\"scatterpolar\",\"marker\":{\"colorbar\":{\"outlinewidth\":0,\"ticks\":\"\"}}}],\"histogram\":[{\"marker\":{\"pattern\":{\"fillmode\":\"overlay\",\"size\":10,\"solidity\":0.2}},\"type\":\"histogram\"}],\"scattergl\":[{\"type\":\"scattergl\",\"marker\":{\"colorbar\":{\"outlinewidth\":0,\"ticks\":\"\"}}}],\"scatter3d\":[{\"type\":\"scatter3d\",\"line\":{\"colorbar\":{\"outlinewidth\":0,\"ticks\":\"\"}},\"marker\":{\"colorbar\":{\"outlinewidth\":0,\"ticks\":\"\"}}}],\"scattermapbox\":[{\"type\":\"scattermapbox\",\"marker\":{\"colorbar\":{\"outlinewidth\":0,\"ticks\":\"\"}}}],\"scatterternary\":[{\"type\":\"scatterternary\",\"marker\":{\"colorbar\":{\"outlinewidth\":0,\"ticks\":\"\"}}}],\"scattercarpet\":[{\"type\":\"scattercarpet\",\"marker\":{\"colorbar\":{\"outlinewidth\":0,\"ticks\":\"\"}}}],\"carpet\":[{\"aaxis\":{\"endlinecolor\":\"#2a3f5f\",\"gridcolor\":\"white\",\"linecolor\":\"white\",\"minorgridcolor\":\"white\",\"startlinecolor\":\"#2a3f5f\"},\"baxis\":{\"endlinecolor\":\"#2a3f5f\",\"gridcolor\":\"white\",\"linecolor\":\"white\",\"minorgridcolor\":\"white\",\"startlinecolor\":\"#2a3f5f\"},\"type\":\"carpet\"}],\"table\":[{\"cells\":{\"fill\":{\"color\":\"#EBF0F8\"},\"line\":{\"color\":\"white\"}},\"header\":{\"fill\":{\"color\":\"#C8D4E3\"},\"line\":{\"color\":\"white\"}},\"type\":\"table\"}],\"barpolar\":[{\"marker\":{\"line\":{\"color\":\"#E5ECF6\",\"width\":0.5},\"pattern\":{\"fillmode\":\"overlay\",\"size\":10,\"solidity\":0.2}},\"type\":\"barpolar\"}],\"pie\":[{\"automargin\":true,\"type\":\"pie\"}]},\"layout\":{\"autotypenumbers\":\"strict\",\"colorway\":[\"#636efa\",\"#EF553B\",\"#00cc96\",\"#ab63fa\",\"#FFA15A\",\"#19d3f3\",\"#FF6692\",\"#B6E880\",\"#FF97FF\",\"#FECB52\"],\"font\":{\"color\":\"#2a3f5f\"},\"hovermode\":\"closest\",\"hoverlabel\":{\"align\":\"left\"},\"paper_bgcolor\":\"white\",\"plot_bgcolor\":\"#E5ECF6\",\"polar\":{\"bgcolor\":\"#E5ECF6\",\"angularaxis\":{\"gridcolor\":\"white\",\"linecolor\":\"white\",\"ticks\":\"\"},\"radialaxis\":{\"gridcolor\":\"white\",\"linecolor\":\"white\",\"ticks\":\"\"}},\"ternary\":{\"bgcolor\":\"#E5ECF6\",\"aaxis\":{\"gridcolor\":\"white\",\"linecolor\":\"white\",\"ticks\":\"\"},\"baxis\":{\"gridcolor\":\"white\",\"linecolor\":\"white\",\"ticks\":\"\"},\"caxis\":{\"gridcolor\":\"white\",\"linecolor\":\"white\",\"ticks\":\"\"}},\"coloraxis\":{\"colorbar\":{\"outlinewidth\":0,\"ticks\":\"\"}},\"colorscale\":{\"sequential\":[[0.0,\"#0d0887\"],[0.1111111111111111,\"#46039f\"],[0.2222222222222222,\"#7201a8\"],[0.3333333333333333,\"#9c179e\"],[0.4444444444444444,\"#bd3786\"],[0.5555555555555556,\"#d8576b\"],[0.6666666666666666,\"#ed7953\"],[0.7777777777777778,\"#fb9f3a\"],[0.8888888888888888,\"#fdca26\"],[1.0,\"#f0f921\"]],\"sequentialminus\":[[0.0,\"#0d0887\"],[0.1111111111111111,\"#46039f\"],[0.2222222222222222,\"#7201a8\"],[0.3333333333333333,\"#9c179e\"],[0.4444444444444444,\"#bd3786\"],[0.5555555555555556,\"#d8576b\"],[0.6666666666666666,\"#ed7953\"],[0.7777777777777778,\"#fb9f3a\"],[0.8888888888888888,\"#fdca26\"],[1.0,\"#f0f921\"]],\"diverging\":[[0,\"#8e0152\"],[0.1,\"#c51b7d\"],[0.2,\"#de77ae\"],[0.3,\"#f1b6da\"],[0.4,\"#fde0ef\"],[0.5,\"#f7f7f7\"],[0.6,\"#e6f5d0\"],[0.7,\"#b8e186\"],[0.8,\"#7fbc41\"],[0.9,\"#4d9221\"],[1,\"#276419\"]]},\"xaxis\":{\"gridcolor\":\"white\",\"linecolor\":\"white\",\"ticks\":\"\",\"title\":{\"standoff\":15},\"zerolinecolor\":\"white\",\"automargin\":true,\"zerolinewidth\":2},\"yaxis\":{\"gridcolor\":\"white\",\"linecolor\":\"white\",\"ticks\":\"\",\"title\":{\"standoff\":15},\"zerolinecolor\":\"white\",\"automargin\":true,\"zerolinewidth\":2},\"scene\":{\"xaxis\":{\"backgroundcolor\":\"#E5ECF6\",\"gridcolor\":\"white\",\"linecolor\":\"white\",\"showbackground\":true,\"ticks\":\"\",\"zerolinecolor\":\"white\",\"gridwidth\":2},\"yaxis\":{\"backgroundcolor\":\"#E5ECF6\",\"gridcolor\":\"white\",\"linecolor\":\"white\",\"showbackground\":true,\"ticks\":\"\",\"zerolinecolor\":\"white\",\"gridwidth\":2},\"zaxis\":{\"backgroundcolor\":\"#E5ECF6\",\"gridcolor\":\"white\",\"linecolor\":\"white\",\"showbackground\":true,\"ticks\":\"\",\"zerolinecolor\":\"white\",\"gridwidth\":2}},\"shapedefaults\":{\"line\":{\"color\":\"#2a3f5f\"}},\"annotationdefaults\":{\"arrowcolor\":\"#2a3f5f\",\"arrowhead\":0,\"arrowwidth\":1},\"geo\":{\"bgcolor\":\"white\",\"landcolor\":\"#E5ECF6\",\"subunitcolor\":\"white\",\"showland\":true,\"showlakes\":true,\"lakecolor\":\"white\"},\"title\":{\"x\":0.05},\"mapbox\":{\"style\":\"light\"}}},\"title\":{\"text\":\"Daily Sentiment Trends and Tweet Activity for PCOS-related posts (October)\"},\"xaxis\":{\"title\":{\"text\":\"Day\"}},\"yaxis\":{\"title\":{\"text\":\"Number of Tweets\"}},\"barmode\":\"stack\",\"legend\":{\"title\":{\"text\":\"Sentiment\"}},\"hovermode\":\"x unified\"},                        {\"responsive\": true}                    ).then(function(){\n",
       "                            \n",
       "var gd = document.getElementById('e5e9c719-30d2-4828-8001-6c5439eb9aaf');\n",
       "var x = new MutationObserver(function (mutations, observer) {{\n",
       "        var display = window.getComputedStyle(gd).display;\n",
       "        if (!display || display === 'none') {{\n",
       "            console.log([gd, 'removed!']);\n",
       "            Plotly.purge(gd);\n",
       "            observer.disconnect();\n",
       "        }}\n",
       "}});\n",
       "\n",
       "// Listen for the removal of the full notebook cells\n",
       "var notebookContainer = gd.closest('#notebook-container');\n",
       "if (notebookContainer) {{\n",
       "    x.observe(notebookContainer, {childList: true});\n",
       "}}\n",
       "\n",
       "// Listen for the clearing of the current output cell\n",
       "var outputEl = gd.closest('.output');\n",
       "if (outputEl) {{\n",
       "    x.observe(outputEl, {childList: true});\n",
       "}}\n",
       "\n",
       "                        })                };                });            </script>        </div>"
      ]
     },
     "metadata": {},
     "output_type": "display_data"
    }
   ],
   "source": [
    "# Ensure Date column is in datetime format\n",
    "pcos_related['Date'] = pd.to_datetime(pcos_related['Date'], errors='coerce')\n",
    "pcos_related['Day'] = pcos_related['Date'].dt.date  # Extract the day for daily analysis\n",
    "\n",
    "# Function to create a graph for a specific month\n",
    "def create_monthly_graph(month_data, month_name):\n",
    "    # Group by Day and Sentiment for stacked bar data\n",
    "    sentiment_daily = month_data.groupby(['Day', 'Sentiment']).size().unstack(fill_value=0)\n",
    "\n",
    "    # Calculate total tweets per day\n",
    "    total_tweets_daily = sentiment_daily.sum(axis=1)\n",
    "\n",
    "    # Extract top 5 hashtags per day\n",
    "    top_hashtags_daily = (\n",
    "        month_data.explode('Hashtags')\n",
    "        .groupby('Day')['Hashtags']\n",
    "        .apply(lambda x: x.value_counts().head(5).index.tolist())\n",
    "        .to_dict()\n",
    "    )\n",
    "\n",
    "    # Create a Plotly figure\n",
    "    fig = go.Figure()\n",
    "\n",
    "    # Define colors for each sentiment\n",
    "    colors = {'Positive': 'lightgreen', 'Neutral': 'lightblue', 'Negative': 'lightcoral'}\n",
    "\n",
    "    # Add stacked bar for sentiments (no text inside bars)\n",
    "    for sentiment in sentiment_daily.columns:\n",
    "        fig.add_trace(go.Bar(\n",
    "            x=sentiment_daily.index.astype(str),  # Convert date to string for Plotly\n",
    "            y=sentiment_daily[sentiment],\n",
    "            name=sentiment,\n",
    "            marker_color=colors[sentiment],\n",
    "            hoverinfo=\"text\",  # Hover functionality remains\n",
    "            textposition=\"none\",  # No text inside the bars\n",
    "            # Hover text will now show sentiment count only (no total tweets)\n",
    "            text=[\n",
    "                f\"{sentiment}: {value}\"  # Only sentiment counts in hover text\n",
    "                for day, value in zip(sentiment_daily.index, sentiment_daily[sentiment])\n",
    "            ]\n",
    "        ))\n",
    "\n",
    "    # Add a line for total daily frequency\n",
    "    fig.add_trace(go.Scatter(\n",
    "        x=total_tweets_daily.index.astype(str),\n",
    "        y=total_tweets_daily,\n",
    "        mode='lines+markers',\n",
    "        name='Total Tweets',\n",
    "        line=dict(color='black', width=2),\n",
    "        hoverinfo='text',\n",
    "        # Show top 5 hashtags for each day, without the total tweet count\n",
    "        text=[\n",
    "            f\"Top 5 hashtags:<br>{'<br>'.join(top_hashtags_daily.get(day, []))}\"\n",
    "            for day in total_tweets_daily.index\n",
    "        ]\n",
    "    ))\n",
    "\n",
    "    # Layout adjustments\n",
    "    fig.update_layout(\n",
    "        title=f\"Daily Sentiment Trends and Tweet Activity for PCOS-related posts ({month_name})\",\n",
    "        xaxis_title=\"Day\",\n",
    "        yaxis_title=\"Number of Tweets\",\n",
    "        barmode=\"stack\",\n",
    "        legend_title=\"Sentiment\",\n",
    "        hovermode=\"x unified\"\n",
    "    )\n",
    "\n",
    "    return fig\n",
    "\n",
    "# Filter data for each month\n",
    "august_data = pcos_related[pcos_related['Date'].dt.month == 8]\n",
    "september_data = pcos_related[pcos_related['Date'].dt.month == 9]\n",
    "october_data = pcos_related[pcos_related['Date'].dt.month == 10]\n",
    "\n",
    "# Create graphs for each month\n",
    "fig_august = create_monthly_graph(august_data, \"August\")\n",
    "fig_september = create_monthly_graph(september_data, \"September\")\n",
    "fig_october = create_monthly_graph(october_data, \"October\")\n",
    "\n",
    "# Display the graphs\n",
    "fig_august.show()\n",
    "fig_september.show()\n",
    "fig_october.show()"
   ]
  },
  {
   "cell_type": "markdown",
   "id": "16a1debf-7060-481e-8115-f17efdd2d249",
   "metadata": {},
   "source": [
    "#### Graphs about Hashtags\n"
   ]
  },
  {
   "cell_type": "code",
   "execution_count": 206,
   "id": "52f3e2ae-bf9f-41c1-9da3-89d93a332a60",
   "metadata": {},
   "outputs": [
    {
     "data": {
      "image/png": "[encoded data removed]",
      "text/plain": [
       "<Figure size 1000x1000 with 2 Axes>"
      ]
     },
     "metadata": {},
     "output_type": "display_data"
    }
   ],
   "source": [
    "from matplotlib.cm import get_cmap\n",
    "\n",
    "paired_colors = plt.cm.Paired.colors\n",
    "hashtags = top_hashtags_df2['Hashtag'].tolist()\n",
    "hashtag_colors = {hashtag: paired_colors[i % len(paired_colors)] for i, hashtag in enumerate(hashtags)}\n",
    "\n",
    "fig, axes = plt.subplots(2, 1, figsize=(10, 10))  \n",
    "\n",
    "#Bar chart \n",
    "axes[0].bar(top_hashtags_df2['Hashtag'], top_hashtags_df2['Frequency'], \n",
    "            color=[hashtag_colors[hashtag] for hashtag in top_hashtags_df2['Hashtag']])\n",
    "axes[0].set_title('Top 10 Hashtags Related to PCOS', fontsize=12)\n",
    "axes[0].set_xlabel('Hashtags', fontsize=10)\n",
    "axes[0].set_ylabel('Frequency', fontsize=10)\n",
    "axes[0].tick_params(axis='x', rotation=45, labelsize=8)\n",
    "\n",
    "#Line plot \n",
    "for hashtag in hashtags:\n",
    "    if hashtag in top_hashtag_counts_over_time.columns:\n",
    "        axes[1].plot(top_hashtag_counts_over_time.index, \n",
    "                     top_hashtag_counts_over_time[hashtag], \n",
    "                     label=hashtag, \n",
    "                     color=hashtag_colors[hashtag], \n",
    "                     marker='o')\n",
    "\n",
    "axes[1].set_title('Frequency of Top PCOS-related Hashtags Over Time', fontsize=12)\n",
    "axes[1].set_xlabel('Month', fontsize=10)\n",
    "axes[1].set_ylabel('Frequency', fontsize=10)\n",
    "axes[1].legend(title='Hashtags', fontsize=8, loc='upper left', bbox_to_anchor=(1, 1))  \n",
    "\n",
    "plt.tight_layout(pad=2.0)\n",
    "plt.show()\n"
   ]
  },
  {
   "cell_type": "markdown",
   "id": "2e41eb31-5d9f-4961-b894-b61b26dc3c62",
   "metadata": {},
   "source": [
    "#### Graph showing the overall Sentiment Distribution"
   ]
  },
  {
   "cell_type": "code",
   "execution_count": 207,
   "id": "5e4d64c7-6062-4c40-9bfe-a05d14fee634",
   "metadata": {},
   "outputs": [
    {
     "data": {
      "image/png": "[encoded data removed]",
      "text/plain": [
       "<Figure size 600x600 with 1 Axes>"
      ]
     },
     "metadata": {},
     "output_type": "display_data"
    }
   ],
   "source": [
    "sentiment_counts = pcos_related['Sentiment'].value_counts()\n",
    "\n",
    "plt.figure(figsize=(6, 6))\n",
    "plt.pie(\n",
    "    sentiment_counts, \n",
    "    labels=sentiment_counts.index, \n",
    "    autopct='%1.1f%%', \n",
    "    startangle=140, \n",
    "    colors=['lightgreen', 'lightcoral', 'lightblue']\n",
    ")\n",
    "\n",
    "plt.legend(\n",
    "    labels=[f\"{label}: {count}\" for label, count in zip(sentiment_counts.index, sentiment_counts)], \n",
    "    title=\"Sentiment Counts\", \n",
    "    loc='center left', \n",
    "    bbox_to_anchor=(1, 0.5)  \n",
    ")\n",
    "\n",
    "plt.title('Overall Sentiment Distribution for PCOS-Related Tweets over 3 months')\n",
    "plt.show()"
   ]
  }
 ],
 "metadata": {
  "kernelspec": {
   "display_name": "Python 3 (ipykernel)",
   "language": "python",
   "name": "python3"
  },
  "language_info": {
   "codemirror_mode": {
    "name": "ipython",
    "version": 3
   },
   "file_extension": ".py",
   "mimetype": "text/x-python",
   "name": "python",
   "nbconvert_exporter": "python",
   "pygments_lexer": "ipython3",
   "version": "3.12.7"
  }
 },
 "nbformat": 4,
 "nbformat_minor": 5
}
